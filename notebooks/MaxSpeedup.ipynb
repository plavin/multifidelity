{
 "cells": [
  {
   "cell_type": "markdown",
   "id": "be3ba41e",
   "metadata": {},
   "source": [
    "# MaxSpeedup"
   ]
  },
  {
   "cell_type": "code",
   "execution_count": 1,
   "id": "84418de2",
   "metadata": {},
   "outputs": [],
   "source": [
    "# Standard packages\n",
    "import pickle\n",
    "import matplotlib.pyplot as plt\n",
    "import numpy as np\n",
    "from matplotlib import collections  as mc\n",
    "import statistics\n",
    "\n",
    "# Local packages\n",
    "from simulate import *"
   ]
  },
  {
   "cell_type": "code",
   "execution_count": 51,
   "id": "d13f5109",
   "metadata": {},
   "outputs": [],
   "source": [
    "#double dispatch\n",
    "experiments = ['Jun-29-5', 'Jun-29-6', 'Jun-30-0', 'Jun-30-1', 'Jun-30-2']\n",
    "\n",
    "norm = []\n",
    "for directory in experiments:\n",
    "    with open(f'/net/netscratch/plavin3/experiment-results/{directory}/SimStats.pkl', 'rb') as file:\n",
    "        norm.append(pickle.load(file))"
   ]
  },
  {
   "cell_type": "code",
   "execution_count": 100,
   "id": "22c1c343",
   "metadata": {},
   "outputs": [],
   "source": [
    "# double dispatch\n",
    "mfexperiments = ['Jun-30-3', 'Jun-30-4', 'Jun-30-5', 'Jun-30-6', 'Jun-30-7']\n",
    "\n",
    "mf = []\n",
    "for directory in mfexperiments:\n",
    "    with open(f'/net/netscratch/plavin3/experiment-results/{directory}/SimStats.pkl', 'rb') as file:\n",
    "        mf.append(pickle.load(file))"
   ]
  },
  {
   "cell_type": "code",
   "execution_count": 114,
   "id": "37fdab4c",
   "metadata": {},
   "outputs": [
    {
     "name": "stdout",
     "output_type": "stream",
     "text": [
      "\\begin{tabular}{lrrrrr}\n",
      "\\toprule\n",
      "      benchmark &  time(ariel) &  time(memH) &  time(Parrot) &  MPS &  A-MPS \\\\\n",
      "\\midrule\n",
      "            2mm &      2418.17 &     4007.74 &        465.62 & 2.66 &   2.23 \\\\\n",
      "            3mm &      2125.32 &     3604.09 &        417.44 & 2.70 &   2.25 \\\\\n",
      "            adi &      1489.42 &     2260.56 &        275.69 & 2.52 &   2.12 \\\\\n",
      "           atax &        71.03 &      109.22 &         13.80 & 2.54 &   2.12 \\\\\n",
      "           bicg &        69.43 &      100.47 &         13.11 & 2.45 &   2.06 \\\\\n",
      "       cholesky &      1296.58 &     1742.86 &        236.74 & 2.34 &   1.98 \\\\\n",
      "    correlation &      1877.55 &     3278.77 &        334.69 & 2.75 &   2.33 \\\\\n",
      "     covariance &      1852.30 &     3196.09 &        325.89 & 2.73 &   2.32 \\\\\n",
      "        deriche &       800.28 &     1182.60 &        142.24 & 2.48 &   2.10 \\\\\n",
      "        doitgen &      1944.98 &     2904.72 &        355.72 & 2.49 &   2.11 \\\\\n",
      "         durbin &        34.00 &       58.04 &          7.05 & 2.71 &   2.24 \\\\\n",
      "        fdtd-2d &      1578.39 &     2296.50 &        296.15 & 2.45 &   2.07 \\\\\n",
      " floyd-warshall &      2259.06 &     3122.27 &        430.24 & 2.38 &   2.00 \\\\\n",
      "           gemm &      2132.90 &     2695.64 &        384.02 & 2.26 &   1.92 \\\\\n",
      "         gemver &       132.38 &      209.96 &         25.96 & 2.59 &   2.16 \\\\\n",
      "        gesummv &        26.05 &       39.97 &          5.02 & 2.53 &   2.12 \\\\\n",
      "    gramschmidt &      1739.03 &     3300.87 &        330.91 & 2.90 &   2.43 \\\\\n",
      "        heat-3d &      1295.96 &     1550.21 &        217.31 & 2.20 &   1.88 \\\\\n",
      "      jacobi-1d &        18.99 &       28.18 &          3.53 & 2.48 &   2.09 \\\\\n",
      "      jacobi-2d &      2144.12 &     3135.47 &        415.04 & 2.46 &   2.06 \\\\\n",
      "             lu &      1300.37 &     2196.92 &        250.44 & 2.69 &   2.26 \\\\\n",
      "         ludcmp &      1551.79 &     2854.33 &        304.74 & 2.84 &   2.37 \\\\\n",
      "            mvt &        72.94 &      125.01 &         14.53 & 2.71 &   2.26 \\\\\n",
      "       nussinov &      2327.72 &     3796.01 &        450.41 & 2.63 &   2.20 \\\\\n",
      "      seidel-2d &      1308.19 &     1797.04 &        246.35 & 2.37 &   2.00 \\\\\n",
      "           symm &      1690.12 &     3023.76 &        331.05 & 2.79 &   2.33 \\\\\n",
      "          syr2k &      1619.18 &     2855.17 &        314.99 & 2.76 &   2.31 \\\\\n",
      "           syrk &      1626.11 &     2702.28 &        308.13 & 2.66 &   2.24 \\\\\n",
      "        trisolv &        18.10 &       28.98 &          3.55 & 2.60 &   2.17 \\\\\n",
      "           trmm &      1372.07 &     2554.15 &        262.74 & 2.86 &   2.40 \\\\\n",
      "           mean &      1273.08 &     2025.26 &        239.44 & 2.58 &   2.17 \\\\\n",
      "\\bottomrule\n",
      "\\end{tabular}\n",
      "\n",
      "--------------\n",
      "\\begin{tabular}{lrrr}\n",
      "\\toprule\n",
      "      benchmark &  time(ariel) &  time(memH) &  MPS \\\\\n",
      "\\midrule\n",
      "            2mm &      2418.17 &     4007.74 & 2.66 \\\\\n",
      "            3mm &      2125.32 &     3604.09 & 2.70 \\\\\n",
      "            adi &      1489.42 &     2260.56 & 2.52 \\\\\n",
      "           atax &        71.03 &      109.22 & 2.54 \\\\\n",
      "           bicg &        69.43 &      100.47 & 2.45 \\\\\n",
      "       cholesky &      1296.58 &     1742.86 & 2.34 \\\\\n",
      "    correlation &      1877.55 &     3278.77 & 2.75 \\\\\n",
      "     covariance &      1852.30 &     3196.09 & 2.73 \\\\\n",
      "        deriche &       800.28 &     1182.60 & 2.48 \\\\\n",
      "        doitgen &      1944.98 &     2904.72 & 2.49 \\\\\n",
      "         durbin &        34.00 &       58.04 & 2.71 \\\\\n",
      "        fdtd-2d &      1578.39 &     2296.50 & 2.45 \\\\\n",
      " floyd-warshall &      2259.06 &     3122.27 & 2.38 \\\\\n",
      "           gemm &      2132.90 &     2695.64 & 2.26 \\\\\n",
      "         gemver &       132.38 &      209.96 & 2.59 \\\\\n",
      "        gesummv &        26.05 &       39.97 & 2.53 \\\\\n",
      "    gramschmidt &      1739.03 &     3300.87 & 2.90 \\\\\n",
      "        heat-3d &      1295.96 &     1550.21 & 2.20 \\\\\n",
      "      jacobi-1d &        18.99 &       28.18 & 2.48 \\\\\n",
      "      jacobi-2d &      2144.12 &     3135.47 & 2.46 \\\\\n",
      "             lu &      1300.37 &     2196.92 & 2.69 \\\\\n",
      "         ludcmp &      1551.79 &     2854.33 & 2.84 \\\\\n",
      "            mvt &        72.94 &      125.01 & 2.71 \\\\\n",
      "       nussinov &      2327.72 &     3796.01 & 2.63 \\\\\n",
      "      seidel-2d &      1308.19 &     1797.04 & 2.37 \\\\\n",
      "           symm &      1690.12 &     3023.76 & 2.79 \\\\\n",
      "          syr2k &      1619.18 &     2855.17 & 2.76 \\\\\n",
      "           syrk &      1626.11 &     2702.28 & 2.66 \\\\\n",
      "        trisolv &        18.10 &       28.98 & 2.60 \\\\\n",
      "           trmm &      1372.07 &     2554.15 & 2.86 \\\\\n",
      "           mean &      1273.08 &     2025.26 & 2.58 \\\\\n",
      "\\bottomrule\n",
      "\\end{tabular}\n",
      "\n"
     ]
    }
   ],
   "source": [
    "def get_time_ariel(df):\n",
    "    clocks = df.profile[0]['ClockStats']\n",
    "    ariel_time = list(clocks[clocks['Name']=='ariel.ariel'][' handler time (s)'])[0]\n",
    "    bus_time = list(clocks[clocks['Name']=='memHierarchy.Bus'][' handler time (s)'])[0]\n",
    "    cache_time = list(clocks[clocks['Name']=='memHierarchy.Cache'][' handler time (s)'])[0]\n",
    "    memcontroller_time = list(clocks[clocks['Name']=='memHierarchy.MemController'][' handler time (s)'])[0]\n",
    "    parrot_time = list(clocks[clocks['Name']=='memHierarchy.Parrot'][' handler time (s)'])[0]\n",
    "    \n",
    "    #print(ariel_time, bus_time, cache_time, memcontroller_time, parrot_time)\n",
    "    return (ariel_time, bus_time + cache_time + memcontroller_time, parrot_time)\n",
    "\n",
    "    \n",
    "def fun1(df):\n",
    "    \n",
    "    new_df = pd.DataFrame(columns = ['benchmark', 'time(ariel)', 'time(memH)', 'time(Parrot)', 'MPS', 'A-MPS'])\n",
    "    for bench in sorted(df.keys()):\n",
    "        gta = get_time_ariel(df[bench])\n",
    "        max_potential_speedup = (gta[0]+gta[1]) / gta[0]\n",
    "        adjusted_mps = (gta[0]+gta[1]) / (gta[0]+gta[2])\n",
    "        new_df = new_df.append({'benchmark':bench, \n",
    "                       'time(ariel)':gta[0],\n",
    "                       'time(memH)':gta[1],\n",
    "                       'time(Parrot)':gta[2],\n",
    "                       'MPS': max_potential_speedup,\n",
    "                       'A-MPS': adjusted_mps}, ignore_index=True)\n",
    "    \n",
    "    average = list(new_df.mean())\n",
    "    new_df = new_df.append({'benchmark':'mean', \n",
    "                       'time(ariel)':average[0],\n",
    "                       'time(memH)':average[1],\n",
    "                       'time(Parrot)':average[2],\n",
    "                       'MPS': average[3],\n",
    "                       'A-MPS': average[4]}, ignore_index=True)\n",
    "\n",
    "    return(new_df)\n",
    "\n",
    "\n",
    "\n",
    "aggregate = fun1(norm[0].st)\n",
    "print(aggregate.to_latex(float_format=\"%.2f\", index=False))\n",
    "print('--------------')\n",
    "# Drop a few columns for now\n",
    "dropped = aggregate[['benchmark', 'time(ariel)', 'time(memH)', 'MPS']]\n",
    "print(dropped.to_latex(float_format=\"%.2f\", index=False))"
   ]
  },
  {
   "cell_type": "code",
   "execution_count": 109,
   "id": "265e0941",
   "metadata": {},
   "outputs": [
    {
     "name": "stdout",
     "output_type": "stream",
     "text": [
      "         benchmark  time(ariel)   time(memH)  time(Parrot)       MPS     A-MPS\n",
      "0              2mm  1959.236524  1154.738138    399.340353  1.589382  1.320277\n",
      "1              3mm  2142.804014  3424.887911    455.824806  2.598321  2.142550\n",
      "2              adi  1471.288464  2163.722926    299.075997  2.470631  2.053256\n",
      "3             atax    80.104645   116.180745     16.852090  2.450362  2.024464\n",
      "4             bicg    72.841157   100.988606     15.316239  2.386422  1.971811\n",
      "5         cholesky  1247.195742  1724.424299    269.481822  2.382641  1.959296\n",
      "6      correlation  1419.860170   210.373217    237.676742  1.148165  0.983528\n",
      "7       covariance  1419.719232   250.572016    237.298197  1.176494  1.008011\n",
      "8          deriche   775.540047  1168.601397    177.256356  2.506823  2.040458\n",
      "9          doitgen  1519.102260   253.331000    263.266329  1.166764  0.994426\n",
      "10          durbin    38.165963    57.931460      9.444699  2.517883  2.018401\n",
      "11         fdtd-2d  1645.812052  2184.580451    327.521237  2.327357  1.941077\n",
      "12  floyd-warshall  1953.504826  2188.608119    455.682231  2.120349  1.719299\n",
      "13            gemm  1756.132927   201.125137    291.184799  1.114527  0.956011\n",
      "14          gemver   131.606218   205.776038     31.648672  2.563574  2.066598\n",
      "15         gesummv    28.674940    40.498166      6.740171  2.412319  1.953209\n",
      "16     gramschmidt  1399.790953   243.439321    245.239564  1.173911  0.998906\n",
      "17         heat-3d  1111.397418   898.156335    210.785453  1.808132  1.519876\n",
      "18       jacobi-1d    18.236769    28.861601      4.658528  2.582605  2.057120\n",
      "19       jacobi-2d  1723.319706   317.730826    308.987748  1.184371  1.004302\n",
      "20              lu  1257.009575  2103.049751    266.601757  2.673058  2.205326\n",
      "21          ludcmp  1563.627620  2643.666495    358.239609  2.690726  2.189170\n",
      "22             mvt    76.233063   122.118400     18.841357  2.601909  2.086276\n",
      "23        nussinov  2394.074647  3803.736420    582.272148  2.588813  2.082355\n",
      "24       seidel-2d  1379.777210  1743.940150    300.977468  2.263929  1.858521\n",
      "25            symm  1499.781994   360.740731    238.671450  1.240529  1.070217\n",
      "26           syr2k  1404.241639   255.093135    222.352125  1.181659  1.020129\n",
      "27            syrk  1654.337030  2775.061071    402.382262  2.677446  2.153623\n",
      "28         trisolv    20.429355    29.818478      4.706727  2.459590  1.999032\n",
      "29            trmm  1146.059601   214.866900    180.690942  1.187483  1.025759\n",
      "30            mean  1143.663525  1032.887308    227.967263  2.041539  1.680776\n"
     ]
    },
    {
     "data": {
      "text/plain": [
       "1.108288569765201"
      ]
     },
     "execution_count": 109,
     "metadata": {},
     "output_type": "execute_result"
    }
   ],
   "source": [
    "aggregate = fun1(mf[1].st)\n",
    "print(aggregate)\n",
    "# Drop a few columns for now\n",
    "#dropped = aggregate[['benchmark', 'time(ariel)', 'time(memH)', 'MPS']]\n",
    "#print(dropped.to_latex(float_format=\"%.2f\", index=False))\n",
    "\n",
    "((aggregate['time(ariel)'] + aggregate['time(memH)'] + aggregate['time(Parrot)'])/(aggregate['time(ariel)'] + aggregate['time(memH)'])).mean()"
   ]
  },
  {
   "cell_type": "code",
   "execution_count": 112,
   "id": "047a894f",
   "metadata": {},
   "outputs": [
    {
     "data": {
      "text/plain": [
       "2.0415391858142415"
      ]
     },
     "execution_count": 112,
     "metadata": {},
     "output_type": "execute_result"
    }
   ],
   "source": [
    "np.(aggregate['MPS'])"
   ]
  },
  {
   "cell_type": "code",
   "execution_count": 9,
   "id": "c895e344",
   "metadata": {},
   "outputs": [
    {
     "data": {
      "image/png": "[encoded data removed]",
      "text/plain": [
       "<Figure size 1080x216 with 1 Axes>"
      ]
     },
     "metadata": {
      "needs_background": "light"
     },
     "output_type": "display_data"
    }
   ],
   "source": [
    "x = np.arange(len(names))\n",
    "width = 0.25\n",
    "fig, ax = plt.subplots()\n",
    "ax.bar(x-width/2, y_norm_ipc, width, color='lightgrey', label='Normal', edgecolor='black')\n",
    "ax.bar(x+width/2, y_mf_ipc, width, color='black', label='Multidelity', edgecolor='black')\n",
    "#ax.bar(x+width, y_mfn_ipc, width, color='lightblue', label='Multidelity New', edgecolor='black')\n",
    "\n",
    "ax.set_xticks(x)\n",
    "ax.set_xticklabels(names, rotation=45, ha='right')\n",
    "ax.set_ylim((0,2))\n",
    "ax.set_ylabel('IPC', rotation=90)\n",
    "ax.set_title('IPC (Normal vs. Multifidelity)')\n",
    "ax.autoscale()\n",
    "plt.legend()\n",
    "\n",
    "#ax.yaxis.set_label_coords(-.07, 0.96)\n",
    "nyticks = 11\n",
    "ax.set_yticks([(2/(nyticks-1))*x for x in np.arange(nyticks)])\n",
    "fig.set_size_inches((15,3))\n",
    "fig.savefig('plots/ipc-normal-vs-mf.png')\n",
    "#plt.tight_layout()"
   ]
  },
  {
   "cell_type": "code",
   "execution_count": 10,
   "id": "7f421f39",
   "metadata": {},
   "outputs": [
    {
     "name": "stdout",
     "output_type": "stream",
     "text": [
      "Percent error\n",
      "\n",
      "0  jacobi-1d      -02.00%\n",
      "1  trisolv         00.39%\n",
      "2  gesummv        -01.03%\n",
      "3  durbin          00.08%\n",
      "4  bicg           -02.34%\n",
      "5  atax           -01.53%\n",
      "6  mvt             00.31%\n",
      "7  gemver         -01.20%\n",
      "8  trmm            02.46%\n",
      "9  seidel-2d       03.12%\n",
      "10 deriche         00.34%\n",
      "11 symm            04.07%\n",
      "12 covariance      01.50%\n",
      "13 correlation     06.51%\n",
      "14 gramschmidt     05.03%\n",
      "15 syr2k           00.93%\n",
      "16 heat-3d         03.17%\n",
      "17 doitgen         01.23%\n",
      "18 gemm            02.70%\n",
      "19 jacobi-2d       01.27%\n",
      "20 2mm            -01.46%\n",
      "21 cholesky       -06.05%\n",
      "22 lu             -08.84%\n",
      "23 fdtd-2d        -08.01%\n",
      "24 adi            -01.80%\n",
      "25 ludcmp          00.41%\n",
      "26 syrk           -02.58%\n",
      "27 floyd-warshall -03.75%\n",
      "28 3mm            -01.41%\n",
      "29 nussinov        03.48%\n",
      "\n",
      "MAPE: 2.63%\n"
     ]
    }
   ],
   "source": [
    "pct_err = []\n",
    "\n",
    "def p_err(approx, exact):\n",
    "    return (approx-exact)/exact * 100\n",
    "def mape(arr):\n",
    "    return np.mean(np.absolute(arr))\n",
    "\n",
    "print('Percent error\\n')\n",
    "name_len = max([len(name) for name in names])\n",
    "for (i, name) in enumerate(names):\n",
    "    pe = p_err(y_mf_ipc[i], y_norm_ipc[i])\n",
    "    pct_err.append(pe)\n",
    "    print(f'{i}'.ljust(2), f'{name}'.ljust(name_len), f'{pe: 06.2f}%')\n",
    "    \n",
    "print(f'\\nMAPE: {mape(pct_err):.2f}%')"
   ]
  },
  {
   "cell_type": "code",
   "execution_count": 11,
   "id": "db4f3d55",
   "metadata": {},
   "outputs": [
    {
     "name": "stdout",
     "output_type": "stream",
     "text": [
      "Speedup\n",
      "\n",
      "0  jacobi-1d         1.00\n",
      "1  trisolv           1.00\n",
      "2  gesummv           0.95\n",
      "3  durbin            0.99\n",
      "4  bicg              0.97\n",
      "5  atax              0.97\n",
      "6  mvt               1.00\n",
      "7  gemver            0.96\n",
      "8  trmm              2.49\n",
      "9  seidel-2d         1.92\n",
      "10 deriche           1.00\n",
      "11 symm              2.30\n",
      "12 covariance        2.45\n",
      "13 correlation       2.35\n",
      "14 gramschmidt       2.39\n",
      "15 syr2k             2.05\n",
      "16 heat-3d           1.29\n",
      "17 doitgen           2.20\n",
      "18 gemm              2.07\n",
      "19 jacobi-2d         2.07\n",
      "20 2mm               2.25\n",
      "21 cholesky          1.03\n",
      "22 lu                1.03\n",
      "23 fdtd-2d           1.06\n",
      "24 adi               1.01\n",
      "25 ludcmp            0.96\n",
      "26 syrk              0.99\n",
      "27 floyd-warshall    1.21\n",
      "28 3mm               0.97\n",
      "29 nussinov          0.93\n",
      "\n",
      "Average speedup: 1.46\n"
     ]
    }
   ],
   "source": [
    "# Speed up calculations\n",
    "mf_times_seconds = []\n",
    "norm_times_seconds = []\n",
    "for name in names:\n",
    "    mf_times_seconds.append(mf.st[name].times.real.mean/nu.s)\n",
    "    norm_times_seconds.append(norm.st[name].times.real.mean/nu.s)\n",
    "\n",
    "speedup = [((norm_times_seconds[i] / mf_times_seconds[i])) for i in range(len(names))]\n",
    "\n",
    "print('Speedup\\n')\n",
    "for i in range(len(names)):\n",
    "    print(f'{i}'.ljust(2), f'{names[i]}'.ljust(name_len), f'{speedup[i]: 7.2f}')\n",
    "\n",
    "print(f'\\nAverage speedup: {np.mean(speedup):.2f}')"
   ]
  },
  {
   "cell_type": "code",
   "execution_count": 46,
   "id": "faf5fb1c",
   "metadata": {},
   "outputs": [],
   "source": [
    "# Calculate speedup of the Memory simulation (subtract off Ariel time)\n",
    "\n",
    "def mean_ariel_time(data, name):\n",
    "    return np.mean([np.float(x['ClockStats'][x['ClockStats']['Name']=='ariel.ariel'][' handler time (s)']) for x in data.st[name].profile])\n",
    "\n",
    "mf_times_seconds_noariel = []\n",
    "norm_times_seconds_noariel = []\n",
    "for name in names:\n",
    "    mf_times_seconds_noariel.append(mf.st[name].times.real.mean/nu.s - mean_ariel_time(mf,name))\n",
    "    norm_times_seconds_noariel.append(norm.st[name].times.real.mean/nu.s - mean_ariel_time(norm,name))"
   ]
  },
  {
   "cell_type": "code",
   "execution_count": 14,
   "id": "053e5ddf",
   "metadata": {},
   "outputs": [
    {
     "data": {
      "text/plain": [
       "1082.829858"
      ]
     },
     "execution_count": 14,
     "metadata": {},
     "output_type": "execute_result"
    }
   ],
   "source": [
    "ariel_time = np.mean([np.float(x['ClockStats'][x['ClockStats']['Name']=='ariel.ariel'][' handler time (s)']) for x in mf.st['2mm'].profile])\n",
    "ariel_time"
   ]
  },
  {
   "cell_type": "code",
   "execution_count": 9,
   "id": "575f4cdc",
   "metadata": {},
   "outputs": [
    {
     "name": "stdout",
     "output_type": "stream",
     "text": [
      "Percent speedup without Ariel\n",
      "jacobi-1d     :  -9.61%\n",
      "trisolv       :  -6.21%\n",
      "gesummv       :  -9.76%\n",
      "durbin        :  -9.36%\n",
      "bicg          :  -4.81%\n",
      "atax          :  -2.53%\n",
      "mvt           :  -6.88%\n",
      "gemver        :  -5.18%\n",
      "heat-3d       :  86.44%\n",
      "ludcmp        : 131.90%\n",
      "syr2k         : 136.67%\n",
      "trmm          : 157.45%\n",
      "correlation   : 150.52%\n",
      "gramschmidt   : 149.37%\n",
      "symm          : 126.56%\n",
      "covariance    : 121.50%\n",
      "doitgen       : 109.49%\n",
      "gemm          : 116.09%\n",
      "jacobi-2d     : 118.08%\n",
      "floyd-warshall: 103.76%\n",
      "2mm           : 121.12%\n",
      "cholesky      :   0.58%\n",
      "seidel-2d     :   2.76%\n",
      "deriche       :   2.22%\n",
      "lu            :   2.21%\n",
      "adi           :   1.93%\n",
      "fdtd-2d       :   2.89%\n",
      "syrk          :   1.65%\n",
      "3mm           :   3.42%\n",
      "nussinov      :   2.13%\n"
     ]
    }
   ],
   "source": [
    "print('Percent speedup without Ariel')\n",
    "#TODO - also remove parrot time from norm runs\n",
    "\n",
    "speedup_pct = [((norm_times_seconds_noariel[i] / mf_times_seconds_noariel[i])-1)*100 for i in range(len(names))]\n",
    "\n",
    "for i, n in enumerate(names):\n",
    "    print(f'{n.ljust(14)}: {speedup_pct[i]:6.02f}%')"
   ]
  },
  {
   "cell_type": "code",
   "execution_count": 196,
   "id": "ce0bfe08",
   "metadata": {},
   "outputs": [
    {
     "data": {
      "text/plain": [
       "Profiler: ClockStats\n",
       "                         Name      count   handler time (s)  \\\n",
       "0                 ariel.ariel  199999999            254.418   \n",
       "1            memHierarchy.Bus   24576113             13.962   \n",
       "2          memHierarchy.Cache  155077942            331.588   \n",
       "3  memHierarchy.MemController   49999999            102.050   \n",
       "4         memHierarchy.Parrot   78646625             68.045   \n",
       "\n",
       "    avg. handler time (ns)  \n",
       "0                     1272  \n",
       "1                      568  \n",
       "2                     2138  \n",
       "3                     2041  \n",
       "4                      865  \n",
       "Profiler: EventStats\n",
       "                   Name   recv count   recv time (s)   avg. recv time (ns)\n",
       "0      memHierarchy.Bus      4725089           0.436                    92\n",
       "1  memHierarchy.MemLink    105901573         250.344                  2363\n",
       "2   memHierarchy.Parrot    100380124          42.935                   427\n",
       "Simulated time:\n",
       "  2.37 (+/-0.16) ms\n",
       "Wallclock Time:\n",
       "  Real: 30206.85 (+/-476.47) ms\n",
       "  User: 29819.93 (+/-351.34) ms\n",
       "  Sys:  290.94 (+/-122.06) ms\n",
       "Simulated IPC:\n",
       "  0.651 (+/-0.065) ipc"
      ]
     },
     "execution_count": 196,
     "metadata": {},
     "output_type": "execute_result"
    }
   ],
   "source": [
    "norm.st['deriche']"
   ]
  },
  {
   "cell_type": "code",
   "execution_count": 197,
   "id": "09a08ffe",
   "metadata": {},
   "outputs": [
    {
     "data": {
      "text/plain": [
       "[477.159364, 478.199233, 472.19425700000005, 458.189289, 468.041158]"
      ]
     },
     "execution_count": 197,
     "metadata": {},
     "output_type": "execute_result"
    }
   ],
   "source": [
    "[np.float(x['ClockStats'][x['ClockStats']['Name']=='ariel.ariel'][' handler time (s)']) for x in mf.st['2mm'].profile]"
   ]
  },
  {
   "cell_type": "code",
   "execution_count": null,
   "id": "cb7058b3",
   "metadata": {},
   "outputs": [],
   "source": []
  },
  {
   "cell_type": "code",
   "execution_count": 274,
   "id": "8befab3e",
   "metadata": {},
   "outputs": [
    {
     "data": {
      "text/plain": [
       "Profiler: ClockStats\n",
       "                         Name      count   handler time (s)  \\\n",
       "0                 ariel.ariel  199999999           1175.339   \n",
       "1            memHierarchy.Bus    8446518             13.142   \n",
       "2          memHierarchy.Cache   39507364            308.108   \n",
       "3  memHierarchy.MemController   49999999            121.382   \n",
       "4         memHierarchy.Parrot  145400710            315.106   \n",
       "\n",
       "    avg. handler time (ns)  \n",
       "0                     5876  \n",
       "1                     1555  \n",
       "2                     7798  \n",
       "3                     2427  \n",
       "4                     2167  \n",
       "Profiler: EventStats\n",
       "                   Name   recv count   recv time (s)   avg. recv time (ns)\n",
       "0      memHierarchy.Bus      2162912           0.579                   267\n",
       "1  memHierarchy.MemLink    108949898         651.677                  5981\n",
       "2   memHierarchy.Parrot    187950003         257.391                  1369\n",
       "Simulated time:\n",
       "  23067.82 (+/-0.00) ms\n",
       "Wallclock Time:\n",
       "  Real: 676904356.15 (+/-0.00) ms\n",
       "  User: 667112067.44 (+/-0.00) ms\n",
       "  Sys:  7557017.15 (+/-0.00) ms\n",
       "Simulated IPC:\n",
       "  0.940 (+/-0.000) ipc"
      ]
     },
     "execution_count": 274,
     "metadata": {},
     "output_type": "execute_result"
    }
   ],
   "source": [
    "mf.st['2mm']"
   ]
  },
  {
   "cell_type": "code",
   "execution_count": null,
   "id": "2b76e3f5",
   "metadata": {},
   "outputs": [],
   "source": []
  }
 ],
 "metadata": {
  "kernelspec": {
   "display_name": "sst",
   "language": "python",
   "name": "sst"
  },
  "language_info": {
   "codemirror_mode": {
    "name": "ipython",
    "version": 3
   },
   "file_extension": ".py",
   "mimetype": "text/x-python",
   "name": "python",
   "nbconvert_exporter": "python",
   "pygments_lexer": "ipython3",
   "version": "3.6.8"
  }
 },
 "nbformat": 4,
 "nbformat_minor": 5
}
