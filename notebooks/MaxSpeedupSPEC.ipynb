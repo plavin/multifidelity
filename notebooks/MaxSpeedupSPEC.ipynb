{
 "cells": [
  {
   "cell_type": "markdown",
   "id": "be3ba41e",
   "metadata": {},
   "source": [
    "# MaxSpeedupSPEC"
   ]
  },
  {
   "cell_type": "code",
   "execution_count": 1,
   "id": "84418de2",
   "metadata": {},
   "outputs": [],
   "source": [
    "# Standard packages\n",
    "import pickle\n",
    "import matplotlib.pyplot as plt\n",
    "import numpy as np\n",
    "from matplotlib import collections  as mc\n",
    "import statistics\n",
    "\n",
    "# Local packages\n",
    "from simulate import *"
   ]
  },
  {
   "cell_type": "code",
   "execution_count": 3,
   "id": "d13f5109",
   "metadata": {},
   "outputs": [],
   "source": [
    "#double dispatch\n",
    "experiments = ['Jul-06-0', 'Jul-06-1', 'Jul-06-2', 'Jul-06-3', 'Jul-06-4']\n",
    "\n",
    "norm = []\n",
    "for directory in experiments:\n",
    "    with open(f'/net/netscratch/plavin3/experiment-results/{directory}/SimStats.pkl', 'rb') as file:\n",
    "        norm.append(pickle.load(file))"
   ]
  },
  {
   "cell_type": "code",
   "execution_count": 4,
   "id": "b9e105da",
   "metadata": {},
   "outputs": [],
   "source": [
    "# double dispatch\n",
    "mfexperiments = experiments = ['Jul-06-5', 'Jul-06-6', 'Jul-06-7', 'Jul-06-8', 'Jul-06-9']\n",
    "\n",
    "\n",
    "mf = []\n",
    "for directory in mfexperiments:\n",
    "    with open(f'/net/netscratch/plavin3/experiment-results/{directory}/SimStats.pkl', 'rb') as file:\n",
    "        mf.append(pickle.load(file))"
   ]
  },
  {
   "cell_type": "code",
   "execution_count": 11,
   "id": "2f020853",
   "metadata": {},
   "outputs": [],
   "source": [
    "names = mf[0].st.keys()"
   ]
  },
  {
   "cell_type": "code",
   "execution_count": 12,
   "id": "37fdab4c",
   "metadata": {},
   "outputs": [
    {
     "name": "stdout",
     "output_type": "stream",
     "text": [
      "\\begin{tabular}{lrrr}\n",
      "\\toprule\n",
      "       benchmark &  time(ariel) &  time(memH) &  MPS \\\\\n",
      "\\midrule\n",
      "      625.x264\\_s &        27.69 &       70.26 & 3.54 \\\\\n",
      " 648.exchange2\\_s &       766.92 &     1151.17 & 2.50 \\\\\n",
      "            mean &       397.30 &      610.72 & 3.02 \\\\\n",
      "\\bottomrule\n",
      "\\end{tabular}\n",
      "\n"
     ]
    }
   ],
   "source": [
    "def get_time_ariel(df):\n",
    "    clocks = df.profile[0]['ClockStats']\n",
    "    ariel_time = list(clocks[clocks['Name']=='ariel.ariel'][' handler time (s)'])[0]\n",
    "    bus_time = list(clocks[clocks['Name']=='memHierarchy.Bus'][' handler time (s)'])[0]\n",
    "    cache_time = list(clocks[clocks['Name']=='memHierarchy.Cache'][' handler time (s)'])[0]\n",
    "    memcontroller_time = list(clocks[clocks['Name']=='memHierarchy.MemController'][' handler time (s)'])[0]\n",
    "    parrot_time = list(clocks[clocks['Name']=='memHierarchy.Parrot'][' handler time (s)'])[0]\n",
    "    \n",
    "    #print(ariel_time, bus_time, cache_time, memcontroller_time, parrot_time)\n",
    "    return (ariel_time, bus_time + cache_time + memcontroller_time, parrot_time)\n",
    "\n",
    "    \n",
    "def fun1(df):\n",
    "    \n",
    "    new_df = pd.DataFrame(columns = ['benchmark', 'time(ariel)', 'time(memH)', 'time(Parrot)', 'MPS', 'A-MPS'])\n",
    "    for bench in sorted(df.keys()):\n",
    "        gta = get_time_ariel(df[bench])\n",
    "        max_potential_speedup = (gta[0]+gta[1]) / gta[0]\n",
    "        adjusted_mps = (gta[0]+gta[1]) / (gta[0]+gta[2])\n",
    "        new_df = new_df.append({'benchmark':bench, \n",
    "                       'time(ariel)':gta[0],\n",
    "                       'time(memH)':gta[1],\n",
    "                       'time(Parrot)':gta[2],\n",
    "                       'MPS': max_potential_speedup,\n",
    "                       'A-MPS': adjusted_mps}, ignore_index=True)\n",
    "    \n",
    "    average = list(new_df.mean())\n",
    "    new_df = new_df.append({'benchmark':'mean', \n",
    "                       'time(ariel)':average[0],\n",
    "                       'time(memH)':average[1],\n",
    "                       'time(Parrot)':average[2],\n",
    "                       'MPS': average[3],\n",
    "                       'A-MPS': average[4]}, ignore_index=True)\n",
    "\n",
    "    return(new_df)\n",
    "\n",
    "\n",
    "\n",
    "aggregate = fun1(norm[0].st)\n",
    "\n",
    "# Drop a few columns for now\n",
    "dropped = aggregate[['benchmark', 'time(ariel)', 'time(memH)', 'MPS']]\n",
    "print(dropped.to_latex(float_format=\"%.2f\", index=False))"
   ]
  },
  {
   "cell_type": "code",
   "execution_count": 13,
   "id": "265e0941",
   "metadata": {},
   "outputs": [
    {
     "name": "stdout",
     "output_type": "stream",
     "text": [
      "         benchmark  time(ariel)   time(memH)  time(Parrot)       MPS     A-MPS\n",
      "0       625.x264_s    28.619383    69.100467      0.000004  3.414464  3.414463\n",
      "1  648.exchange2_s   802.544950  1218.239795    230.426441  2.517971  1.956283\n",
      "2             mean   415.582166   643.670131    115.213223  2.966217  2.685373\n"
     ]
    },
    {
     "data": {
      "text/plain": [
       "1.0742655601091118"
      ]
     },
     "execution_count": 13,
     "metadata": {},
     "output_type": "execute_result"
    }
   ],
   "source": [
    "aggregate = fun1(mf[1].st)\n",
    "print(aggregate)\n",
    "# Drop a few columns for now\n",
    "#dropped = aggregate[['benchmark', 'time(ariel)', 'time(memH)', 'MPS']]\n",
    "#print(dropped.to_latex(float_format=\"%.2f\", index=False))\n",
    "\n",
    "((aggregate['time(ariel)'] + aggregate['time(memH)'] + aggregate['time(Parrot)'])/(aggregate['time(ariel)'] + aggregate['time(memH)'])).mean()"
   ]
  },
  {
   "cell_type": "code",
   "execution_count": 14,
   "id": "c895e344",
   "metadata": {},
   "outputs": [
    {
     "ename": "NameError",
     "evalue": "name 'y_norm_ipc' is not defined",
     "output_type": "error",
     "traceback": [
      "\u001b[0;31m---------------------------------------------------------------------------\u001b[0m",
      "\u001b[0;31mNameError\u001b[0m                                 Traceback (most recent call last)",
      "\u001b[0;32m<ipython-input-14-327637398f8b>\u001b[0m in \u001b[0;36m<module>\u001b[0;34m\u001b[0m\n\u001b[1;32m      2\u001b[0m \u001b[0mwidth\u001b[0m \u001b[0;34m=\u001b[0m \u001b[0;36m0.25\u001b[0m\u001b[0;34m\u001b[0m\u001b[0;34m\u001b[0m\u001b[0m\n\u001b[1;32m      3\u001b[0m \u001b[0mfig\u001b[0m\u001b[0;34m,\u001b[0m \u001b[0max\u001b[0m \u001b[0;34m=\u001b[0m \u001b[0mplt\u001b[0m\u001b[0;34m.\u001b[0m\u001b[0msubplots\u001b[0m\u001b[0;34m(\u001b[0m\u001b[0;34m)\u001b[0m\u001b[0;34m\u001b[0m\u001b[0;34m\u001b[0m\u001b[0m\n\u001b[0;32m----> 4\u001b[0;31m \u001b[0max\u001b[0m\u001b[0;34m.\u001b[0m\u001b[0mbar\u001b[0m\u001b[0;34m(\u001b[0m\u001b[0mx\u001b[0m\u001b[0;34m-\u001b[0m\u001b[0mwidth\u001b[0m\u001b[0;34m/\u001b[0m\u001b[0;36m2\u001b[0m\u001b[0;34m,\u001b[0m \u001b[0my_norm_ipc\u001b[0m\u001b[0;34m,\u001b[0m \u001b[0mwidth\u001b[0m\u001b[0;34m,\u001b[0m \u001b[0mcolor\u001b[0m\u001b[0;34m=\u001b[0m\u001b[0;34m'lightgrey'\u001b[0m\u001b[0;34m,\u001b[0m \u001b[0mlabel\u001b[0m\u001b[0;34m=\u001b[0m\u001b[0;34m'Normal'\u001b[0m\u001b[0;34m,\u001b[0m \u001b[0medgecolor\u001b[0m\u001b[0;34m=\u001b[0m\u001b[0;34m'black'\u001b[0m\u001b[0;34m)\u001b[0m\u001b[0;34m\u001b[0m\u001b[0;34m\u001b[0m\u001b[0m\n\u001b[0m\u001b[1;32m      5\u001b[0m \u001b[0max\u001b[0m\u001b[0;34m.\u001b[0m\u001b[0mbar\u001b[0m\u001b[0;34m(\u001b[0m\u001b[0mx\u001b[0m\u001b[0;34m+\u001b[0m\u001b[0mwidth\u001b[0m\u001b[0;34m/\u001b[0m\u001b[0;36m2\u001b[0m\u001b[0;34m,\u001b[0m \u001b[0my_mf_ipc\u001b[0m\u001b[0;34m,\u001b[0m \u001b[0mwidth\u001b[0m\u001b[0;34m,\u001b[0m \u001b[0mcolor\u001b[0m\u001b[0;34m=\u001b[0m\u001b[0;34m'black'\u001b[0m\u001b[0;34m,\u001b[0m \u001b[0mlabel\u001b[0m\u001b[0;34m=\u001b[0m\u001b[0;34m'Multidelity'\u001b[0m\u001b[0;34m,\u001b[0m \u001b[0medgecolor\u001b[0m\u001b[0;34m=\u001b[0m\u001b[0;34m'black'\u001b[0m\u001b[0;34m)\u001b[0m\u001b[0;34m\u001b[0m\u001b[0;34m\u001b[0m\u001b[0m\n\u001b[1;32m      6\u001b[0m \u001b[0;31m#ax.bar(x+width, y_mfn_ipc, width, color='lightblue', label='Multidelity New', edgecolor='black')\u001b[0m\u001b[0;34m\u001b[0m\u001b[0;34m\u001b[0m\u001b[0;34m\u001b[0m\u001b[0m\n",
      "\u001b[0;31mNameError\u001b[0m: name 'y_norm_ipc' is not defined"
     ]
    },
    {
     "data": {
      "image/png": "[encoded data removed]",
      "text/plain": [
       "<Figure size 432x288 with 1 Axes>"
      ]
     },
     "metadata": {
      "needs_background": "light"
     },
     "output_type": "display_data"
    }
   ],
   "source": [
    "x = np.arange(len(names))\n",
    "width = 0.25\n",
    "fig, ax = plt.subplots()\n",
    "ax.bar(x-width/2, y_norm_ipc, width, color='lightgrey', label='Normal', edgecolor='black')\n",
    "ax.bar(x+width/2, y_mf_ipc, width, color='black', label='Multidelity', edgecolor='black')\n",
    "#ax.bar(x+width, y_mfn_ipc, width, color='lightblue', label='Multidelity New', edgecolor='black')\n",
    "\n",
    "ax.set_xticks(x)\n",
    "ax.set_xticklabels(names, rotation=45, ha='right')\n",
    "ax.set_ylim((0,2))\n",
    "ax.set_ylabel('IPC', rotation=90)\n",
    "ax.set_title('IPC (Normal vs. Multifidelity)')\n",
    "ax.autoscale()\n",
    "plt.legend()\n",
    "\n",
    "#ax.yaxis.set_label_coords(-.07, 0.96)\n",
    "nyticks = 11\n",
    "ax.set_yticks([(2/(nyticks-1))*x for x in np.arange(nyticks)])\n",
    "fig.set_size_inches((15,3))\n",
    "fig.savefig('plots/ipc-normal-vs-mf.png')\n",
    "#plt.tight_layout()"
   ]
  },
  {
   "cell_type": "code",
   "execution_count": 10,
   "id": "7f421f39",
   "metadata": {},
   "outputs": [
    {
     "name": "stdout",
     "output_type": "stream",
     "text": [
      "Percent error\n",
      "\n",
      "0  jacobi-1d      -02.00%\n",
      "1  trisolv         00.39%\n",
      "2  gesummv        -01.03%\n",
      "3  durbin          00.08%\n",
      "4  bicg           -02.34%\n",
      "5  atax           -01.53%\n",
      "6  mvt             00.31%\n",
      "7  gemver         -01.20%\n",
      "8  trmm            02.46%\n",
      "9  seidel-2d       03.12%\n",
      "10 deriche         00.34%\n",
      "11 symm            04.07%\n",
      "12 covariance      01.50%\n",
      "13 correlation     06.51%\n",
      "14 gramschmidt     05.03%\n",
      "15 syr2k           00.93%\n",
      "16 heat-3d         03.17%\n",
      "17 doitgen         01.23%\n",
      "18 gemm            02.70%\n",
      "19 jacobi-2d       01.27%\n",
      "20 2mm            -01.46%\n",
      "21 cholesky       -06.05%\n",
      "22 lu             -08.84%\n",
      "23 fdtd-2d        -08.01%\n",
      "24 adi            -01.80%\n",
      "25 ludcmp          00.41%\n",
      "26 syrk           -02.58%\n",
      "27 floyd-warshall -03.75%\n",
      "28 3mm            -01.41%\n",
      "29 nussinov        03.48%\n",
      "\n",
      "MAPE: 2.63%\n"
     ]
    }
   ],
   "source": [
    "pct_err = []\n",
    "\n",
    "def p_err(approx, exact):\n",
    "    return (approx-exact)/exact * 100\n",
    "def mape(arr):\n",
    "    return np.mean(np.absolute(arr))\n",
    "\n",
    "print('Percent error\\n')\n",
    "name_len = max([len(name) for name in names])\n",
    "for (i, name) in enumerate(names):\n",
    "    pe = p_err(y_mf_ipc[i], y_norm_ipc[i])\n",
    "    pct_err.append(pe)\n",
    "    print(f'{i}'.ljust(2), f'{name}'.ljust(name_len), f'{pe: 06.2f}%')\n",
    "    \n",
    "print(f'\\nMAPE: {mape(pct_err):.2f}%')"
   ]
  },
  {
   "cell_type": "code",
   "execution_count": 11,
   "id": "db4f3d55",
   "metadata": {},
   "outputs": [
    {
     "name": "stdout",
     "output_type": "stream",
     "text": [
      "Speedup\n",
      "\n",
      "0  jacobi-1d         1.00\n",
      "1  trisolv           1.00\n",
      "2  gesummv           0.95\n",
      "3  durbin            0.99\n",
      "4  bicg              0.97\n",
      "5  atax              0.97\n",
      "6  mvt               1.00\n",
      "7  gemver            0.96\n",
      "8  trmm              2.49\n",
      "9  seidel-2d         1.92\n",
      "10 deriche           1.00\n",
      "11 symm              2.30\n",
      "12 covariance        2.45\n",
      "13 correlation       2.35\n",
      "14 gramschmidt       2.39\n",
      "15 syr2k             2.05\n",
      "16 heat-3d           1.29\n",
      "17 doitgen           2.20\n",
      "18 gemm              2.07\n",
      "19 jacobi-2d         2.07\n",
      "20 2mm               2.25\n",
      "21 cholesky          1.03\n",
      "22 lu                1.03\n",
      "23 fdtd-2d           1.06\n",
      "24 adi               1.01\n",
      "25 ludcmp            0.96\n",
      "26 syrk              0.99\n",
      "27 floyd-warshall    1.21\n",
      "28 3mm               0.97\n",
      "29 nussinov          0.93\n",
      "\n",
      "Average speedup: 1.46\n"
     ]
    }
   ],
   "source": [
    "# Speed up calculations\n",
    "mf_times_seconds = []\n",
    "norm_times_seconds = []\n",
    "for name in names:\n",
    "    mf_times_seconds.append(mf.st[name].times.real.mean/nu.s)\n",
    "    norm_times_seconds.append(norm.st[name].times.real.mean/nu.s)\n",
    "\n",
    "speedup = [((norm_times_seconds[i] / mf_times_seconds[i])) for i in range(len(names))]\n",
    "\n",
    "print('Speedup\\n')\n",
    "for i in range(len(names)):\n",
    "    print(f'{i}'.ljust(2), f'{names[i]}'.ljust(name_len), f'{speedup[i]: 7.2f}')\n",
    "\n",
    "print(f'\\nAverage speedup: {np.mean(speedup):.2f}')"
   ]
  },
  {
   "cell_type": "code",
   "execution_count": 46,
   "id": "faf5fb1c",
   "metadata": {},
   "outputs": [],
   "source": [
    "# Calculate speedup of the Memory simulation (subtract off Ariel time)\n",
    "\n",
    "def mean_ariel_time(data, name):\n",
    "    return np.mean([np.float(x['ClockStats'][x['ClockStats']['Name']=='ariel.ariel'][' handler time (s)']) for x in data.st[name].profile])\n",
    "\n",
    "mf_times_seconds_noariel = []\n",
    "norm_times_seconds_noariel = []\n",
    "for name in names:\n",
    "    mf_times_seconds_noariel.append(mf.st[name].times.real.mean/nu.s - mean_ariel_time(mf,name))\n",
    "    norm_times_seconds_noariel.append(norm.st[name].times.real.mean/nu.s - mean_ariel_time(norm,name))"
   ]
  },
  {
   "cell_type": "code",
   "execution_count": 14,
   "id": "053e5ddf",
   "metadata": {},
   "outputs": [
    {
     "data": {
      "text/plain": [
       "1082.829858"
      ]
     },
     "execution_count": 14,
     "metadata": {},
     "output_type": "execute_result"
    }
   ],
   "source": [
    "ariel_time = np.mean([np.float(x['ClockStats'][x['ClockStats']['Name']=='ariel.ariel'][' handler time (s)']) for x in mf.st['2mm'].profile])\n",
    "ariel_time"
   ]
  },
  {
   "cell_type": "code",
   "execution_count": 9,
   "id": "575f4cdc",
   "metadata": {},
   "outputs": [
    {
     "name": "stdout",
     "output_type": "stream",
     "text": [
      "Percent speedup without Ariel\n",
      "jacobi-1d     :  -9.61%\n",
      "trisolv       :  -6.21%\n",
      "gesummv       :  -9.76%\n",
      "durbin        :  -9.36%\n",
      "bicg          :  -4.81%\n",
      "atax          :  -2.53%\n",
      "mvt           :  -6.88%\n",
      "gemver        :  -5.18%\n",
      "heat-3d       :  86.44%\n",
      "ludcmp        : 131.90%\n",
      "syr2k         : 136.67%\n",
      "trmm          : 157.45%\n",
      "correlation   : 150.52%\n",
      "gramschmidt   : 149.37%\n",
      "symm          : 126.56%\n",
      "covariance    : 121.50%\n",
      "doitgen       : 109.49%\n",
      "gemm          : 116.09%\n",
      "jacobi-2d     : 118.08%\n",
      "floyd-warshall: 103.76%\n",
      "2mm           : 121.12%\n",
      "cholesky      :   0.58%\n",
      "seidel-2d     :   2.76%\n",
      "deriche       :   2.22%\n",
      "lu            :   2.21%\n",
      "adi           :   1.93%\n",
      "fdtd-2d       :   2.89%\n",
      "syrk          :   1.65%\n",
      "3mm           :   3.42%\n",
      "nussinov      :   2.13%\n"
     ]
    }
   ],
   "source": [
    "print('Percent speedup without Ariel')\n",
    "#TODO - also remove parrot time from norm runs\n",
    "\n",
    "speedup_pct = [((norm_times_seconds_noariel[i] / mf_times_seconds_noariel[i])-1)*100 for i in range(len(names))]\n",
    "\n",
    "for i, n in enumerate(names):\n",
    "    print(f'{n.ljust(14)}: {speedup_pct[i]:6.02f}%')"
   ]
  },
  {
   "cell_type": "code",
   "execution_count": 196,
   "id": "ce0bfe08",
   "metadata": {},
   "outputs": [
    {
     "data": {
      "text/plain": [
       "Profiler: ClockStats\n",
       "                         Name      count   handler time (s)  \\\n",
       "0                 ariel.ariel  199999999            254.418   \n",
       "1            memHierarchy.Bus   24576113             13.962   \n",
       "2          memHierarchy.Cache  155077942            331.588   \n",
       "3  memHierarchy.MemController   49999999            102.050   \n",
       "4         memHierarchy.Parrot   78646625             68.045   \n",
       "\n",
       "    avg. handler time (ns)  \n",
       "0                     1272  \n",
       "1                      568  \n",
       "2                     2138  \n",
       "3                     2041  \n",
       "4                      865  \n",
       "Profiler: EventStats\n",
       "                   Name   recv count   recv time (s)   avg. recv time (ns)\n",
       "0      memHierarchy.Bus      4725089           0.436                    92\n",
       "1  memHierarchy.MemLink    105901573         250.344                  2363\n",
       "2   memHierarchy.Parrot    100380124          42.935                   427\n",
       "Simulated time:\n",
       "  2.37 (+/-0.16) ms\n",
       "Wallclock Time:\n",
       "  Real: 30206.85 (+/-476.47) ms\n",
       "  User: 29819.93 (+/-351.34) ms\n",
       "  Sys:  290.94 (+/-122.06) ms\n",
       "Simulated IPC:\n",
       "  0.651 (+/-0.065) ipc"
      ]
     },
     "execution_count": 196,
     "metadata": {},
     "output_type": "execute_result"
    }
   ],
   "source": [
    "norm.st['deriche']"
   ]
  },
  {
   "cell_type": "code",
   "execution_count": 197,
   "id": "09a08ffe",
   "metadata": {},
   "outputs": [
    {
     "data": {
      "text/plain": [
       "[477.159364, 478.199233, 472.19425700000005, 458.189289, 468.041158]"
      ]
     },
     "execution_count": 197,
     "metadata": {},
     "output_type": "execute_result"
    }
   ],
   "source": [
    "[np.float(x['ClockStats'][x['ClockStats']['Name']=='ariel.ariel'][' handler time (s)']) for x in mf.st['2mm'].profile]"
   ]
  },
  {
   "cell_type": "code",
   "execution_count": null,
   "id": "cb7058b3",
   "metadata": {},
   "outputs": [],
   "source": []
  },
  {
   "cell_type": "code",
   "execution_count": 274,
   "id": "8befab3e",
   "metadata": {},
   "outputs": [
    {
     "data": {
      "text/plain": [
       "Profiler: ClockStats\n",
       "                         Name      count   handler time (s)  \\\n",
       "0                 ariel.ariel  199999999           1175.339   \n",
       "1            memHierarchy.Bus    8446518             13.142   \n",
       "2          memHierarchy.Cache   39507364            308.108   \n",
       "3  memHierarchy.MemController   49999999            121.382   \n",
       "4         memHierarchy.Parrot  145400710            315.106   \n",
       "\n",
       "    avg. handler time (ns)  \n",
       "0                     5876  \n",
       "1                     1555  \n",
       "2                     7798  \n",
       "3                     2427  \n",
       "4                     2167  \n",
       "Profiler: EventStats\n",
       "                   Name   recv count   recv time (s)   avg. recv time (ns)\n",
       "0      memHierarchy.Bus      2162912           0.579                   267\n",
       "1  memHierarchy.MemLink    108949898         651.677                  5981\n",
       "2   memHierarchy.Parrot    187950003         257.391                  1369\n",
       "Simulated time:\n",
       "  23067.82 (+/-0.00) ms\n",
       "Wallclock Time:\n",
       "  Real: 676904356.15 (+/-0.00) ms\n",
       "  User: 667112067.44 (+/-0.00) ms\n",
       "  Sys:  7557017.15 (+/-0.00) ms\n",
       "Simulated IPC:\n",
       "  0.940 (+/-0.000) ipc"
      ]
     },
     "execution_count": 274,
     "metadata": {},
     "output_type": "execute_result"
    }
   ],
   "source": [
    "mf.st['2mm']"
   ]
  },
  {
   "cell_type": "code",
   "execution_count": null,
   "id": "2b76e3f5",
   "metadata": {},
   "outputs": [],
   "source": []
  }
 ],
 "metadata": {
  "kernelspec": {
   "display_name": "sst",
   "language": "python",
   "name": "sst"
  },
  "language_info": {
   "codemirror_mode": {
    "name": "ipython",
    "version": 3
   },
   "file_extension": ".py",
   "mimetype": "text/x-python",
   "name": "python",
   "nbconvert_exporter": "python",
   "pygments_lexer": "ipython3",
   "version": "3.6.8"
  }
 },
 "nbformat": 4,
 "nbformat_minor": 5
}
