{
 "cells": [
  {
   "cell_type": "markdown",
   "id": "be3ba41e",
   "metadata": {},
   "source": [
    "# Accuracy Comparison"
   ]
  },
  {
   "cell_type": "code",
   "execution_count": 1,
   "id": "84418de2",
   "metadata": {},
   "outputs": [],
   "source": [
    "# Standard packages\n",
    "import pickle\n",
    "import matplotlib.pyplot as plt\n",
    "import numpy as np\n",
    "from matplotlib import collections  as mc\n",
    "import statistics\n",
    "\n",
    "# Local packages\n",
    "from simulate import *"
   ]
  },
  {
   "cell_type": "code",
   "execution_count": 53,
   "id": "d13f5109",
   "metadata": {},
   "outputs": [],
   "source": [
    "# Load data. Less than 2 MiB.\n",
    "# Data aggregated over 5 runs, up to 100ms of simulation\n",
    "#with open('parrot-traces/polybench-mf-jun14-optimized/polybench-mf-jun14-optimized.pkl', 'rb') as file:\n",
    "with open('/net/netscratch/plavin3/experiment-results/Jun-29-0/SimStats.pkl', 'rb') as file:\n",
    "    mf = pickle.load(file)\n",
    "#with open('parrot-traces/polybench-normal-jun14/polybench-normal-jun14.pkl', 'rb') as file:\n",
    "with open('/net/netscratch/plavin3/experiment-results/Jun-27-2/SimStats.pkl', 'rb') as file:\n",
    "    norm = pickle.load(file)"
   ]
  },
  {
   "cell_type": "code",
   "execution_count": 54,
   "id": "37fdab4c",
   "metadata": {},
   "outputs": [
    {
     "data": {
      "text/plain": [
       "0.867451389337257"
      ]
     },
     "execution_count": 54,
     "metadata": {},
     "output_type": "execute_result"
    }
   ],
   "source": [
    "mf.st['2mm'].ipc[0]"
   ]
  },
  {
   "cell_type": "code",
   "execution_count": 55,
   "id": "265e0941",
   "metadata": {},
   "outputs": [],
   "source": [
    "names = list(mf.st.keys())\n",
    "y_norm_ipc  = [norm.st[n].ipc[0] for n in names]\n",
    "y_mf_ipc    = [mf.st[n].ipc[0]   for n in names]\n",
    "#y_mfn_ipc   = [mf_n.st[n].ipc[0]   for n in names]"
   ]
  },
  {
   "cell_type": "code",
   "execution_count": 56,
   "id": "c895e344",
   "metadata": {},
   "outputs": [
    {
     "data": {
      "image/png": "[encoded data removed]",
      "text/plain": [
       "<Figure size 1080x216 with 1 Axes>"
      ]
     },
     "metadata": {
      "needs_background": "light"
     },
     "output_type": "display_data"
    }
   ],
   "source": [
    "x = np.arange(len(names))\n",
    "width = 0.25\n",
    "fig, ax = plt.subplots()\n",
    "ax.bar(x-width/2, y_norm_ipc, width, color='white', label='Normal', edgecolor='black')\n",
    "ax.bar(x+width/2, y_mf_ipc, width, color='lightgrey', label='Multidelity', edgecolor='black')\n",
    "#ax.bar(x+width, y_mfn_ipc, width, color='lightblue', label='Multidelity New', edgecolor='black')\n",
    "\n",
    "ax.set_xticks(x)\n",
    "ax.set_xticklabels(names, rotation=45, ha='right')\n",
    "ax.set_ylim((0,1))\n",
    "ax.set_ylabel('IPC', rotation=90)\n",
    "ax.set_title('IPC (Normal vs. Multifidelity)')\n",
    "ax.autoscale()\n",
    "plt.legend()\n",
    "\n",
    "#ax.yaxis.set_label_coords(-.07, 0.96)\n",
    "nyticks = 5\n",
    "ax.set_yticks([(1/(nyticks-1))*x for x in np.arange(nyticks)])\n",
    "fig.set_size_inches((15,3))\n",
    "fig.savefig('plots/ipc-normal-vs-mf.png')\n",
    "#plt.tight_layout()"
   ]
  },
  {
   "cell_type": "code",
   "execution_count": 58,
   "id": "7f421f39",
   "metadata": {},
   "outputs": [
    {
     "name": "stdout",
     "output_type": "stream",
     "text": [
      "Percent error\n",
      "\n",
      "0  jacobi-1d      -01.68%\n",
      "1  trisolv        -02.14%\n",
      "2  gesummv        -01.42%\n",
      "3  durbin         -00.54%\n",
      "4  bicg           -00.32%\n",
      "5  atax            01.82%\n",
      "6  mvt            -00.03%\n",
      "7  gemver          01.08%\n",
      "8  ludcmp          03.50%\n",
      "9  trmm            04.04%\n",
      "10 correlation     04.17%\n",
      "11 gramschmidt     02.69%\n",
      "12 syr2k           03.68%\n",
      "13 heat-3d         00.06%\n",
      "14 symm            00.35%\n",
      "15 jacobi-2d       00.30%\n",
      "16 covariance     -01.36%\n",
      "17 doitgen        -00.25%\n",
      "18 gemm            03.36%\n",
      "19 floyd-warshall  05.14%\n",
      "20 cholesky        00.34%\n",
      "21 2mm             00.57%\n",
      "22 syrk           -05.97%\n",
      "23 seidel-2d      -01.89%\n",
      "24 lu             -04.48%\n",
      "25 deriche        -03.86%\n",
      "26 adi            -03.90%\n",
      "27 fdtd-2d        -01.91%\n",
      "28 3mm             03.38%\n",
      "29 nussinov        02.39%\n",
      "\n",
      "MAPE: 2.22%\n"
     ]
    }
   ],
   "source": [
    "pct_err = []\n",
    "\n",
    "def p_err(approx, exact):\n",
    "    return (approx-exact)/exact * 100\n",
    "def mape(arr):\n",
    "    return np.mean(np.absolute(arr))\n",
    "\n",
    "print('Percent error\\n')\n",
    "name_len = max([len(name) for name in names])\n",
    "for (i, name) in enumerate(names):\n",
    "    pe = p_err(y_mf_ipc[i], y_norm_ipc[i])\n",
    "    pct_err.append(pe)\n",
    "    print(f'{i}'.ljust(2), f'{name}'.ljust(name_len), f'{pe: 06.2f}%')\n",
    "    \n",
    "print(f'\\nMAPE: {mape(pct_err):.2f}%')"
   ]
  },
  {
   "cell_type": "code",
   "execution_count": 59,
   "id": "db4f3d55",
   "metadata": {},
   "outputs": [
    {
     "name": "stdout",
     "output_type": "stream",
     "text": [
      "Speedup\n",
      "\n",
      "0  jacobi-1d         0.99\n",
      "1  trisolv           0.98\n",
      "2  gesummv           0.96\n",
      "3  durbin            0.98\n",
      "4  bicg              0.98\n",
      "5  atax              0.97\n",
      "6  mvt               0.97\n",
      "7  gemver            0.99\n",
      "8  ludcmp            2.37\n",
      "9  trmm              2.30\n",
      "10 correlation       2.31\n",
      "11 gramschmidt       2.32\n",
      "12 syr2k             1.92\n",
      "13 heat-3d           1.27\n",
      "14 symm              2.01\n",
      "15 jacobi-2d         2.05\n",
      "16 covariance        1.97\n",
      "17 doitgen           1.85\n",
      "18 gemm              1.92\n",
      "19 floyd-warshall    1.83\n",
      "20 cholesky          0.99\n",
      "21 2mm               2.06\n",
      "22 syrk              1.35\n",
      "23 seidel-2d         0.99\n",
      "24 lu                1.03\n",
      "25 deriche           1.02\n",
      "26 adi               1.00\n",
      "27 fdtd-2d           0.99\n",
      "28 3mm               0.96\n",
      "29 nussinov          0.95\n",
      "\n",
      "Average speedup: 1.44\n"
     ]
    }
   ],
   "source": [
    "# Speed up calculations\n",
    "mf_times_seconds = []\n",
    "norm_times_seconds = []\n",
    "for name in names:\n",
    "    mf_times_seconds.append(mf.st[name].times.real.mean/nu.s)\n",
    "    norm_times_seconds.append(norm.st[name].times.real.mean/nu.s)\n",
    "\n",
    "speedup = [((norm_times_seconds[i] / mf_times_seconds[i])) for i in range(len(names))]\n",
    "\n",
    "print('Speedup\\n')\n",
    "for i in range(len(names)):\n",
    "    print(f'{i}'.ljust(2), f'{names[i]}'.ljust(name_len), f'{speedup[i]: 7.2f}')\n",
    "\n",
    "print(f'\\nAverage speedup: {np.mean(speedup):.2f}')"
   ]
  },
  {
   "cell_type": "code",
   "execution_count": 46,
   "id": "faf5fb1c",
   "metadata": {},
   "outputs": [],
   "source": [
    "# Calculate speedup of the Memory simulation (subtract off Ariel time)\n",
    "\n",
    "def mean_ariel_time(data, name):\n",
    "    return np.mean([np.float(x['ClockStats'][x['ClockStats']['Name']=='ariel.ariel'][' handler time (s)']) for x in data.st[name].profile])\n",
    "\n",
    "mf_times_seconds_noariel = []\n",
    "norm_times_seconds_noariel = []\n",
    "for name in names:\n",
    "    mf_times_seconds_noariel.append(mf.st[name].times.real.mean/nu.s - mean_ariel_time(mf,name))\n",
    "    norm_times_seconds_noariel.append(norm.st[name].times.real.mean/nu.s - mean_ariel_time(norm,name))"
   ]
  },
  {
   "cell_type": "code",
   "execution_count": 14,
   "id": "053e5ddf",
   "metadata": {},
   "outputs": [
    {
     "data": {
      "text/plain": [
       "1082.829858"
      ]
     },
     "execution_count": 14,
     "metadata": {},
     "output_type": "execute_result"
    }
   ],
   "source": [
    "ariel_time = np.mean([np.float(x['ClockStats'][x['ClockStats']['Name']=='ariel.ariel'][' handler time (s)']) for x in mf.st['2mm'].profile])\n",
    "ariel_time"
   ]
  },
  {
   "cell_type": "code",
   "execution_count": 9,
   "id": "575f4cdc",
   "metadata": {},
   "outputs": [
    {
     "name": "stdout",
     "output_type": "stream",
     "text": [
      "Percent speedup without Ariel\n",
      "jacobi-1d     :  -9.61%\n",
      "trisolv       :  -6.21%\n",
      "gesummv       :  -9.76%\n",
      "durbin        :  -9.36%\n",
      "bicg          :  -4.81%\n",
      "atax          :  -2.53%\n",
      "mvt           :  -6.88%\n",
      "gemver        :  -5.18%\n",
      "heat-3d       :  86.44%\n",
      "ludcmp        : 131.90%\n",
      "syr2k         : 136.67%\n",
      "trmm          : 157.45%\n",
      "correlation   : 150.52%\n",
      "gramschmidt   : 149.37%\n",
      "symm          : 126.56%\n",
      "covariance    : 121.50%\n",
      "doitgen       : 109.49%\n",
      "gemm          : 116.09%\n",
      "jacobi-2d     : 118.08%\n",
      "floyd-warshall: 103.76%\n",
      "2mm           : 121.12%\n",
      "cholesky      :   0.58%\n",
      "seidel-2d     :   2.76%\n",
      "deriche       :   2.22%\n",
      "lu            :   2.21%\n",
      "adi           :   1.93%\n",
      "fdtd-2d       :   2.89%\n",
      "syrk          :   1.65%\n",
      "3mm           :   3.42%\n",
      "nussinov      :   2.13%\n"
     ]
    }
   ],
   "source": [
    "print('Percent speedup without Ariel')\n",
    "#TODO - also remove parrot time from norm runs\n",
    "\n",
    "speedup_pct = [((norm_times_seconds_noariel[i] / mf_times_seconds_noariel[i])-1)*100 for i in range(len(names))]\n",
    "\n",
    "for i, n in enumerate(names):\n",
    "    print(f'{n.ljust(14)}: {speedup_pct[i]:6.02f}%')"
   ]
  },
  {
   "cell_type": "code",
   "execution_count": 196,
   "id": "ce0bfe08",
   "metadata": {},
   "outputs": [
    {
     "data": {
      "text/plain": [
       "Profiler: ClockStats\n",
       "                         Name      count   handler time (s)  \\\n",
       "0                 ariel.ariel  199999999            254.418   \n",
       "1            memHierarchy.Bus   24576113             13.962   \n",
       "2          memHierarchy.Cache  155077942            331.588   \n",
       "3  memHierarchy.MemController   49999999            102.050   \n",
       "4         memHierarchy.Parrot   78646625             68.045   \n",
       "\n",
       "    avg. handler time (ns)  \n",
       "0                     1272  \n",
       "1                      568  \n",
       "2                     2138  \n",
       "3                     2041  \n",
       "4                      865  \n",
       "Profiler: EventStats\n",
       "                   Name   recv count   recv time (s)   avg. recv time (ns)\n",
       "0      memHierarchy.Bus      4725089           0.436                    92\n",
       "1  memHierarchy.MemLink    105901573         250.344                  2363\n",
       "2   memHierarchy.Parrot    100380124          42.935                   427\n",
       "Simulated time:\n",
       "  2.37 (+/-0.16) ms\n",
       "Wallclock Time:\n",
       "  Real: 30206.85 (+/-476.47) ms\n",
       "  User: 29819.93 (+/-351.34) ms\n",
       "  Sys:  290.94 (+/-122.06) ms\n",
       "Simulated IPC:\n",
       "  0.651 (+/-0.065) ipc"
      ]
     },
     "execution_count": 196,
     "metadata": {},
     "output_type": "execute_result"
    }
   ],
   "source": [
    "norm.st['deriche']"
   ]
  },
  {
   "cell_type": "code",
   "execution_count": 197,
   "id": "09a08ffe",
   "metadata": {},
   "outputs": [
    {
     "data": {
      "text/plain": [
       "[477.159364, 478.199233, 472.19425700000005, 458.189289, 468.041158]"
      ]
     },
     "execution_count": 197,
     "metadata": {},
     "output_type": "execute_result"
    }
   ],
   "source": [
    "[np.float(x['ClockStats'][x['ClockStats']['Name']=='ariel.ariel'][' handler time (s)']) for x in mf.st['2mm'].profile]"
   ]
  },
  {
   "cell_type": "code",
   "execution_count": null,
   "id": "cb7058b3",
   "metadata": {},
   "outputs": [],
   "source": []
  },
  {
   "cell_type": "code",
   "execution_count": 274,
   "id": "8befab3e",
   "metadata": {},
   "outputs": [
    {
     "data": {
      "text/plain": [
       "Profiler: ClockStats\n",
       "                         Name      count   handler time (s)  \\\n",
       "0                 ariel.ariel  199999999           1175.339   \n",
       "1            memHierarchy.Bus    8446518             13.142   \n",
       "2          memHierarchy.Cache   39507364            308.108   \n",
       "3  memHierarchy.MemController   49999999            121.382   \n",
       "4         memHierarchy.Parrot  145400710            315.106   \n",
       "\n",
       "    avg. handler time (ns)  \n",
       "0                     5876  \n",
       "1                     1555  \n",
       "2                     7798  \n",
       "3                     2427  \n",
       "4                     2167  \n",
       "Profiler: EventStats\n",
       "                   Name   recv count   recv time (s)   avg. recv time (ns)\n",
       "0      memHierarchy.Bus      2162912           0.579                   267\n",
       "1  memHierarchy.MemLink    108949898         651.677                  5981\n",
       "2   memHierarchy.Parrot    187950003         257.391                  1369\n",
       "Simulated time:\n",
       "  23067.82 (+/-0.00) ms\n",
       "Wallclock Time:\n",
       "  Real: 676904356.15 (+/-0.00) ms\n",
       "  User: 667112067.44 (+/-0.00) ms\n",
       "  Sys:  7557017.15 (+/-0.00) ms\n",
       "Simulated IPC:\n",
       "  0.940 (+/-0.000) ipc"
      ]
     },
     "execution_count": 274,
     "metadata": {},
     "output_type": "execute_result"
    }
   ],
   "source": [
    "mf.st['2mm']"
   ]
  },
  {
   "cell_type": "code",
   "execution_count": null,
   "id": "2b76e3f5",
   "metadata": {},
   "outputs": [],
   "source": []
  }
 ],
 "metadata": {
  "kernelspec": {
   "display_name": "sst",
   "language": "python",
   "name": "sst"
  },
  "language_info": {
   "codemirror_mode": {
    "name": "ipython",
    "version": 3
   },
   "file_extension": ".py",
   "mimetype": "text/x-python",
   "name": "python",
   "nbconvert_exporter": "python",
   "pygments_lexer": "ipython3",
   "version": "3.6.8"
  }
 },
 "nbformat": 4,
 "nbformat_minor": 5
}
