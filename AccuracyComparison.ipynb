{
 "cells": [
  {
   "cell_type": "markdown",
   "id": "be3ba41e",
   "metadata": {},
   "source": [
    "# Accuracy Comparison"
   ]
  },
  {
   "cell_type": "code",
   "execution_count": 218,
   "id": "84418de2",
   "metadata": {},
   "outputs": [],
   "source": [
    "# Standard packages\n",
    "import pickle\n",
    "import matplotlib.pyplot as plt\n",
    "import numpy as np\n",
    "from matplotlib import collections  as mc\n",
    "import statistics\n",
    "\n",
    "# Local packages\n",
    "from simulate import *"
   ]
  },
  {
   "cell_type": "code",
   "execution_count": 250,
   "id": "d13f5109",
   "metadata": {},
   "outputs": [],
   "source": [
    "# Load data. Less than 2 MiB.\n",
    "# Data aggregated over 5 runs, up to 100ms of simulation\n",
    "with open('polybench-subset-mf.pkl', 'rb') as file:\n",
    "    mf = pickle.load(file)\n",
    "with open('polybench-subset-mf-newparams.pkl', 'rb') as file:\n",
    "    mf_n = pickle.load(file)\n",
    "with open('polybench-subset-normal.pkl', 'rb') as file:\n",
    "    norm = pickle.load(file)"
   ]
  },
  {
   "cell_type": "code",
   "execution_count": 224,
   "id": "37fdab4c",
   "metadata": {},
   "outputs": [
    {
     "data": {
      "text/plain": [
       "0.6305195831525979"
      ]
     },
     "execution_count": 224,
     "metadata": {},
     "output_type": "execute_result"
    }
   ],
   "source": [
    "mf.st['2mm'].ipc[0]"
   ]
  },
  {
   "cell_type": "code",
   "execution_count": 251,
   "id": "265e0941",
   "metadata": {},
   "outputs": [],
   "source": [
    "names = list(mf.st.keys())\n",
    "y_norm_ipc  = [norm.st[n].ipc[0] for n in names]\n",
    "y_mf_ipc    = [mf.st[n].ipc[0]   for n in names]\n",
    "y_mfn_ipc   = [mf_n.st[n].ipc[0]   for n in names]"
   ]
  },
  {
   "cell_type": "code",
   "execution_count": 256,
   "id": "c895e344",
   "metadata": {},
   "outputs": [
    {
     "data": {
      "image/png": "[encoded data removed]",
      "text/plain": [
       "<Figure size 1080x216 with 1 Axes>"
      ]
     },
     "metadata": {
      "needs_background": "light"
     },
     "output_type": "display_data"
    }
   ],
   "source": [
    "x = np.arange(len(names))\n",
    "width = 0.25\n",
    "fig, ax = plt.subplots()\n",
    "ax.bar(x-width, y_norm_ipc, width, color='white', label='Normal', edgecolor='black')\n",
    "ax.bar(x, y_mf_ipc, width, color='lightgrey', label='Multidelity', edgecolor='black')\n",
    "ax.bar(x+width, y_mfn_ipc, width, color='lightblue', label='Multidelity New', edgecolor='black')\n",
    "\n",
    "ax.set_xticks(x)\n",
    "ax.set_xticklabels(names, rotation=45, ha='right')\n",
    "ax.set_ylim((0,1))\n",
    "ax.set_ylabel('IPC', rotation=90)\n",
    "ax.set_title('IPC (Normal vs. Multifidelity)')\n",
    "ax.autoscale()\n",
    "plt.legend()\n",
    "\n",
    "#ax.yaxis.set_label_coords(-.07, 0.96)\n",
    "nyticks = 5\n",
    "ax.set_yticks([(1/(nyticks-1))*x for x in np.arange(nyticks)])\n",
    "fig.set_size_inches((15,3))\n",
    "fig.savefig('plots/ipc-normal-vs-mf.png')\n",
    "#plt.tight_layout()"
   ]
  },
  {
   "cell_type": "code",
   "execution_count": 253,
   "id": "7f421f39",
   "metadata": {},
   "outputs": [
    {
     "name": "stdout",
     "output_type": "stream",
     "text": [
      "Percent error\n",
      "\n",
      "0  2mm         -33.82%\n",
      "1  adi         -03.32%\n",
      "2  correlation -44.52%\n",
      "3  deriche      00.43%\n",
      "\n",
      "MAPE: 20.52%\n"
     ]
    }
   ],
   "source": [
    "pct_err = []\n",
    "\n",
    "def p_err(approx, exact):\n",
    "    return (approx-exact)/exact * 100\n",
    "def mape(arr):\n",
    "    return np.mean(np.absolute(arr))\n",
    "\n",
    "print('Percent error\\n')\n",
    "name_len = max([len(name) for name in names])\n",
    "for (i, name) in enumerate(names):\n",
    "    pe = p_err(y_mf_ipc[i], y_norm_ipc[i])\n",
    "    pct_err.append(pe)\n",
    "    print(f'{i}'.ljust(2), f'{name}'.ljust(name_len), f'{pe: 06.2f}%')\n",
    "    \n",
    "print(f'\\nMAPE: {mape(pct_err):.2f}%')"
   ]
  },
  {
   "cell_type": "code",
   "execution_count": 254,
   "id": "db4f3d55",
   "metadata": {},
   "outputs": [
    {
     "name": "stdout",
     "output_type": "stream",
     "text": [
      "Percent speedup\n",
      "\n",
      "0  2mm           -0.58%\n",
      "1  adi           -2.03%\n",
      "2  correlation   -1.74%\n",
      "3  deriche       -0.35%\n",
      "\n",
      "Average percent speedup: -1.17%\n"
     ]
    }
   ],
   "source": [
    "# Speed up calculations\n",
    "mf_times_seconds = []\n",
    "norm_times_seconds = []\n",
    "for name in names:\n",
    "    mf_times_seconds.append(mf_n.st[name].times.real.mean/nu.s)\n",
    "    norm_times_seconds.append(norm.st[name].times.real.mean/nu.s)\n",
    "\n",
    "speedup_pct = [((norm_times_seconds[i] / mf_times_seconds[i])-1)*100 for i in range(len(names))]\n",
    "\n",
    "print('Percent speedup\\n')\n",
    "for i in range(len(names)):\n",
    "    print(f'{i}'.ljust(2), f'{names[i]}'.ljust(name_len), f'{speedup_pct[i]: 7.2f}%')\n",
    "\n",
    "print(f'\\nAverage percent speedup: {np.mean(speedup_pct):.2f}%')"
   ]
  },
  {
   "cell_type": "code",
   "execution_count": 234,
   "id": "faf5fb1c",
   "metadata": {},
   "outputs": [],
   "source": [
    "# Calculate speedup of the Memory simulation (subtract off Ariel time)\n",
    "\n",
    "def mean_ariel_time(data, name):\n",
    "    return np.mean([np.float(x['ClockStats'][x['ClockStats']['Name']=='ariel.ariel'][' handler time (s)']) for x in data.st[name].profile])\n",
    "\n",
    "mf_times_seconds_noariel = []\n",
    "norm_times_seconds_noariel = []\n",
    "for name in names:\n",
    "    mf_times_seconds_noariel.append(mf.st[name].times.real.mean/nu.s - mean_ariel_time(mf,name))\n",
    "    norm_times_seconds_noariel.append(norm.st[name].times.real.mean/nu.s - mean_ariel_time(norm,name))"
   ]
  },
  {
   "cell_type": "code",
   "execution_count": 235,
   "id": "053e5ddf",
   "metadata": {},
   "outputs": [
    {
     "data": {
      "text/plain": [
       "833.451725"
      ]
     },
     "execution_count": 235,
     "metadata": {},
     "output_type": "execute_result"
    }
   ],
   "source": [
    "ariel_time = np.mean([np.float(x['ClockStats'][x['ClockStats']['Name']=='ariel.ariel'][' handler time (s)']) for x in mf.st['2mm'].profile])\n",
    "ariel_time"
   ]
  },
  {
   "cell_type": "code",
   "execution_count": 249,
   "id": "575f4cdc",
   "metadata": {},
   "outputs": [
    {
     "name": "stdout",
     "output_type": "stream",
     "text": [
      "Percent speedup without Ariel\n",
      "2mm           : 244.29%\n",
      "adi           :   1.64%\n",
      "correlation   : 297.60%\n",
      "deriche       :  10.69%\n"
     ]
    }
   ],
   "source": [
    "print('Percent speedup without Ariel')\n",
    "#TODO - also remove parrot time from norm runs\n",
    "\n",
    "speedup_pct = [((norm_times_seconds_noariel[i] / mf_times_seconds_noariel[i])-1)*100 for i in range(len(names))]\n",
    "\n",
    "for i, n in enumerate(names):\n",
    "    print(f'{n.ljust(14)}: {speedup_pct[i]:6.02f}%')"
   ]
  },
  {
   "cell_type": "code",
   "execution_count": 196,
   "id": "ce0bfe08",
   "metadata": {},
   "outputs": [
    {
     "data": {
      "text/plain": [
       "Profiler: ClockStats\n",
       "                         Name      count   handler time (s)  \\\n",
       "0                 ariel.ariel  199999999            254.418   \n",
       "1            memHierarchy.Bus   24576113             13.962   \n",
       "2          memHierarchy.Cache  155077942            331.588   \n",
       "3  memHierarchy.MemController   49999999            102.050   \n",
       "4         memHierarchy.Parrot   78646625             68.045   \n",
       "\n",
       "    avg. handler time (ns)  \n",
       "0                     1272  \n",
       "1                      568  \n",
       "2                     2138  \n",
       "3                     2041  \n",
       "4                      865  \n",
       "Profiler: EventStats\n",
       "                   Name   recv count   recv time (s)   avg. recv time (ns)\n",
       "0      memHierarchy.Bus      4725089           0.436                    92\n",
       "1  memHierarchy.MemLink    105901573         250.344                  2363\n",
       "2   memHierarchy.Parrot    100380124          42.935                   427\n",
       "Simulated time:\n",
       "  2.37 (+/-0.16) ms\n",
       "Wallclock Time:\n",
       "  Real: 30206.85 (+/-476.47) ms\n",
       "  User: 29819.93 (+/-351.34) ms\n",
       "  Sys:  290.94 (+/-122.06) ms\n",
       "Simulated IPC:\n",
       "  0.651 (+/-0.065) ipc"
      ]
     },
     "execution_count": 196,
     "metadata": {},
     "output_type": "execute_result"
    }
   ],
   "source": [
    "norm.st['deriche']"
   ]
  },
  {
   "cell_type": "code",
   "execution_count": 197,
   "id": "09a08ffe",
   "metadata": {},
   "outputs": [
    {
     "data": {
      "text/plain": [
       "[477.159364, 478.199233, 472.19425700000005, 458.189289, 468.041158]"
      ]
     },
     "execution_count": 197,
     "metadata": {},
     "output_type": "execute_result"
    }
   ],
   "source": [
    "[np.float(x['ClockStats'][x['ClockStats']['Name']=='ariel.ariel'][' handler time (s)']) for x in mf.st['2mm'].profile]"
   ]
  },
  {
   "cell_type": "code",
   "execution_count": null,
   "id": "cb7058b3",
   "metadata": {},
   "outputs": [],
   "source": []
  },
  {
   "cell_type": "code",
   "execution_count": null,
   "id": "60821f8b",
   "metadata": {},
   "outputs": [],
   "source": []
  }
 ],
 "metadata": {
  "kernelspec": {
   "display_name": "sst",
   "language": "python",
   "name": "sst"
  },
  "language_info": {
   "codemirror_mode": {
    "name": "ipython",
    "version": 3
   },
   "file_extension": ".py",
   "mimetype": "text/x-python",
   "name": "python",
   "nbconvert_exporter": "python",
   "pygments_lexer": "ipython3",
   "version": "3.6.8"
  }
 },
 "nbformat": 4,
 "nbformat_minor": 5
}
