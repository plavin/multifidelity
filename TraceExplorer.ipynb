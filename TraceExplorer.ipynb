{
 "cells": [
  {
   "cell_type": "code",
   "execution_count": 73,
   "id": "02c168aa",
   "metadata": {},
   "outputs": [],
   "source": [
    "# Built-in modules\n",
    "import os\n",
    "import sys\n",
    "import time\n",
    "import statistics\n",
    "from dataclasses import dataclass\n",
    "\n",
    "# External modules\n",
    "import scipy\n",
    "import numpy as np\n",
    "import pandas as pd\n",
    "from numba import jit\n",
    "import matplotlib\n",
    "import matplotlib.pyplot as plt\n",
    "from sklearn.linear_model import LinearRegression\n",
    "from bokeh.palettes import Pastel1\n",
    "from tqdm import tqdm\n",
    "\n",
    "# Local modules\n",
    "from Window import Window\n",
    "from Mapper import Mapper\n",
    "import Trace\n",
    "import PhaseDetector"
   ]
  },
  {
   "cell_type": "code",
   "execution_count": 100,
   "id": "817918f7",
   "metadata": {},
   "outputs": [],
   "source": [
    "TRACES = Trace.TraceList('parrot-traces/test-traces-2/', new_ext=True)"
   ]
  },
  {
   "cell_type": "code",
   "execution_count": 101,
   "id": "b199bcbc",
   "metadata": {},
   "outputs": [],
   "source": [
    "TRACES.load()"
   ]
  },
  {
   "cell_type": "code",
   "execution_count": 102,
   "id": "ff108c40",
   "metadata": {},
   "outputs": [
    {
     "data": {
      "text/plain": [
       "2mm 2mm-mf"
      ]
     },
     "execution_count": 102,
     "metadata": {},
     "output_type": "execute_result"
    }
   ],
   "source": [
    "TRACES"
   ]
  },
  {
   "cell_type": "code",
   "execution_count": 111,
   "id": "bbe79054",
   "metadata": {},
   "outputs": [],
   "source": [
    "def summarize(arr, s):\n",
    "    nint = len(arr) // s\n",
    "    return [np.mean(arr[i*s : (i+1)*s]) for i in range(nint)]\n",
    "\n",
    "def make_plot(ax, tr1, tr2, params):\n",
    "    lat1 = summarize(tr1.data['latency_nano'], params.summarize)\n",
    "    lat2 = summarize(tr2.data['latency_nano'], params.summarize)\n",
    "    \n",
    "    print(len(lat1))\n",
    "    print(len(lat2))\n",
    "    \n",
    "    ax.plot(lat1, color='blue', label=tr1.name)\n",
    "    ax.plot(lat2, color='black', label=tr2.name)\n",
    "    \n",
    "    ax.axvline(params.rr_start/params.summarize, color='red', label='RR')\n",
    "    ax.axvline(params.rr_end/params.summarize, color='red')\n",
    "    \n",
    "    ax.set_xlabel(f\"Inteval ({params.summarize}'s of instructions)\")\n",
    "    ax.set_ylabel(f\"Mean Latency\")\n",
    "    \n",
    "    \n",
    "def super_plot(tr1, tr2, params):\n",
    "    fig, ax = plt.subplots(constrained_layout=True)\n",
    "    \n",
    "    make_plot(ax, tr1, tr2, params)\n",
    "    \n",
    "    fig.legend()\n",
    "    \n",
    "    if params.savefig:\n",
    "        fig.savefig('plots/2mm-mf-vs-normal-debug.png')"
   ]
  },
  {
   "cell_type": "code",
   "execution_count": 112,
   "id": "761ebcdb",
   "metadata": {},
   "outputs": [
    {
     "name": "stdout",
     "output_type": "stream",
     "text": [
      "952\n",
      "599\n"
     ]
    },
    {
     "data": {
      "image/png": "[encoded data removed]",
      "text/plain": [
       "<Figure size 432x288 with 1 Axes>"
      ]
     },
     "metadata": {
      "needs_background": "light"
     },
     "output_type": "display_data"
    }
   ],
   "source": [
    "@dataclass(frozen=True)\n",
    "class Param:\n",
    "    summarize: int = 100_000\n",
    "    savefig: bool = False\n",
    "    rr_start: int = 7276500\n",
    "    rr_end: int = rr_start+153000\n",
    "\n",
    "super_plot(TRACES[0], TRACES[1], Param())"
   ]
  },
  {
   "cell_type": "code",
   "execution_count": 113,
   "id": "0c41cc16",
   "metadata": {},
   "outputs": [
    {
     "name": "stdout",
     "output_type": "stream",
     "text": [
      "Mean [2mm]:  \t7.883\n",
      "Mean [2mm-mf]:  \t7.985\n"
     ]
    }
   ],
   "source": [
    "# Display the mean of the accesses contained in the RR\n",
    "# We know the RR from the file for the mf run\n",
    "# We know the RR from the optimizer for the normal run\n",
    "# They are the same somehow? Incredible\n",
    "\n",
    "def region_mean(trace, start, end):\n",
    "    print(f'Mean [{trace.name}]:  \\t{np.mean(trace.data[\"latency_nano\"][start:end]):.3f}')\n",
    "\n",
    "region_mean(TRACES[0], 1856000, 1856000+79000)\n",
    "region_mean(TRACES[1], Param().rr_start,  Param().rr_end)\n",
    "\n"
   ]
  },
  {
   "cell_type": "markdown",
   "id": "17e04c1f",
   "metadata": {},
   "source": [
    "Ok, so the mean is about right. 3.9. That's where the black line is above. Why aren't we getting the same behavior out of the MF model?\n",
    "\n",
    "Our mean latency is too low. That should translate into an IPC that is too high. However, we are getting an IPC that is actually too low. \n",
    "\n",
    "That's not good. But let's focus on fixing the latency first."
   ]
  },
  {
   "cell_type": "code",
   "execution_count": 84,
   "id": "30629d04",
   "metadata": {},
   "outputs": [],
   "source": [
    "import pickle\n",
    "from simulate import *\n",
    "with open('polybench-subset-mf-newparams-2mmonly.pkl', 'rb') as file:\n",
    "    st_temp = pickle.load(file)"
   ]
  },
  {
   "cell_type": "code",
   "execution_count": 125,
   "id": "6cb9a65c",
   "metadata": {},
   "outputs": [
    {
     "data": {
      "text/plain": [
       "[0.562929007814645]"
      ]
     },
     "execution_count": 125,
     "metadata": {},
     "output_type": "execute_result"
    }
   ],
   "source": [
    "st_temp.st['2mm'].ipc"
   ]
  },
  {
   "cell_type": "code",
   "execution_count": 121,
   "id": "2f2243c6",
   "metadata": {},
   "outputs": [
    {
     "data": {
      "text/plain": [
       "0.6289932483967193"
      ]
     },
     "execution_count": 121,
     "metadata": {},
     "output_type": "execute_result"
    }
   ],
   "source": [
    "\n",
    "len(TRACES[1].data) / len(TRACES[0].data)"
   ]
  },
  {
   "cell_type": "code",
   "execution_count": 126,
   "id": "7c6ca193",
   "metadata": {},
   "outputs": [
    {
     "data": {
      "text/plain": [
       "1.0047193980184534"
      ]
     },
     "execution_count": 126,
     "metadata": {},
     "output_type": "execute_result"
    }
   ],
   "source": [
    "95746218 / len(TRACES[0].data)"
   ]
  },
  {
   "cell_type": "code",
   "execution_count": 127,
   "id": "61fa7d52",
   "metadata": {},
   "outputs": [
    {
     "data": {
      "text/plain": [
       "2.0089580437371053"
      ]
     },
     "execution_count": 127,
     "metadata": {},
     "output_type": "execute_result"
    }
   ],
   "source": [
    " 191446622/ len(TRACES[0].data)"
   ]
  },
  {
   "cell_type": "code",
   "execution_count": 128,
   "id": "e90cafb4",
   "metadata": {},
   "outputs": [
    {
     "data": {
      "text/plain": [
       "0.9572331147861656"
      ]
     },
     "execution_count": 128,
     "metadata": {},
     "output_type": "execute_result"
    }
   ],
   "source": [
    "191446622/  199999999"
   ]
  },
  {
   "cell_type": "code",
   "execution_count": 131,
   "id": "b5b7337f",
   "metadata": {},
   "outputs": [
    {
     "data": {
      "text/plain": [
       "90497525"
      ]
     },
     "execution_count": 131,
     "metadata": {},
     "output_type": "execute_result"
    }
   ],
   "source": [
    "len(TRACES[0].data[TRACES[0].data['rwf']=='r'])"
   ]
  },
  {
   "cell_type": "code",
   "execution_count": 132,
   "id": "c5860df2",
   "metadata": {},
   "outputs": [
    {
     "data": {
      "text/plain": [
       "4798951"
      ]
     },
     "execution_count": 132,
     "metadata": {},
     "output_type": "execute_result"
    }
   ],
   "source": [
    "len(TRACES[0].data[TRACES[0].data['rwf']=='w'])"
   ]
  },
  {
   "cell_type": "code",
   "execution_count": 133,
   "id": "6cd0a41a",
   "metadata": {},
   "outputs": [
    {
     "data": {
      "text/plain": [
       "0.05302853310076712"
      ]
     },
     "execution_count": 133,
     "metadata": {},
     "output_type": "execute_result"
    }
   ],
   "source": [
    "4798951/90497525"
   ]
  },
  {
   "cell_type": "code",
   "execution_count": 135,
   "id": "764e5f5e",
   "metadata": {},
   "outputs": [],
   "source": [
    "import pickle\n",
    "from simulate import *\n",
    "with open('polybench-subset-normal.pkl', 'rb') as file:\n",
    "    st_norm_temp = pickle.load(file)"
   ]
  },
  {
   "cell_type": "code",
   "execution_count": 137,
   "id": "e3393def",
   "metadata": {},
   "outputs": [
    {
     "data": {
      "text/plain": [
       "Profiler: ClockStats\n",
       "                         Name      count   handler time (s)  \\\n",
       "0                 ariel.ariel  199999999           1493.532   \n",
       "1            memHierarchy.Bus   62688352             99.152   \n",
       "2          memHierarchy.Cache  294677250           2238.657   \n",
       "3  memHierarchy.MemController   49999999            139.274   \n",
       "4         memHierarchy.Parrot  144395094            363.888   \n",
       "\n",
       "    avg. handler time (ns)  \n",
       "0                     7467  \n",
       "1                     1581  \n",
       "2                     7596  \n",
       "3                     2785  \n",
       "4                     2520  \n",
       "Profiler: EventStats\n",
       "                   Name   recv count   recv time (s)   avg. recv time (ns)\n",
       "0      memHierarchy.Bus     16102174           4.254                   264\n",
       "1  memHierarchy.MemLink    206717178        1326.270                  6415\n",
       "2   memHierarchy.Parrot    190592959         208.021                  1091\n",
       "Simulated time:\n",
       "  100.00 (+/-0.00) ms (sem 0.00)\n",
       "Wallclock Time:\n",
       "  Real: 6023500.00 (+/-0.00) ms (sem 0.00)\n",
       "  User: 5976580.00 (+/-0.00) ms (sem 0.00)\n",
       "  Sys:  26640.00 (+/-0.00) ms (sem 0.00)\n",
       "Simulated IPC:\n",
       "  0.953 (+/-0.000) (0.000 sem) ipc"
      ]
     },
     "execution_count": 137,
     "metadata": {},
     "output_type": "execute_result"
    }
   ],
   "source": [
    "st_norm_temp.st['2mm']"
   ]
  },
  {
   "cell_type": "code",
   "execution_count": null,
   "id": "7954d8a9",
   "metadata": {},
   "outputs": [],
   "source": []
  }
 ],
 "metadata": {
  "kernelspec": {
   "display_name": "sst",
   "language": "python",
   "name": "sst"
  },
  "language_info": {
   "codemirror_mode": {
    "name": "ipython",
    "version": 3
   },
   "file_extension": ".py",
   "mimetype": "text/x-python",
   "name": "python",
   "nbconvert_exporter": "python",
   "pygments_lexer": "ipython3",
   "version": "3.6.8"
  }
 },
 "nbformat": 4,
 "nbformat_minor": 5
}
