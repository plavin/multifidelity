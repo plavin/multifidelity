{
 "cells": [
  {
   "cell_type": "code",
   "execution_count": 67,
   "id": "ee5ccf97",
   "metadata": {},
   "outputs": [],
   "source": [
    "# Built-in modules\n",
    "import os\n",
    "import sys\n",
    "import time\n",
    "import statistics\n",
    "from dataclasses import dataclass\n",
    "\n",
    "# External modules\n",
    "import scipy\n",
    "import numpy as np\n",
    "import pandas as pd\n",
    "from numba import jit\n",
    "import matplotlib\n",
    "import matplotlib.pyplot as plt\n",
    "from sklearn.linear_model import LinearRegression\n",
    "from bokeh.palettes import Pastel1\n",
    "from tqdm import tqdm\n",
    "\n",
    "# Local modules\n",
    "from Window import Window\n",
    "from Mapper import Mapper\n",
    "import Trace\n",
    "import PhaseDetector"
   ]
  },
  {
   "cell_type": "code",
   "execution_count": 68,
   "id": "b50ed601",
   "metadata": {},
   "outputs": [],
   "source": [
    "TRACES = Trace.TraceList('parrot-traces/test-traces/', new_ext=True)"
   ]
  },
  {
   "cell_type": "code",
   "execution_count": 70,
   "id": "ca59d4a5",
   "metadata": {},
   "outputs": [],
   "source": [
    "TRACES.load()"
   ]
  },
  {
   "cell_type": "code",
   "execution_count": 71,
   "id": "b66ca65e",
   "metadata": {},
   "outputs": [],
   "source": [
    "def summarize(arr, s):\n",
    "    nint = len(arr) // s\n",
    "    return [np.mean(arr[i*s : (i+1)*s]) for i in range(nint)]\n",
    "\n",
    "def make_plot(ax, tr1, tr2, params):\n",
    "    lat1 = summarize(tr1.data['latency_nano'], params.summarize)\n",
    "    lat2 = summarize(tr2.data['latency_nano'], params.summarize)\n",
    "    \n",
    "    print(len(lat1))\n",
    "    print(len(lat2))\n",
    "    \n",
    "    ax.plot(lat1, color='blue', label=tr1.name)\n",
    "    ax.plot(lat2, color='black', label=tr2.name)\n",
    "    \n",
    "    ax.axvline(params.rr_start/params.summarize, color='red', label='RR')\n",
    "    ax.axvline(params.rr_end/params.summarize, color='red')\n",
    "    \n",
    "    ax.set_xlabel(f\"Inteval ({params.summarize}'s of instructions)\")\n",
    "    ax.set_ylabel(f\"Mean Latency\")\n",
    "    \n",
    "    \n",
    "def super_plot(tr1, tr2, params):\n",
    "    fig, ax = plt.subplots(constrained_layout=True)\n",
    "    \n",
    "    make_plot(ax, tr1, tr2, params)\n",
    "    \n",
    "    fig.legend()\n",
    "    \n",
    "    if params.savefig:\n",
    "        fig.savefig('plots/2mm-mf-vs-normal-debug.png')"
   ]
  },
  {
   "cell_type": "code",
   "execution_count": 72,
   "id": "2134a0f9",
   "metadata": {},
   "outputs": [
    {
     "name": "stdout",
     "output_type": "stream",
     "text": [
      "95\n",
      "58\n"
     ]
    },
    {
     "data": {
      "image/png": "[encoded data removed]",
      "text/plain": [
       "<Figure size 432x288 with 1 Axes>"
      ]
     },
     "metadata": {
      "needs_background": "light"
     },
     "output_type": "display_data"
    }
   ],
   "source": [
    "@dataclass(frozen=True)\n",
    "class Param:\n",
    "    summarize: int = 1_000_000\n",
    "    savefig: bool = False\n",
    "    rr_start: int = 1856000\n",
    "    rr_end: int = 1856000+79000\n",
    "\n",
    "super_plot(TRACES[2], TRACES[1], Param())"
   ]
  },
  {
   "cell_type": "code",
   "execution_count": 63,
   "id": "bda448f0",
   "metadata": {},
   "outputs": [
    {
     "name": "stdout",
     "output_type": "stream",
     "text": [
      "Mean [2mm-mf]:  \t3.949\n",
      "Mean [2mm-normal]:  \t3.985\n"
     ]
    }
   ],
   "source": [
    "# Display the mean of the accesses contained in the RR\n",
    "# We know the RR from the file for the mf run\n",
    "# We know the RR from the optimizer for the normal run\n",
    "# They are the same somehow? Incredible\n",
    "\n",
    "def region_mean(trace, start, end):\n",
    "    print(f'Mean [{trace.name}]:  \\t{np.mean(trace.data[\"latency_nano\"][start:end]):.3f}')\n",
    "\n",
    "region_mean(TRACES[0], 1856000, 1856000+79000)\n",
    "region_mean(TRACES[1], 1856000,  1856000+79000)"
   ]
  },
  {
   "cell_type": "markdown",
   "id": "59550bce",
   "metadata": {},
   "source": [
    "Ok, so the mean is about right. 3.9. That's where the black line is above. Why aren't we getting the same behavior out of the MF model?\n",
    "\n",
    "Our mean latency is too low. That should translate into an IPC that is too high. However, we are getting an IPC that is actually too low. \n",
    "\n",
    "That's not good. But let's focus on fixing the latency first."
   ]
  },
  {
   "cell_type": "code",
   "execution_count": null,
   "id": "fac69c54",
   "metadata": {},
   "outputs": [],
   "source": []
  }
 ],
 "metadata": {
  "kernelspec": {
   "display_name": "sst",
   "language": "python",
   "name": "sst"
  },
  "language_info": {
   "codemirror_mode": {
    "name": "ipython",
    "version": 3
   },
   "file_extension": ".py",
   "mimetype": "text/x-python",
   "name": "python",
   "nbconvert_exporter": "python",
   "pygments_lexer": "ipython3",
   "version": "3.6.8"
  }
 },
 "nbformat": 4,
 "nbformat_minor": 5
}
