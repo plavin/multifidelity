{
 "cells": [
  {
   "cell_type": "markdown",
   "id": "ba0d6327",
   "metadata": {},
   "source": [
    "# Joint optimization of PD and SD\n",
    "\n",
    "This notebook explores the joint optimization of phase detection and stability detection."
   ]
  },
  {
   "cell_type": "code",
   "execution_count": 104,
   "id": "7b784ac2",
   "metadata": {},
   "outputs": [],
   "source": [
    "import numpy as np\n",
    "import pandas as pd\n",
    "import matplotlib.pyplot as plt\n",
    "from paretoset import paretoset"
   ]
  },
  {
   "cell_type": "code",
   "execution_count": null,
   "id": "d57ee859",
   "metadata": {},
   "outputs": [],
   "source": [
    "with open('/nethome/plavin3/sst/spec-utils/optimize/results/opt-poly-normal.out') as file:\n",
    "    df = pd.read_csv(file, sep=' ', comment='#')"
   ]
  },
  {
   "cell_type": "markdown",
   "id": "718e3a5a",
   "metadata": {},
   "source": [
    "## Baseline\n",
    "\n",
    "What was the score of the PD+SD used in past MF simulations?"
   ]
  },
  {
   "cell_type": "code",
   "execution_count": 28,
   "id": "c2ae9ff9",
   "metadata": {},
   "outputs": [
    {
     "name": "stdout",
     "output_type": "stream",
     "text": [
      "Percent Swapped: 0.856\n",
      "Mean error:      6.415\n"
     ]
    }
   ],
   "source": [
    "orig = df[(df['threshold']    == 0.5)   &\n",
    "          (df['phase_length'] == 10000) &\n",
    "          (df['stable_min']   == 3)     &\n",
    "          (df['window_start'] == 10)    &\n",
    "          (df['summarize']    == 500)   &\n",
    "          (df['proj_dist']    == 5)     & \n",
    "          (df['proj_delta']   == 2.0)   &\n",
    "          (df['p_j']          == 4)]\n",
    "\n",
    "print(f'Percent Swapped: {float(orig[\"pct\"]):.3f}\\nMean error:      {float(orig[\"acc\"]):.3f}')"
   ]
  },
  {
   "cell_type": "markdown",
   "id": "62652b22",
   "metadata": {},
   "source": [
    "## Basic Questions\n",
    "\n",
    "1. What are the best values for each of the metrics?\n",
    "\n",
    "For `pct`, higher is better. For `acc`, lower is better. (It should be `err`, not `acc`, really)."
   ]
  },
  {
   "cell_type": "code",
   "execution_count": 8,
   "id": "b457418a",
   "metadata": {},
   "outputs": [
    {
     "data": {
      "text/html": [
       "<div>\n",
       "<style scoped>\n",
       "    .dataframe tbody tr th:only-of-type {\n",
       "        vertical-align: middle;\n",
       "    }\n",
       "\n",
       "    .dataframe tbody tr th {\n",
       "        vertical-align: top;\n",
       "    }\n",
       "\n",
       "    .dataframe thead th {\n",
       "        text-align: right;\n",
       "    }\n",
       "</style>\n",
       "<table border=\"1\" class=\"dataframe\">\n",
       "  <thead>\n",
       "    <tr style=\"text-align: right;\">\n",
       "      <th></th>\n",
       "      <th>pct</th>\n",
       "      <th>acc</th>\n",
       "      <th>threshold</th>\n",
       "      <th>phase_length</th>\n",
       "      <th>stable_min</th>\n",
       "      <th>window_start</th>\n",
       "      <th>summarize</th>\n",
       "      <th>proj_dist</th>\n",
       "      <th>proj_delta</th>\n",
       "      <th>p_j</th>\n",
       "    </tr>\n",
       "  </thead>\n",
       "  <tbody>\n",
       "    <tr>\n",
       "      <th>872</th>\n",
       "      <td>0.924754</td>\n",
       "      <td>6.47646</td>\n",
       "      <td>0.6</td>\n",
       "      <td>10000</td>\n",
       "      <td>4</td>\n",
       "      <td>20</td>\n",
       "      <td>1000</td>\n",
       "      <td>5</td>\n",
       "      <td>2.0</td>\n",
       "      <td>4</td>\n",
       "    </tr>\n",
       "  </tbody>\n",
       "</table>\n",
       "</div>"
      ],
      "text/plain": [
       "          pct      acc  threshold  phase_length  stable_min  window_start  \\\n",
       "872  0.924754  6.47646        0.6         10000           4            20   \n",
       "\n",
       "     summarize  proj_dist  proj_delta  p_j  \n",
       "872       1000          5         2.0    4  "
      ]
     },
     "execution_count": 8,
     "metadata": {},
     "output_type": "execute_result"
    }
   ],
   "source": [
    "max_pct = max(df['pct'])\n",
    "df[df['pct'] == max_pct]"
   ]
  },
  {
   "cell_type": "code",
   "execution_count": 9,
   "id": "15e5c395",
   "metadata": {},
   "outputs": [
    {
     "data": {
      "text/html": [
       "<div>\n",
       "<style scoped>\n",
       "    .dataframe tbody tr th:only-of-type {\n",
       "        vertical-align: middle;\n",
       "    }\n",
       "\n",
       "    .dataframe tbody tr th {\n",
       "        vertical-align: top;\n",
       "    }\n",
       "\n",
       "    .dataframe thead th {\n",
       "        text-align: right;\n",
       "    }\n",
       "</style>\n",
       "<table border=\"1\" class=\"dataframe\">\n",
       "  <thead>\n",
       "    <tr style=\"text-align: right;\">\n",
       "      <th></th>\n",
       "      <th>pct</th>\n",
       "      <th>acc</th>\n",
       "      <th>threshold</th>\n",
       "      <th>phase_length</th>\n",
       "      <th>stable_min</th>\n",
       "      <th>window_start</th>\n",
       "      <th>summarize</th>\n",
       "      <th>proj_dist</th>\n",
       "      <th>proj_delta</th>\n",
       "      <th>p_j</th>\n",
       "    </tr>\n",
       "  </thead>\n",
       "  <tbody>\n",
       "    <tr>\n",
       "      <th>3762</th>\n",
       "      <td>0.520038</td>\n",
       "      <td>0.871201</td>\n",
       "      <td>0.6</td>\n",
       "      <td>50000</td>\n",
       "      <td>3</td>\n",
       "      <td>20</td>\n",
       "      <td>1000</td>\n",
       "      <td>10</td>\n",
       "      <td>0.5</td>\n",
       "      <td>10</td>\n",
       "    </tr>\n",
       "  </tbody>\n",
       "</table>\n",
       "</div>"
      ],
      "text/plain": [
       "           pct       acc  threshold  phase_length  stable_min  window_start  \\\n",
       "3762  0.520038  0.871201        0.6         50000           3            20   \n",
       "\n",
       "      summarize  proj_dist  proj_delta  p_j  \n",
       "3762       1000         10         0.5   10  "
      ]
     },
     "execution_count": 9,
     "metadata": {},
     "output_type": "execute_result"
    }
   ],
   "source": [
    "min_err = min(df['acc'])\n",
    "df[df['acc'] == min_err]"
   ]
  },
  {
   "cell_type": "markdown",
   "id": "c1ee7038",
   "metadata": {},
   "source": [
    "\n",
    "1. Let's look at what values are the same:\n",
    "\n",
    "    - `threshold`: Both take the maximum value of 0.6, indicating that a lower tolerace for determining similarity is alright\n",
    "    - `window_start`: Both use the maximum value of 20, indicating that a larger window is good for accuracy but also find for time spent swapped.\n",
    "    - `summarize`: Both use the maximum value of 1000\n",
    "\n",
    "\n",
    "2. Now, where do they differ:\n",
    "\n",
    "    - Remaining parameters for SD, `proj_dist`, `proj_delta`, `p_j`:\n",
    "        - To get good accuracy, we need low tolerances for these. The high accuracy projects out further, requires tighter tolerances, and does more projection tests. However, this run is only swapped for about 50% of the time. **Question 1: if we just look at runs swapped over 80% of the time, how close can we get to an error of only 0.87?**\n",
    "        \n",
    "    - Remaining PD parameters, `phase_length`, `stable_min`:\n",
    "        - Higher accuracy prefers a longer `phase_length`, but a smaller number of similar intervals required for stability (`stable_min`). \n",
    "        - **Question 2: How important are these? If we restrict ourselves to just the PD parameters used for high swap percentage, how close do we get to this accuracy goal?**"
   ]
  },
  {
   "cell_type": "markdown",
   "id": "9991249b",
   "metadata": {},
   "source": [
    "## Q1: If we just look at runs swapped over N% of the time, how close can we get to the minimum error of 0.871201?"
   ]
  },
  {
   "cell_type": "code",
   "execution_count": 57,
   "id": "e3a517b2",
   "metadata": {},
   "outputs": [
    {
     "data": {
      "image/png": "[encoded data removed]",
      "text/plain": [
       "<Figure size 432x288 with 1 Axes>"
      ]
     },
     "metadata": {
      "needs_background": "light"
     },
     "output_type": "display_data"
    }
   ],
   "source": [
    "nx = 10\n",
    "\n",
    "# Range is [min_pct, max_pct)\n",
    "def pct_range(df, min_pct):\n",
    "    return df[(df['pct'] >= min_pct)]\n",
    "\n",
    "at_least = [(i/nx) for i in range(nx)]\n",
    "min_err = []\n",
    "for a in at_least:\n",
    "    df_subset = pct_range(df, a)\n",
    "    min_err.append(min(df_subset['acc']))\n",
    "\n",
    "fig, ax = plt.subplots()\n",
    "ax.plot(at_least, min_err)\n",
    "ax.set_ylim(0, max(min_err)+0.5)\n",
    "ax.set_xticks(at_least)\n",
    "ax.set_xticklabels([f'{100*a:.0f}%' for a in at_least])\n",
    "ax.set_yticks([int(i) for i in range(0,int(max(min_err))+2)])\n",
    "ax.set_yticklabels([f'{int(i)}%' for i in range(0,int(max(min_err))+2)])\n",
    "ax.set_xlabel('Percentage of time swapped')\n",
    "ax.set_ylabel('Minimum achievable error')\n",
    "ax.set_title('Mininum achievable error as a funciton of minimum time swapped')\n",
    "plt.show()"
   ]
  },
  {
   "cell_type": "markdown",
   "id": "25abf3c6",
   "metadata": {},
   "source": [
    "What have we learned? From the parameters we have tried so far, the only way to get good accuracy is with a very low (~50%) amount of time spent swapped. We of course expected this relationship, but we need to see how far we can push the accuracy while keeping a relatively high swap percentage, say 80%."
   ]
  },
  {
   "cell_type": "markdown",
   "id": "9d5dd6a8",
   "metadata": {},
   "source": [
    "## Question 2a: How important are `phase_length` and `stable_min`? If we restrict ourselves to just the PD parameters used for high swap percentage, how close do we get to this accuracy goal?"
   ]
  },
  {
   "cell_type": "code",
   "execution_count": 70,
   "id": "9714bd03",
   "metadata": {},
   "outputs": [
    {
     "name": "stdout",
     "output_type": "stream",
     "text": [
      "Min error while using best phase_length and stable_min for high swap: 1.511\n"
     ]
    }
   ],
   "source": [
    "df_subset = df[(df['phase_length']==10_000) & (df['stable_min']==4)]\n",
    "min_err_subset = min(df_subset['acc'])\n",
    "res = float(df_subset[df_subset['acc'] == min_err_subset]['acc'])\n",
    "print(f'Min error while using best phase_length and stable_min for high swap: {res:.3f}')"
   ]
  },
  {
   "cell_type": "markdown",
   "id": "ccc4574c",
   "metadata": {},
   "source": [
    "## Question 2b: How important are `phase_length` and `stable_min`? If we restrict ourselves to just the *SD* parameters used for *low error*, how close do we get to this swap goal?"
   ]
  },
  {
   "cell_type": "code",
   "execution_count": 69,
   "id": "72da335c",
   "metadata": {},
   "outputs": [
    {
     "name": "stdout",
     "output_type": "stream",
     "text": [
      "Max percentage swapped while using best phase_length and stable_min: 0.879\n"
     ]
    }
   ],
   "source": [
    "df_subset = df[(df['phase_length']==50_000) & (df['stable_min']==3)]\n",
    "max_pct_subset = max(df_subset['pct'])\n",
    "res = float(df_subset[df_subset['pct'] == max_pct_subset]['pct'])\n",
    "print(f'Max percentage swapped while using best phase_length and stable_min for low error: {res:.3f}')"
   ]
  },
  {
   "cell_type": "markdown",
   "id": "160edaf6",
   "metadata": {},
   "source": [
    "So we see that if we restrict ourselves to the best parameters for swap percentage, we can still achieve an accuracy of 1.5 (best was ~0.87), and if we restrict ourselves to the best parameters for low error, we can still achieve a swap percentage of 0.87 (best was ~0.92). \n",
    "\n",
    "This is somewhat heartening. Since we are more concerned with hitting a high accuracy, let's take the latter set of parameters for now.\n",
    "\n",
    "## New Parameter Search\n",
    "\n",
    "Now that we have learned a bit about the parameters, let's consider our next search space:\n",
    "\n",
    "1. The parameters `threshold`, `window_start`, and `summarize` all maxed out their values. Let's add one larger value to all of those.\n",
    "\n",
    "```\n",
    "    threshold    = [0.6, 0.65]\n",
    "    window_start = [20, 25]\n",
    "    summarize    = [1000, 1500]\n",
    "```\n",
    "\n",
    "2. The parameters `phase_length` and `stable_min` were found to be relatively small, so we will restrict them for now.\n",
    "```\n",
    "    phase_length = [50_000]\n",
    "    stable_min   = [3]\n",
    "```\n",
    "\n",
    "3. This leaves the three parameters we found to be very important for achieving high accuracy. Let's leave them alone for now.\n",
    "```\n",
    "    proj_dist  = [5, 10]\n",
    "    proj_delta = [0.5, 1.0, 2.0]\n",
    "    p_j        = [4, 6, 8, 10]\n",
    "```\n",
    "\n",
    "### Changes to scoring\n",
    "\n",
    "Note that the scoring has changed slightly in this second set of data. Instead of a default score of (0,1), we now use a default of (0,0). A default score is used for traces with no RRs identified. The first number is the percent of time swapped, which of course is 0. The second number is the error, which I mistakenly set to be 1 before. The appropriate error for a trace with no RR is 0. This should not change the scoring very much."
   ]
  },
  {
   "cell_type": "code",
   "execution_count": 130,
   "id": "0b985532",
   "metadata": {},
   "outputs": [],
   "source": [
    "with open('/nethome/plavin3/sst/spec-utils/optimize/results/opt-poly-normal-2.out') as file:\n",
    "    df2 = pd.read_csv(file, sep=' ', comment='#')\n",
    "with open('/nethome/plavin3/sst/spec-utils/optimize/results/opt-poly-normal-3.out') as file:\n",
    "    df3 = pd.read_csv(file, sep=' ', comment='#')\n",
    "with open('/nethome/plavin3/sst/spec-utils/optimize/results/opt-poly-normal-4.out') as file:\n",
    "    df4 = pd.read_csv(file, sep=' ', comment='#')"
   ]
  },
  {
   "cell_type": "code",
   "execution_count": 73,
   "id": "aefa1067",
   "metadata": {},
   "outputs": [
    {
     "data": {
      "text/html": [
       "<div>\n",
       "<style scoped>\n",
       "    .dataframe tbody tr th:only-of-type {\n",
       "        vertical-align: middle;\n",
       "    }\n",
       "\n",
       "    .dataframe tbody tr th {\n",
       "        vertical-align: top;\n",
       "    }\n",
       "\n",
       "    .dataframe thead th {\n",
       "        text-align: right;\n",
       "    }\n",
       "</style>\n",
       "<table border=\"1\" class=\"dataframe\">\n",
       "  <thead>\n",
       "    <tr style=\"text-align: right;\">\n",
       "      <th></th>\n",
       "      <th>pct</th>\n",
       "      <th>acc</th>\n",
       "      <th>threshold</th>\n",
       "      <th>phase_length</th>\n",
       "      <th>stable_min</th>\n",
       "      <th>window_start</th>\n",
       "      <th>summarize</th>\n",
       "      <th>proj_dist</th>\n",
       "      <th>proj_delta</th>\n",
       "      <th>p_j</th>\n",
       "    </tr>\n",
       "  </thead>\n",
       "  <tbody>\n",
       "    <tr>\n",
       "      <th>155</th>\n",
       "      <td>0.881869</td>\n",
       "      <td>5.96681</td>\n",
       "      <td>0.65</td>\n",
       "      <td>50000</td>\n",
       "      <td>3</td>\n",
       "      <td>20</td>\n",
       "      <td>1500</td>\n",
       "      <td>5</td>\n",
       "      <td>2.0</td>\n",
       "      <td>4</td>\n",
       "    </tr>\n",
       "  </tbody>\n",
       "</table>\n",
       "</div>"
      ],
      "text/plain": [
       "          pct      acc  threshold  phase_length  stable_min  window_start  \\\n",
       "155  0.881869  5.96681       0.65         50000           3            20   \n",
       "\n",
       "     summarize  proj_dist  proj_delta  p_j  \n",
       "155       1500          5         2.0    4  "
      ]
     },
     "execution_count": 73,
     "metadata": {},
     "output_type": "execute_result"
    }
   ],
   "source": [
    "# Highest swap percentage\n",
    "df2[df2['pct'] == max(df2['pct'])]"
   ]
  },
  {
   "cell_type": "code",
   "execution_count": 76,
   "id": "c766c55d",
   "metadata": {},
   "outputs": [
    {
     "data": {
      "text/html": [
       "<div>\n",
       "<style scoped>\n",
       "    .dataframe tbody tr th:only-of-type {\n",
       "        vertical-align: middle;\n",
       "    }\n",
       "\n",
       "    .dataframe tbody tr th {\n",
       "        vertical-align: top;\n",
       "    }\n",
       "\n",
       "    .dataframe thead th {\n",
       "        text-align: right;\n",
       "    }\n",
       "</style>\n",
       "<table border=\"1\" class=\"dataframe\">\n",
       "  <thead>\n",
       "    <tr style=\"text-align: right;\">\n",
       "      <th></th>\n",
       "      <th>pct</th>\n",
       "      <th>acc</th>\n",
       "      <th>threshold</th>\n",
       "      <th>phase_length</th>\n",
       "      <th>stable_min</th>\n",
       "      <th>window_start</th>\n",
       "      <th>summarize</th>\n",
       "      <th>proj_dist</th>\n",
       "      <th>proj_delta</th>\n",
       "      <th>p_j</th>\n",
       "    </tr>\n",
       "  </thead>\n",
       "  <tbody>\n",
       "    <tr>\n",
       "      <th>6</th>\n",
       "      <td>0.417965</td>\n",
       "      <td>0.244749</td>\n",
       "      <td>0.60</td>\n",
       "      <td>50000</td>\n",
       "      <td>3</td>\n",
       "      <td>25</td>\n",
       "      <td>1500</td>\n",
       "      <td>10</td>\n",
       "      <td>0.5</td>\n",
       "      <td>10</td>\n",
       "    </tr>\n",
       "    <tr>\n",
       "      <th>7</th>\n",
       "      <td>0.417965</td>\n",
       "      <td>0.244749</td>\n",
       "      <td>0.65</td>\n",
       "      <td>50000</td>\n",
       "      <td>3</td>\n",
       "      <td>25</td>\n",
       "      <td>1500</td>\n",
       "      <td>10</td>\n",
       "      <td>0.5</td>\n",
       "      <td>10</td>\n",
       "    </tr>\n",
       "  </tbody>\n",
       "</table>\n",
       "</div>"
      ],
      "text/plain": [
       "        pct       acc  threshold  phase_length  stable_min  window_start  \\\n",
       "6  0.417965  0.244749       0.60         50000           3            25   \n",
       "7  0.417965  0.244749       0.65         50000           3            25   \n",
       "\n",
       "   summarize  proj_dist  proj_delta  p_j  \n",
       "6       1500         10         0.5   10  \n",
       "7       1500         10         0.5   10  "
      ]
     },
     "execution_count": 76,
     "metadata": {},
     "output_type": "execute_result"
    }
   ],
   "source": [
    "# Lowest Error\n",
    "df2[df2['acc'] == min(df2['acc'])]"
   ]
  },
  {
   "cell_type": "markdown",
   "id": "93151ba2",
   "metadata": {},
   "source": [
    "Well, we managed to get even better error by running the models even less...\n",
    "\n",
    "Let's look at some pareto style plots. "
   ]
  },
  {
   "cell_type": "code",
   "execution_count": 113,
   "id": "a000c208",
   "metadata": {},
   "outputs": [
    {
     "data": {
      "image/png": "[encoded data removed]",
      "text/plain": [
       "<Figure size 432x288 with 1 Axes>"
      ]
     },
     "metadata": {
      "needs_background": "light"
     },
     "output_type": "display_data"
    }
   ],
   "source": [
    "def pct_vs_err(ax, df, df2, df3, df4=None):\n",
    "    xs = np.float64(df['pct'])\n",
    "    ys = np.float64(df['acc'])\n",
    "    ax.scatter(xs, ys, s=1, label='Experiment 1')\n",
    "    \n",
    "    xs = np.float64(df2['pct'])\n",
    "    ys = np.float64(df2['acc'])\n",
    "    ax.scatter(xs, ys, s=4, c='red', label='Experiment 2')\n",
    "    \n",
    "    xs = np.float64(df3['pct'])\n",
    "    ys = np.float64(df3['acc'])\n",
    "    ax.scatter(xs, ys, s=4, c='darkgreen', label='Experiment 3')\n",
    "    \n",
    "    if (df4 is not None):\n",
    "        xs = np.float64(df4['pct'])\n",
    "        ys = np.float64(df4['acc'])\n",
    "        ax.scatter(xs, ys, s=4, c='lightgreen', label='Ex3 Pareto')\n",
    "        \n",
    "    nx = 10\n",
    "    ax.set_xticks([i/nx for i in range(4, nx+1)])\n",
    "    ax.set_xticklabels([f'{100*i/nx:.0f}%' for i in range(4, nx+1)])\n",
    "    ax.set_xlabel('Percent of time swapped (higher is better)')\n",
    "    \n",
    "    ax.set_ylabel('Mean percent error (lower is better)')\n",
    "    ax.set_title('Time vs. Accuracy trade-off')\n",
    "    \n",
    "fig, ax = plt.subplots(constrained_layout=True)\n",
    "pct_vs_err(ax, df, df2, df3)\n",
    "plt.show()"
   ]
  },
  {
   "cell_type": "markdown",
   "id": "4e681354",
   "metadata": {},
   "source": [
    "The next step is to modify the opitimizer to weight the `pct` value by the length of the various traces. Let's see how that changes the results of the second experiment. (See green values above)\n",
    "\n",
    "Ok, so we've got more data. Should we re-run the analysis from before?\n",
    "\n",
    "Let's calculate the pareo optimal values."
   ]
  },
  {
   "cell_type": "code",
   "execution_count": 131,
   "id": "5a7ae8ad",
   "metadata": {},
   "outputs": [
    {
     "data": {
      "image/png": "[encoded data removed]",
      "text/plain": [
       "<Figure size 432x288 with 1 Axes>"
      ]
     },
     "metadata": {
      "needs_background": "light"
     },
     "output_type": "display_data"
    }
   ],
   "source": [
    "df_last = df4\n",
    "\n",
    "mask = paretoset(df_last[['pct', 'acc']], sense=['max', 'min'])\n",
    "fig, ax = plt.subplots(constrained_layout=True)\n",
    "pct_vs_err(ax, df, df2, df_last, df_last[mask])\n",
    "plt.show()"
   ]
  },
  {
   "cell_type": "code",
   "execution_count": 135,
   "id": "017d4e87",
   "metadata": {},
   "outputs": [
    {
     "data": {
      "text/html": [
       "<div>\n",
       "<style scoped>\n",
       "    .dataframe tbody tr th:only-of-type {\n",
       "        vertical-align: middle;\n",
       "    }\n",
       "\n",
       "    .dataframe tbody tr th {\n",
       "        vertical-align: top;\n",
       "    }\n",
       "\n",
       "    .dataframe thead th {\n",
       "        text-align: right;\n",
       "    }\n",
       "</style>\n",
       "<table border=\"1\" class=\"dataframe\">\n",
       "  <thead>\n",
       "    <tr style=\"text-align: right;\">\n",
       "      <th></th>\n",
       "      <th>pct</th>\n",
       "      <th>acc</th>\n",
       "      <th>threshold</th>\n",
       "      <th>phase_length</th>\n",
       "      <th>stable_min</th>\n",
       "      <th>window_start</th>\n",
       "      <th>summarize</th>\n",
       "      <th>proj_dist</th>\n",
       "      <th>proj_delta</th>\n",
       "      <th>p_j</th>\n",
       "    </tr>\n",
       "  </thead>\n",
       "  <tbody>\n",
       "    <tr>\n",
       "      <th>19</th>\n",
       "      <td>0.775742</td>\n",
       "      <td>6.05822</td>\n",
       "      <td>0.65</td>\n",
       "      <td>50000</td>\n",
       "      <td>3</td>\n",
       "      <td>25</td>\n",
       "      <td>1500</td>\n",
       "      <td>10</td>\n",
       "      <td>1.0</td>\n",
       "      <td>4</td>\n",
       "    </tr>\n",
       "    <tr>\n",
       "      <th>53</th>\n",
       "      <td>0.773365</td>\n",
       "      <td>5.88368</td>\n",
       "      <td>0.65</td>\n",
       "      <td>50000</td>\n",
       "      <td>3</td>\n",
       "      <td>20</td>\n",
       "      <td>1000</td>\n",
       "      <td>10</td>\n",
       "      <td>2.0</td>\n",
       "      <td>6</td>\n",
       "    </tr>\n",
       "    <tr>\n",
       "      <th>61</th>\n",
       "      <td>0.866270</td>\n",
       "      <td>6.98569</td>\n",
       "      <td>0.65</td>\n",
       "      <td>50000</td>\n",
       "      <td>3</td>\n",
       "      <td>25</td>\n",
       "      <td>1500</td>\n",
       "      <td>5</td>\n",
       "      <td>2.0</td>\n",
       "      <td>6</td>\n",
       "    </tr>\n",
       "    <tr>\n",
       "      <th>66</th>\n",
       "      <td>0.779697</td>\n",
       "      <td>6.16297</td>\n",
       "      <td>0.65</td>\n",
       "      <td>50000</td>\n",
       "      <td>3</td>\n",
       "      <td>25</td>\n",
       "      <td>1500</td>\n",
       "      <td>10</td>\n",
       "      <td>2.0</td>\n",
       "      <td>6</td>\n",
       "    </tr>\n",
       "    <tr>\n",
       "      <th>69</th>\n",
       "      <td>0.766687</td>\n",
       "      <td>5.61596</td>\n",
       "      <td>0.60</td>\n",
       "      <td>50000</td>\n",
       "      <td>3</td>\n",
       "      <td>20</td>\n",
       "      <td>1000</td>\n",
       "      <td>10</td>\n",
       "      <td>2.0</td>\n",
       "      <td>6</td>\n",
       "    </tr>\n",
       "    <tr>\n",
       "      <th>76</th>\n",
       "      <td>0.852816</td>\n",
       "      <td>6.53936</td>\n",
       "      <td>0.60</td>\n",
       "      <td>50000</td>\n",
       "      <td>3</td>\n",
       "      <td>25</td>\n",
       "      <td>1500</td>\n",
       "      <td>5</td>\n",
       "      <td>2.0</td>\n",
       "      <td>6</td>\n",
       "    </tr>\n",
       "    <tr>\n",
       "      <th>104</th>\n",
       "      <td>0.803910</td>\n",
       "      <td>6.43417</td>\n",
       "      <td>0.60</td>\n",
       "      <td>50000</td>\n",
       "      <td>3</td>\n",
       "      <td>20</td>\n",
       "      <td>1500</td>\n",
       "      <td>5</td>\n",
       "      <td>1.0</td>\n",
       "      <td>4</td>\n",
       "    </tr>\n",
       "    <tr>\n",
       "      <th>109</th>\n",
       "      <td>0.782291</td>\n",
       "      <td>6.40880</td>\n",
       "      <td>0.65</td>\n",
       "      <td>50000</td>\n",
       "      <td>3</td>\n",
       "      <td>25</td>\n",
       "      <td>1500</td>\n",
       "      <td>5</td>\n",
       "      <td>2.0</td>\n",
       "      <td>8</td>\n",
       "    </tr>\n",
       "    <tr>\n",
       "      <th>155</th>\n",
       "      <td>0.813563</td>\n",
       "      <td>6.47726</td>\n",
       "      <td>0.60</td>\n",
       "      <td>50000</td>\n",
       "      <td>3</td>\n",
       "      <td>25</td>\n",
       "      <td>1000</td>\n",
       "      <td>10</td>\n",
       "      <td>2.0</td>\n",
       "      <td>4</td>\n",
       "    </tr>\n",
       "    <tr>\n",
       "      <th>163</th>\n",
       "      <td>0.922403</td>\n",
       "      <td>7.21995</td>\n",
       "      <td>0.60</td>\n",
       "      <td>50000</td>\n",
       "      <td>3</td>\n",
       "      <td>20</td>\n",
       "      <td>1500</td>\n",
       "      <td>5</td>\n",
       "      <td>2.0</td>\n",
       "      <td>4</td>\n",
       "    </tr>\n",
       "    <tr>\n",
       "      <th>184</th>\n",
       "      <td>0.948475</td>\n",
       "      <td>7.43260</td>\n",
       "      <td>0.65</td>\n",
       "      <td>50000</td>\n",
       "      <td>3</td>\n",
       "      <td>20</td>\n",
       "      <td>1500</td>\n",
       "      <td>5</td>\n",
       "      <td>2.0</td>\n",
       "      <td>4</td>\n",
       "    </tr>\n",
       "  </tbody>\n",
       "</table>\n",
       "</div>"
      ],
      "text/plain": [
       "          pct      acc  threshold  phase_length  stable_min  window_start  \\\n",
       "19   0.775742  6.05822       0.65         50000           3            25   \n",
       "53   0.773365  5.88368       0.65         50000           3            20   \n",
       "61   0.866270  6.98569       0.65         50000           3            25   \n",
       "66   0.779697  6.16297       0.65         50000           3            25   \n",
       "69   0.766687  5.61596       0.60         50000           3            20   \n",
       "76   0.852816  6.53936       0.60         50000           3            25   \n",
       "104  0.803910  6.43417       0.60         50000           3            20   \n",
       "109  0.782291  6.40880       0.65         50000           3            25   \n",
       "155  0.813563  6.47726       0.60         50000           3            25   \n",
       "163  0.922403  7.21995       0.60         50000           3            20   \n",
       "184  0.948475  7.43260       0.65         50000           3            20   \n",
       "\n",
       "     summarize  proj_dist  proj_delta  p_j  \n",
       "19        1500         10         1.0    4  \n",
       "53        1000         10         2.0    6  \n",
       "61        1500          5         2.0    6  \n",
       "66        1500         10         2.0    6  \n",
       "69        1000         10         2.0    6  \n",
       "76        1500          5         2.0    6  \n",
       "104       1500          5         1.0    4  \n",
       "109       1500          5         2.0    8  \n",
       "155       1000         10         2.0    4  \n",
       "163       1500          5         2.0    4  \n",
       "184       1500          5         2.0    4  "
      ]
     },
     "execution_count": 135,
     "metadata": {},
     "output_type": "execute_result"
    }
   ],
   "source": [
    "df_tmp = df_last[mask]\n",
    "\n",
    "df_tmp[df_tmp['pct'] > .75]"
   ]
  },
  {
   "cell_type": "code",
   "execution_count": 129,
   "id": "f387e045",
   "metadata": {},
   "outputs": [
    {
     "data": {
      "image/png": "[encoded data removed]",
      "text/plain": [
       "<Figure size 288x1152 with 16 Axes>"
      ]
     },
     "metadata": {
      "needs_background": "light"
     },
     "output_type": "display_data"
    }
   ],
   "source": [
    "## Question: Do any parameter values always produce a result with percent error greater than X%? \n",
    "\n",
    "## Question: Do any parameter values always produce a result with time swapped less than Y%?\n",
    "\n",
    "def plot_param(ax, df, x_param, y_param):\n",
    "    ax.scatter(df[x_param], df[y_param], s=1)\n",
    "    \n",
    "fig, ax = plt.subplots(nrows=8, ncols=2)\n",
    "\n",
    "y_params = ['pct', 'acc']\n",
    "x_params = ['threshold', 'phase_length', 'stable_min', 'window_start', 'summarize', 'proj_dist', 'proj_delta', 'p_j']\n",
    "\n",
    "for i, y_p in enumerate(y_params):\n",
    "    for j, x_p in enumerate(x_params):\n",
    "        plot_param(ax[j][i], df, x_p, y_p)\n",
    "#plot_param(ax[0][0], df2, 'window_start', 'pct')\n",
    "#plot_param(ax[0][0], df2, 'window_start', 'pct')\n",
    "\n",
    "fig.set_size_inches((4, 16))"
   ]
  },
  {
   "cell_type": "markdown",
   "id": "c356b1e0",
   "metadata": {},
   "source": [
    "Ok, it's a bit hard to read that. \n",
    "\n",
    "Do we need to search more, or should we pick some parameters and re-run all the simulations? \n",
    "\n",
    "Do we need to evaluate on the full dataset? We could try that. "
   ]
  },
  {
   "cell_type": "markdown",
   "id": "c2206c6c",
   "metadata": {},
   "source": [
    "# Version 2"
   ]
  },
  {
   "cell_type": "code",
   "execution_count": 137,
   "id": "a18683af",
   "metadata": {},
   "outputs": [],
   "source": [
    "with open('/nethome/plavin3/sst/spec-utils/optimize/results/opt-poly-subset.out') as file:\n",
    "    dfs = pd.read_csv(file, sep=' ', comment='#')"
   ]
  },
  {
   "cell_type": "code",
   "execution_count": 195,
   "id": "3d3d5fb2",
   "metadata": {},
   "outputs": [
    {
     "data": {
      "image/png": "[encoded data removed]",
      "text/plain": [
       "<Figure size 648x432 with 1 Axes>"
      ]
     },
     "metadata": {
      "needs_background": "light"
     },
     "output_type": "display_data"
    }
   ],
   "source": [
    "def pct_vs_err2(ax, df):\n",
    "    xs = np.float64(df['pct'])\n",
    "    ys = np.float64(df['acc'])\n",
    "    ax.scatter(xs, ys, s=1, label='Experiment 1')\n",
    "    \n",
    "    mask = paretoset(df[['pct', 'acc']], sense=['max', 'min'])\n",
    "    xs = np.float64(df[mask]['pct'])\n",
    "    ys = np.float64(df[mask]['acc'])\n",
    "    ax.scatter(xs, ys, s=60, label='Pareto Ex. 1', c='red', marker='+')\n",
    "    \n",
    "    # Original value\n",
    "    #0.859323 12.4571\n",
    "    ax.scatter([0.859323], [12.4571], s=60, label='Original config', c='darkorange', marker='+')\n",
    "        \n",
    "    nx = 10\n",
    "    ax.set_xticks([i/nx for i in range(4, nx+1)])\n",
    "    ax.set_xticklabels([f'{100*i/nx:.0f}%' for i in range(4, nx+1)])\n",
    "    ax.set_xlabel('Percent of time swapped (higher is better)')\n",
    "    \n",
    "    ax.set_ylabel('Mean percent error (lower is better)')\n",
    "    ax.set_title('1296 configurations\\nEvaluated on 2mm, deriche, correlation, adi')\n",
    "    \n",
    "    return mask\n",
    "    \n",
    "fig, ax = plt.subplots(constrained_layout=True)\n",
    "fig.set_size_inches((6*1.5, 4*1.5))\n",
    "pareto = pct_vs_err2(ax, dfs)\n",
    "plt.legend()\n",
    "plt.suptitle('Time vs. Accuracy Trade-off', weight='semibold')\n",
    "plt.savefig('plots/time-vs-accuracy-trade-off.png')\n",
    "plt.show()"
   ]
  },
  {
   "cell_type": "code",
   "execution_count": 175,
   "id": "2f6b255a",
   "metadata": {},
   "outputs": [
    {
     "data": {
      "text/html": [
       "<div>\n",
       "<style scoped>\n",
       "    .dataframe tbody tr th:only-of-type {\n",
       "        vertical-align: middle;\n",
       "    }\n",
       "\n",
       "    .dataframe tbody tr th {\n",
       "        vertical-align: top;\n",
       "    }\n",
       "\n",
       "    .dataframe thead th {\n",
       "        text-align: right;\n",
       "    }\n",
       "</style>\n",
       "<table border=\"1\" class=\"dataframe\">\n",
       "  <thead>\n",
       "    <tr style=\"text-align: right;\">\n",
       "      <th></th>\n",
       "      <th>pct</th>\n",
       "      <th>acc</th>\n",
       "      <th>threshold</th>\n",
       "      <th>phase_length</th>\n",
       "      <th>stable_min</th>\n",
       "      <th>window_start</th>\n",
       "      <th>summarize</th>\n",
       "      <th>proj_dist</th>\n",
       "      <th>proj_delta</th>\n",
       "      <th>p_j</th>\n",
       "    </tr>\n",
       "  </thead>\n",
       "  <tbody>\n",
       "    <tr>\n",
       "      <th>975</th>\n",
       "      <td>0.584738</td>\n",
       "      <td>0.127198</td>\n",
       "      <td>0.50</td>\n",
       "      <td>100000</td>\n",
       "      <td>3</td>\n",
       "      <td>50</td>\n",
       "      <td>1500</td>\n",
       "      <td>5</td>\n",
       "      <td>1.0</td>\n",
       "      <td>10</td>\n",
       "    </tr>\n",
       "    <tr>\n",
       "      <th>1016</th>\n",
       "      <td>0.752456</td>\n",
       "      <td>3.442210</td>\n",
       "      <td>0.50</td>\n",
       "      <td>10000</td>\n",
       "      <td>3</td>\n",
       "      <td>50</td>\n",
       "      <td>1000</td>\n",
       "      <td>5</td>\n",
       "      <td>1.0</td>\n",
       "      <td>4</td>\n",
       "    </tr>\n",
       "    <tr>\n",
       "      <th>756</th>\n",
       "      <td>0.852942</td>\n",
       "      <td>4.083020</td>\n",
       "      <td>0.50</td>\n",
       "      <td>10000</td>\n",
       "      <td>3</td>\n",
       "      <td>20</td>\n",
       "      <td>1500</td>\n",
       "      <td>5</td>\n",
       "      <td>2.0</td>\n",
       "      <td>6</td>\n",
       "    </tr>\n",
       "    <tr>\n",
       "      <th>300</th>\n",
       "      <td>0.900730</td>\n",
       "      <td>4.809230</td>\n",
       "      <td>0.50</td>\n",
       "      <td>100000</td>\n",
       "      <td>3</td>\n",
       "      <td>25</td>\n",
       "      <td>1000</td>\n",
       "      <td>5</td>\n",
       "      <td>2.0</td>\n",
       "      <td>4</td>\n",
       "    </tr>\n",
       "    <tr>\n",
       "      <th>533</th>\n",
       "      <td>0.927251</td>\n",
       "      <td>6.410070</td>\n",
       "      <td>0.50</td>\n",
       "      <td>50000</td>\n",
       "      <td>3</td>\n",
       "      <td>20</td>\n",
       "      <td>1500</td>\n",
       "      <td>5</td>\n",
       "      <td>2.0</td>\n",
       "      <td>4</td>\n",
       "    </tr>\n",
       "    <tr>\n",
       "      <th>830</th>\n",
       "      <td>0.975813</td>\n",
       "      <td>10.139300</td>\n",
       "      <td>0.65</td>\n",
       "      <td>100000</td>\n",
       "      <td>3</td>\n",
       "      <td>25</td>\n",
       "      <td>1000</td>\n",
       "      <td>5</td>\n",
       "      <td>2.0</td>\n",
       "      <td>4</td>\n",
       "    </tr>\n",
       "  </tbody>\n",
       "</table>\n",
       "</div>"
      ],
      "text/plain": [
       "           pct        acc  threshold  phase_length  stable_min  window_start  \\\n",
       "975   0.584738   0.127198       0.50        100000           3            50   \n",
       "1016  0.752456   3.442210       0.50         10000           3            50   \n",
       "756   0.852942   4.083020       0.50         10000           3            20   \n",
       "300   0.900730   4.809230       0.50        100000           3            25   \n",
       "533   0.927251   6.410070       0.50         50000           3            20   \n",
       "830   0.975813  10.139300       0.65        100000           3            25   \n",
       "\n",
       "      summarize  proj_dist  proj_delta  p_j  \n",
       "975        1500          5         1.0   10  \n",
       "1016       1000          5         1.0    4  \n",
       "756        1500          5         2.0    6  \n",
       "300        1000          5         2.0    4  \n",
       "533        1500          5         2.0    4  \n",
       "830        1000          5         2.0    4  "
      ]
     },
     "execution_count": 175,
     "metadata": {},
     "output_type": "execute_result"
    }
   ],
   "source": [
    "dfs[pareto].sort_values('acc')"
   ]
  },
  {
   "cell_type": "code",
   "execution_count": 177,
   "id": "5ff3f68b",
   "metadata": {},
   "outputs": [
    {
     "data": {
      "text/plain": [
       "1296"
      ]
     },
     "execution_count": 177,
     "metadata": {},
     "output_type": "execute_result"
    }
   ],
   "source": [
    "len(dfs)"
   ]
  },
  {
   "cell_type": "code",
   "execution_count": null,
   "id": "43f656b9",
   "metadata": {},
   "outputs": [],
   "source": []
  }
 ],
 "metadata": {
  "kernelspec": {
   "display_name": "sst",
   "language": "python",
   "name": "sst"
  },
  "language_info": {
   "codemirror_mode": {
    "name": "ipython",
    "version": 3
   },
   "file_extension": ".py",
   "mimetype": "text/x-python",
   "name": "python",
   "nbconvert_exporter": "python",
   "pygments_lexer": "ipython3",
   "version": "3.6.8"
  }
 },
 "nbformat": 4,
 "nbformat_minor": 5
}
