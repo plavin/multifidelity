{
 "cells": [
  {
   "cell_type": "markdown",
   "id": "e031c1b2-071c-4feb-99f2-ef820be4be70",
   "metadata": {},
   "source": [
    "# Big Traces\n",
    "\n",
    "This notebook is more optimized for handling large traces and focuses on easy to compute plots and metrics."
   ]
  },
  {
   "cell_type": "code",
   "execution_count": 3,
   "id": "a85d978d-ba1e-4012-9f6f-289923828f53",
   "metadata": {
    "tags": []
   },
   "outputs": [],
   "source": [
    "import pandas as pd\n",
    "import numpy as np\n",
    "import matplotlib.pyplot as plt\n",
    "import os\n",
    "import sys\n",
    "import pathlib\n",
    "import matplotlib\n",
    "from statsmodels.distributions.empirical_distribution import ECDF\n",
    "from scipy.interpolate import interp1d\n",
    "import statistics\n",
    "from sortedcontainers import SortedList, SortedDict\n",
    "import time\n",
    "from scipy import stats\n",
    "import pprint\n",
    "from functools import total_ordering"
   ]
  },
  {
   "cell_type": "code",
   "execution_count": 4,
   "id": "b76c6b9c-bc37-4367-a73c-7e798b2ce8bb",
   "metadata": {},
   "outputs": [],
   "source": [
    "DATA_DIR = 'parrot-traces/medium-100ms/'"
   ]
  },
  {
   "cell_type": "code",
   "execution_count": 67,
   "id": "f3548741-0ec6-4732-9199-d58d57384499",
   "metadata": {},
   "outputs": [],
   "source": [
    "FILES    = [p.absolute() for p in pathlib.Path(DATA_DIR).iterdir()]\n",
    "\n",
    "@total_ordering\n",
    "class trace:\n",
    "    def __init__(self, path):\n",
    "        self.path = path\n",
    "        self.name = path.stem.split('_')[2]\n",
    "        self.data = None\n",
    "    def _load(self):\n",
    "        return pd.read_csv(self.path, delim_whitespace=True)\n",
    "    def load(self, persist=False):\n",
    "        if self.data is not None:\n",
    "            return self.data\n",
    "        if persist:\n",
    "            self.data = self._load()\n",
    "            return self.data\n",
    "        return self._load()\n",
    "    def unload(self):\n",
    "        self.data = None\n",
    "    def loadLat(self):\n",
    "        return np.array(pd.read_csv(self.path, delim_whitespace=True)['latency_nano'])\n",
    "    def __repr__(self):\n",
    "        return self.name\n",
    "    def __lt__(self, obj):\n",
    "        return ((self.name) < (obj.name))\n",
    "    def __eq__(self, obj):\n",
    "        return (self.name == obj.name)\n",
    "    \n",
    "TRACES  = sorted([trace(f) for f in FILES])\n",
    "\n",
    "def loadAll():\n",
    "    [t.load(persist=True) for t in TRACES]\n",
    "    \n",
    "def unloadAll():\n",
    "    [t.unload() for t in TRACES]"
   ]
  },
  {
   "cell_type": "code",
   "execution_count": 52,
   "id": "94810a36-b55a-4381-94ee-16049eef541a",
   "metadata": {},
   "outputs": [
    {
     "name": "stdout",
     "output_type": "stream",
     "text": [
      "Directory: parrot-traces/medium-100ms/\n",
      "Files:     2mm 3mm adi atax bicg cholesky correlation covariance deriche doitgen durbin fdtd-2d floyd-warshall gemm gemver gesummv gramschmidt heat-3d jacobi-1d jacobi-2d lu ludcmp mvt nussinov seidel-2d symm syr2k syrk trisolv trmm\n"
     ]
    }
   ],
   "source": [
    "print('Directory:'.ljust(10), DATA_DIR)\n",
    "print('Files:'.ljust(10), *TRACES)"
   ]
  },
  {
   "cell_type": "code",
   "execution_count": 7,
   "id": "39665f6c-749e-474e-9268-92e91ba2c9f2",
   "metadata": {},
   "outputs": [],
   "source": [
    "a = TRACES[3].loadLat()"
   ]
  },
  {
   "cell_type": "code",
   "execution_count": 8,
   "id": "cdf2b44d-8080-459d-b34e-e8de80b091bc",
   "metadata": {},
   "outputs": [
    {
     "data": {
      "image/png": "[encoded data removed]",
      "text/plain": [
       "<Figure size 432x288 with 1 Axes>"
      ]
     },
     "metadata": {
      "needs_background": "light"
     },
     "output_type": "display_data"
    }
   ],
   "source": [
    "his,_ = np.histogram(a,bins=100)\n",
    "np.seterr(divide = 'ignore')\n",
    "fig, ax = plt.subplots()\n",
    "#ax.hist(a[a>4], bins=100)\n",
    "ax.bar([*range(len(his))],np.log(his))\n",
    "plt.show()"
   ]
  },
  {
   "cell_type": "code",
   "execution_count": 9,
   "id": "ec94221c-0f1e-4dda-9c96-ed9e5b9fa06b",
   "metadata": {},
   "outputs": [
    {
     "data": {
      "text/plain": [
       "[<matplotlib.lines.Line2D at 0x7f856b45cb70>]"
      ]
     },
     "execution_count": 9,
     "metadata": {},
     "output_type": "execute_result"
    },
    {
     "data": {
      "image/png": "[encoded data removed]",
      "text/plain": [
       "<Figure size 432x288 with 1 Axes>"
      ]
     },
     "metadata": {
      "needs_background": "light"
     },
     "output_type": "display_data"
    }
   ],
   "source": [
    "fig, ax = plt.subplots()\n",
    "ax.semilogy(sorted(a))"
   ]
  },
  {
   "cell_type": "code",
   "execution_count": 10,
   "id": "c7c9108e-a782-4835-8a5e-ef5a90de67ec",
   "metadata": {},
   "outputs": [
    {
     "name": "stdout",
     "output_type": "stream",
     "text": [
      "Length: 6954481\n",
      "% < 3 : 0.48\n",
      "% < 4 : 0.96\n",
      "% < 5 : 0.96\n",
      "% < 6 : 0.96\n",
      "% < 7 : 0.96\n",
      "% < 8 : 0.96\n"
     ]
    }
   ],
   "source": [
    "#ss = len(str(len(a)))+2\n",
    "#print(*[label.ljust(ss) for label in ['len', '<3']])\n",
    "#print(*[str(datapoint).ljust(ss) for datapoint in [len(a), len(a[a<3]), len(a[a<3])/len(a)*100]])\n",
    "\n",
    "print(f'Length: {len(a)}')\n",
    "print(f'% < 3 : {len(a[a<3])/len(a):.2f}')\n",
    "print(f'% < 4 : {len(a[a<4])/len(a):.2f}')\n",
    "print(f'% < 5 : {len(a[a<5])/len(a):.2f}')\n",
    "\n",
    "print(f'% < 6 : {len(a[a<6])/len(a):.2f}')\n",
    "print(f'% < 7 : {len(a[a<7])/len(a):.2f}')\n",
    "print(f'% < 8 : {len(a[a<8])/len(a):.2f}')\n"
   ]
  },
  {
   "cell_type": "code",
   "execution_count": 124,
   "id": "9bbdf0a4-5b4e-4083-9ace-8eb491c38f67",
   "metadata": {},
   "outputs": [
    {
     "data": {
      "image/png": "[encoded data removed]",
      "text/plain": [
       "<Figure size 640x480 with 1 Axes>"
      ]
     },
     "metadata": {},
     "output_type": "display_data"
    }
   ],
   "source": [
    "fig, ax = plt.subplots()\n",
    "ecdf = ECDF(a[a>8])\n",
    "ax.plot(ecdf.x, ecdf.y)\n",
    "plt.show()"
   ]
  },
  {
   "cell_type": "code",
   "execution_count": 125,
   "id": "bdc2b029-c456-4def-b375-292a26ae5335",
   "metadata": {},
   "outputs": [
    {
     "data": {
      "text/plain": [
       "3.620457017787275"
      ]
     },
     "execution_count": 125,
     "metadata": {},
     "output_type": "execute_result"
    }
   ],
   "source": [
    "np.mean(a)"
   ]
  },
  {
   "cell_type": "code",
   "execution_count": 126,
   "id": "a851d4c3-dd3e-4b41-8e6d-58e9720e9223",
   "metadata": {},
   "outputs": [
    {
     "data": {
      "text/plain": [
       "3.61458"
      ]
     },
     "execution_count": 126,
     "metadata": {},
     "output_type": "execute_result"
    }
   ],
   "source": [
    "np.mean(np.random.choice(a, 1000000))"
   ]
  },
  {
   "cell_type": "code",
   "execution_count": 132,
   "id": "489f5503-99c6-4764-ba97-c87da45fb729",
   "metadata": {},
   "outputs": [
    {
     "name": "stdout",
     "output_type": "stream",
     "text": [
      "1\n",
      "1\n"
     ]
    }
   ],
   "source": [
    "tr = TRACES[0:2]\n",
    "\n",
    "for t in tr:\n",
    "    print(max(t.load()['phase']))"
   ]
  },
  {
   "cell_type": "code",
   "execution_count": 131,
   "id": "59248654-1208-4a16-a694-98b90ec58238",
   "metadata": {},
   "outputs": [
    {
     "data": {
      "text/plain": [
       "Index(['phase', 'rwf', 'threadID', 'addr', 'latency_nano'], dtype='object')"
      ]
     },
     "execution_count": 131,
     "metadata": {},
     "output_type": "execute_result"
    }
   ],
   "source": [
    "TRACES[0].load().columns"
   ]
  },
  {
   "cell_type": "code",
   "execution_count": 11,
   "id": "6dcb57a1-874c-424c-815e-c2b107e76c62",
   "metadata": {},
   "outputs": [
    {
     "name": "stdout",
     "output_type": "stream",
     "text": [
      "Overall: 4.89\n",
      "Per-interval\n"
     ]
    },
    {
     "data": {
      "text/plain": [
       "[<matplotlib.lines.Line2D at 0x7f856b300208>]"
      ]
     },
     "execution_count": 11,
     "metadata": {},
     "output_type": "execute_result"
    },
    {
     "data": {
      "image/png": "[encoded data removed]",
      "text/plain": [
       "<Figure size 432x288 with 1 Axes>"
      ]
     },
     "metadata": {
      "needs_background": "light"
     },
     "output_type": "display_data"
    }
   ],
   "source": [
    "ov = np.mean(a)\n",
    "print(f'Overall: {ov:.2f}')\n",
    "print(f'Per-interval')\n",
    "\n",
    "intlen = 100000\n",
    "intervals = len(a)//intlen\n",
    "peri = [np.mean(a[i*intlen : (i+1)*intlen]) for i in range(intervals)]\n",
    "#print(peri)\n",
    "\n",
    "fig, ax = plt.subplots()\n",
    "#ax.plot(peri)\n",
    "#ax.hlines(y=ov, xmin=0, xmax=intervals, linewidth=2, color='r')\n",
    "\n",
    "# Error plot\n",
    "ax.plot(peri-ov)"
   ]
  },
  {
   "cell_type": "code",
   "execution_count": 15,
   "id": "2b4f6386-789c-4a30-a5ab-e6111f9fe4e4",
   "metadata": {},
   "outputs": [
    {
     "data": {
      "image/png": "[encoded data removed]",
      "text/plain": [
       "<Figure size 432x288 with 1 Axes>"
      ]
     },
     "metadata": {
      "needs_background": "light"
     },
     "output_type": "display_data"
    }
   ],
   "source": [
    "def abspctchange(old, new):\n",
    "    return np.abs((old - new) / old)\n",
    "pc = [abspctchange(peri[i], peri[i+1]) for i in range(len(peri)-1)]\n",
    "#print(np.array(pc) < 0.05)\n",
    "plt.plot(pc) \n",
    "plt.show()"
   ]
  },
  {
   "cell_type": "code",
   "execution_count": 166,
   "id": "9fb1bf1b-5812-4acd-bf3e-c696c11f3ba5",
   "metadata": {},
   "outputs": [
    {
     "data": {
      "text/plain": [
       "1.0"
      ]
     },
     "execution_count": 166,
     "metadata": {},
     "output_type": "execute_result"
    }
   ],
   "source": []
  },
  {
   "cell_type": "code",
   "execution_count": 174,
   "id": "9d5e8b1e-b8e0-4305-bf2b-03cffd61fe38",
   "metadata": {},
   "outputs": [
    {
     "name": "stdout",
     "output_type": "stream",
     "text": [
      "durbin\n"
     ]
    }
   ],
   "source": [
    "print(TRACES[3])"
   ]
  },
  {
   "cell_type": "code",
   "execution_count": 100,
   "id": "9c52e9f7-5f21-4479-8b86-006b94078da6",
   "metadata": {},
   "outputs": [],
   "source": [
    "def get_phase_changes(phases):\n",
    "    pc = []\n",
    "    for i in range(len(phases)-1):\n",
    "        if phases[i] != phases[i+1]:\n",
    "            pc.append(i)\n",
    "    return pc\n",
    "\n",
    "def pl_latency_over_time(ax, t, interval_len):\n",
    "    #ov = np.mean(series)\n",
    "    #print(f'loading {t.name}')\n",
    "    df = t.load(persist=True)\n",
    "    series = df['latency_nano']\n",
    "    #print('doing get_phase_changes')\n",
    "    #pc = get_phase_changes(df['phase'])\n",
    "    #print(pc)\n",
    "    #print(np.array(pc) // interval_len)\n",
    "    nintervals = len(series)//interval_len\n",
    "    peri = [np.mean(series[i*interval_len : (i+1)*interval_len]) for i in range(nintervals)]\n",
    "    ax.plot(peri)\n",
    "    ax.xticks([nintervals//2, nintervals])\n",
    "    \n",
    "\n",
    "#fig, axs = plt.subplots(ncols=len(TRACES), sharey=True)\n",
    "#for i, t in enumerate(TRACES[:1]):\n",
    "#    pl_latency_over_time(axs[i], t, 100000)\n",
    "\n",
    "#fig.set_size_inches((2*len(TRACES), 2))\n",
    "#plt.show()"
   ]
  },
  {
   "cell_type": "code",
   "execution_count": 200,
   "id": "fb96a37e-d296-452d-8092-c5e1a7672a55",
   "metadata": {},
   "outputs": [
    {
     "name": "stdout",
     "output_type": "stream",
     "text": [
      "atax 1\n",
      "bicg 1\n",
      "deriche 0\n",
      "durbin 0\n",
      "gemver 0\n",
      "gesummv 1\n",
      "jacobi-1d 0\n",
      "mvt 0\n",
      "trisolv 1\n"
     ]
    }
   ],
   "source": [
    "for t in TRACES:\n",
    "    print(f'{t.name} {max(t.load()[\"phase\"])}')\n",
    "    \n"
   ]
  },
  {
   "cell_type": "code",
   "execution_count": 93,
   "id": "f47afc54",
   "metadata": {},
   "outputs": [],
   "source": [
    "class Mapper:\n",
    "    def __init__(self, size):\n",
    "        self.size = size\n",
    "        self.smallest_sq = int(np.ceil(np.sqrt(self.size)))\n",
    "        \n",
    "        # There will never be a non-full first row\n",
    "        self.ncols = self.smallest_sq\n",
    "        \n",
    "        # If the last row would be completely empty, reduce this number\n",
    "        # Only need enough rows to fit up to size elements\n",
    "        self.nrows = int(np.ceil(self.size / self.ncols))\n",
    "        \n",
    "        self.fig, self.ax = plt.subplots(nrows = self.nrows, ncols=self.ncols, sharey=True)\n",
    "\n",
    "    def get_remainder(self):\n",
    "        # Any spots that wouldn't be full go here\n",
    "        return [self[i] for i in range(self.size, size.nrows*self.ncols)]\n",
    "    \n",
    "    def __getitem__(self, idx):\n",
    "        if idx >= self.size:\n",
    "            raise IndexError(f'Requested index ({idx}) outside configured range (0-{self.size-1}).')\n",
    "        return self.ax[(idx//self.smallest_sq, idx % self.smallest_sq)]"
   ]
  },
  {
   "cell_type": "code",
   "execution_count": null,
   "id": "c90e1f82-6ce8-4f85-b616-9ee5723704ec",
   "metadata": {},
   "outputs": [],
   "source": [
    "\n"
   ]
  },
  {
   "cell_type": "code",
   "execution_count": 68,
   "id": "12b99174",
   "metadata": {},
   "outputs": [
    {
     "name": "stdout",
     "output_type": "stream",
     "text": [
      "CPU times: user 3min 55s, sys: 34.9 s, total: 4min 30s\n",
      "Wall time: 4min 37s\n"
     ]
    }
   ],
   "source": [
    "%%time\n",
    "loadAll()"
   ]
  },
  {
   "cell_type": "code",
   "execution_count": 101,
   "id": "44aa44ce",
   "metadata": {},
   "outputs": [
    {
     "ename": "AttributeError",
     "evalue": "'AxesSubplot' object has no attribute 'xticks'",
     "output_type": "error",
     "traceback": [
      "\u001b[0;31m---------------------------------------------------------------------------\u001b[0m",
      "\u001b[0;31mAttributeError\u001b[0m                            Traceback (most recent call last)",
      "\u001b[0;32m<timed exec>\u001b[0m in \u001b[0;36m<module>\u001b[0;34m\u001b[0m\n",
      "\u001b[0;32m<ipython-input-100-04a72738151e>\u001b[0m in \u001b[0;36mpl_latency_over_time\u001b[0;34m(ax, t, interval_len)\u001b[0m\n\u001b[1;32m     18\u001b[0m     \u001b[0mperi\u001b[0m \u001b[0;34m=\u001b[0m \u001b[0;34m[\u001b[0m\u001b[0mnp\u001b[0m\u001b[0;34m.\u001b[0m\u001b[0mmean\u001b[0m\u001b[0;34m(\u001b[0m\u001b[0mseries\u001b[0m\u001b[0;34m[\u001b[0m\u001b[0mi\u001b[0m\u001b[0;34m*\u001b[0m\u001b[0minterval_len\u001b[0m \u001b[0;34m:\u001b[0m \u001b[0;34m(\u001b[0m\u001b[0mi\u001b[0m\u001b[0;34m+\u001b[0m\u001b[0;36m1\u001b[0m\u001b[0;34m)\u001b[0m\u001b[0;34m*\u001b[0m\u001b[0minterval_len\u001b[0m\u001b[0;34m]\u001b[0m\u001b[0;34m)\u001b[0m \u001b[0;32mfor\u001b[0m \u001b[0mi\u001b[0m \u001b[0;32min\u001b[0m \u001b[0mrange\u001b[0m\u001b[0;34m(\u001b[0m\u001b[0mnintervals\u001b[0m\u001b[0;34m)\u001b[0m\u001b[0;34m]\u001b[0m\u001b[0;34m\u001b[0m\u001b[0;34m\u001b[0m\u001b[0m\n\u001b[1;32m     19\u001b[0m     \u001b[0max\u001b[0m\u001b[0;34m.\u001b[0m\u001b[0mplot\u001b[0m\u001b[0;34m(\u001b[0m\u001b[0mperi\u001b[0m\u001b[0;34m)\u001b[0m\u001b[0;34m\u001b[0m\u001b[0;34m\u001b[0m\u001b[0m\n\u001b[0;32m---> 20\u001b[0;31m     \u001b[0max\u001b[0m\u001b[0;34m.\u001b[0m\u001b[0mxticks\u001b[0m\u001b[0;34m(\u001b[0m\u001b[0;34m[\u001b[0m\u001b[0mnintervals\u001b[0m\u001b[0;34m//\u001b[0m\u001b[0;36m2\u001b[0m\u001b[0;34m,\u001b[0m \u001b[0mnintervals\u001b[0m\u001b[0;34m]\u001b[0m\u001b[0;34m)\u001b[0m\u001b[0;34m\u001b[0m\u001b[0;34m\u001b[0m\u001b[0m\n\u001b[0m\u001b[1;32m     21\u001b[0m \u001b[0;34m\u001b[0m\u001b[0m\n\u001b[1;32m     22\u001b[0m \u001b[0;34m\u001b[0m\u001b[0m\n",
      "\u001b[0;31mAttributeError\u001b[0m: 'AxesSubplot' object has no attribute 'xticks'"
     ]
    },
    {
     "data": {
      "image/png": "[encoded data removed]",
      "text/plain": [
       "<Figure size 432x288 with 30 Axes>"
      ]
     },
     "metadata": {
      "needs_background": "light"
     },
     "output_type": "display_data"
    }
   ],
   "source": [
    "%%time\n",
    "mapper = Mapper(len(TRACES))\n",
    "fig = mapper.fig\n",
    "#fig, axs = plt.subplots(nrows=remap.smallest_sq, ncols = remap.smallest_sq, sharey=True)\n",
    "\n",
    "for i, t in enumerate(TRACES):\n",
    "    pl_latency_over_time(mapper[i], t, 100000)\n",
    "fig.set_size_inches((2*remap.smallest_sq, 2*remap.smallest_sq))"
   ]
  },
  {
   "cell_type": "code",
   "execution_count": 90,
   "id": "32d9be7b",
   "metadata": {},
   "outputs": [],
   "source": [
    "re = Mapper(36)"
   ]
  },
  {
   "cell_type": "code",
   "execution_count": 91,
   "id": "4b850c58",
   "metadata": {},
   "outputs": [
    {
     "name": "stdout",
     "output_type": "stream",
     "text": [
      "6 6\n"
     ]
    }
   ],
   "source": [
    "print(re.ncols, re.nrows)"
   ]
  },
  {
   "cell_type": "code",
   "execution_count": null,
   "id": "45bcf009",
   "metadata": {},
   "outputs": [],
   "source": []
  }
 ],
 "metadata": {
  "kernelspec": {
   "display_name": "sst",
   "language": "python",
   "name": "sst"
  },
  "language_info": {
   "codemirror_mode": {
    "name": "ipython",
    "version": 3
   },
   "file_extension": ".py",
   "mimetype": "text/x-python",
   "name": "python",
   "nbconvert_exporter": "python",
   "pygments_lexer": "ipython3",
   "version": "3.6.8"
  }
 },
 "nbformat": 4,
 "nbformat_minor": 5
}
