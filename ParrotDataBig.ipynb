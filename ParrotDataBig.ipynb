{
 "cells": [
  {
   "cell_type": "markdown",
   "id": "e031c1b2-071c-4feb-99f2-ef820be4be70",
   "metadata": {},
   "source": [
    "# Big Traces\n",
    "\n",
    "This notebook is more optimized for handling large traces and focuses on easy to compute plots and metrics."
   ]
  },
  {
   "cell_type": "code",
   "execution_count": 373,
   "id": "a85d978d-ba1e-4012-9f6f-289923828f53",
   "metadata": {
    "tags": []
   },
   "outputs": [],
   "source": [
    "import pandas as pd\n",
    "import numpy as np\n",
    "import matplotlib.pyplot as plt\n",
    "import os\n",
    "import sys\n",
    "import pathlib\n",
    "import matplotlib\n",
    "from statsmodels.distributions.empirical_distribution import ECDF\n",
    "from scipy.interpolate import interp1d\n",
    "import statistics\n",
    "from sortedcontainers import SortedList, SortedDict\n",
    "import time\n",
    "from scipy import stats\n",
    "import pprint\n",
    "from functools import total_ordering\n",
    "from numba import jit\n",
    "#import bokeh\n",
    "from bokeh.palettes import Pastel1\n",
    "from dataclasses import dataclass\n",
    "from sklearn.linear_model import LinearRegression"
   ]
  },
  {
   "cell_type": "code",
   "execution_count": 372,
   "id": "b76c6b9c-bc37-4367-a73c-7e798b2ce8bb",
   "metadata": {},
   "outputs": [],
   "source": [
    "DATA_DIR = 'parrot-traces/medium-100ms-manualpd//'"
   ]
  },
  {
   "cell_type": "code",
   "execution_count": 153,
   "id": "f3548741-0ec6-4732-9199-d58d57384499",
   "metadata": {},
   "outputs": [],
   "source": [
    "FILES    = [p.absolute() for p in pathlib.Path(DATA_DIR).iterdir()]\n",
    "\n",
    "@total_ordering\n",
    "class trace:\n",
    "    def __init__(self, path):\n",
    "        self.path = path\n",
    "        self.name = path.stem.split('_')[2]\n",
    "        self.data = None\n",
    "    def _load(self):\n",
    "        return pd.read_csv(self.path, delim_whitespace=True)\n",
    "    def load(self, persist=False):\n",
    "        if self.data is not None:\n",
    "            return self.data\n",
    "        if persist:\n",
    "            self.data = self._load()\n",
    "            return self.data\n",
    "        return self._load()\n",
    "    def unload(self):\n",
    "        self.data = None\n",
    "    def loadLat(self):\n",
    "        return np.array(pd.read_csv(self.path, delim_whitespace=True)['latency_nano'])\n",
    "    def __repr__(self):\n",
    "        return self.name\n",
    "    def __lt__(self, obj):\n",
    "        return ((self.name) < (obj.name))\n",
    "    def __eq__(self, obj):\n",
    "        return (self.name == obj.name)\n",
    "    \n",
    "TRACES  = sorted([trace(f) for f in FILES])\n",
    "\n",
    "def loadAll():\n",
    "    [t.load(persist=True) for t in TRACES]\n",
    "    \n",
    "def unloadAll():\n",
    "    [t.unload() for t in TRACES]"
   ]
  },
  {
   "cell_type": "code",
   "execution_count": 154,
   "id": "94810a36-b55a-4381-94ee-16049eef541a",
   "metadata": {},
   "outputs": [
    {
     "name": "stdout",
     "output_type": "stream",
     "text": [
      "Directory: parrot-traces/medium-100ms-manualpd//\n",
      "Files:     2mm 3mm adi atax bicg cholesky correlation covariance deriche doitgen durbin fdtd-2d floyd-warshall gemm gemver gesummv gramschmidt heat-3d jacobi-1d jacobi-2d lu ludcmp mvt nussinov seidel-2d symm syr2k syrk trisolv trmm\n"
     ]
    }
   ],
   "source": [
    "print('Directory:'.ljust(10), DATA_DIR)\n",
    "print('Files:'.ljust(10), *TRACES)"
   ]
  },
  {
   "cell_type": "code",
   "execution_count": 7,
   "id": "39665f6c-749e-474e-9268-92e91ba2c9f2",
   "metadata": {},
   "outputs": [],
   "source": [
    "a = TRACES[3].loadLat()"
   ]
  },
  {
   "cell_type": "code",
   "execution_count": 8,
   "id": "cdf2b44d-8080-459d-b34e-e8de80b091bc",
   "metadata": {},
   "outputs": [
    {
     "data": {
      "image/png": "[encoded data removed]",
      "text/plain": [
       "<Figure size 432x288 with 1 Axes>"
      ]
     },
     "metadata": {
      "needs_background": "light"
     },
     "output_type": "display_data"
    }
   ],
   "source": [
    "his,_ = np.histogram(a,bins=100)\n",
    "np.seterr(divide = 'ignore')\n",
    "fig, ax = plt.subplots()\n",
    "#ax.hist(a[a>4], bins=100)\n",
    "ax.bar([*range(len(his))],np.log(his))\n",
    "plt.show()"
   ]
  },
  {
   "cell_type": "code",
   "execution_count": 9,
   "id": "ec94221c-0f1e-4dda-9c96-ed9e5b9fa06b",
   "metadata": {},
   "outputs": [
    {
     "data": {
      "text/plain": [
       "[<matplotlib.lines.Line2D at 0x7f856b45cb70>]"
      ]
     },
     "execution_count": 9,
     "metadata": {},
     "output_type": "execute_result"
    },
    {
     "data": {
      "image/png": "[encoded data removed]",
      "text/plain": [
       "<Figure size 432x288 with 1 Axes>"
      ]
     },
     "metadata": {
      "needs_background": "light"
     },
     "output_type": "display_data"
    }
   ],
   "source": [
    "fig, ax = plt.subplots()\n",
    "ax.semilogy(sorted(a))"
   ]
  },
  {
   "cell_type": "code",
   "execution_count": 10,
   "id": "c7c9108e-a782-4835-8a5e-ef5a90de67ec",
   "metadata": {},
   "outputs": [
    {
     "name": "stdout",
     "output_type": "stream",
     "text": [
      "Length: 6954481\n",
      "% < 3 : 0.48\n",
      "% < 4 : 0.96\n",
      "% < 5 : 0.96\n",
      "% < 6 : 0.96\n",
      "% < 7 : 0.96\n",
      "% < 8 : 0.96\n"
     ]
    }
   ],
   "source": [
    "#ss = len(str(len(a)))+2\n",
    "#print(*[label.ljust(ss) for label in ['len', '<3']])\n",
    "#print(*[str(datapoint).ljust(ss) for datapoint in [len(a), len(a[a<3]), len(a[a<3])/len(a)*100]])\n",
    "\n",
    "print(f'Length: {len(a)}')\n",
    "print(f'% < 3 : {len(a[a<3])/len(a):.2f}')\n",
    "print(f'% < 4 : {len(a[a<4])/len(a):.2f}')\n",
    "print(f'% < 5 : {len(a[a<5])/len(a):.2f}')\n",
    "\n",
    "print(f'% < 6 : {len(a[a<6])/len(a):.2f}')\n",
    "print(f'% < 7 : {len(a[a<7])/len(a):.2f}')\n",
    "print(f'% < 8 : {len(a[a<8])/len(a):.2f}')\n"
   ]
  },
  {
   "cell_type": "code",
   "execution_count": 124,
   "id": "9bbdf0a4-5b4e-4083-9ace-8eb491c38f67",
   "metadata": {},
   "outputs": [
    {
     "data": {
      "image/png": "[encoded data removed]",
      "text/plain": [
       "<Figure size 640x480 with 1 Axes>"
      ]
     },
     "metadata": {},
     "output_type": "display_data"
    }
   ],
   "source": [
    "fig, ax = plt.subplots()\n",
    "ecdf = ECDF(a[a>8])\n",
    "ax.plot(ecdf.x, ecdf.y)\n",
    "plt.show()"
   ]
  },
  {
   "cell_type": "code",
   "execution_count": 125,
   "id": "bdc2b029-c456-4def-b375-292a26ae5335",
   "metadata": {},
   "outputs": [
    {
     "data": {
      "text/plain": [
       "3.620457017787275"
      ]
     },
     "execution_count": 125,
     "metadata": {},
     "output_type": "execute_result"
    }
   ],
   "source": [
    "np.mean(a)"
   ]
  },
  {
   "cell_type": "code",
   "execution_count": 126,
   "id": "a851d4c3-dd3e-4b41-8e6d-58e9720e9223",
   "metadata": {},
   "outputs": [
    {
     "data": {
      "text/plain": [
       "3.61458"
      ]
     },
     "execution_count": 126,
     "metadata": {},
     "output_type": "execute_result"
    }
   ],
   "source": [
    "np.mean(np.random.choice(a, 1000000))"
   ]
  },
  {
   "cell_type": "code",
   "execution_count": 132,
   "id": "489f5503-99c6-4764-ba97-c87da45fb729",
   "metadata": {},
   "outputs": [
    {
     "name": "stdout",
     "output_type": "stream",
     "text": [
      "1\n",
      "1\n"
     ]
    }
   ],
   "source": [
    "tr = TRACES[0:2]\n",
    "\n",
    "for t in tr:\n",
    "    print(max(t.load()['phase']))"
   ]
  },
  {
   "cell_type": "code",
   "execution_count": 131,
   "id": "59248654-1208-4a16-a694-98b90ec58238",
   "metadata": {},
   "outputs": [
    {
     "data": {
      "text/plain": [
       "Index(['phase', 'rwf', 'threadID', 'addr', 'latency_nano'], dtype='object')"
      ]
     },
     "execution_count": 131,
     "metadata": {},
     "output_type": "execute_result"
    }
   ],
   "source": [
    "TRACES[0].load().columns"
   ]
  },
  {
   "cell_type": "code",
   "execution_count": 11,
   "id": "6dcb57a1-874c-424c-815e-c2b107e76c62",
   "metadata": {},
   "outputs": [
    {
     "name": "stdout",
     "output_type": "stream",
     "text": [
      "Overall: 4.89\n",
      "Per-interval\n"
     ]
    },
    {
     "data": {
      "text/plain": [
       "[<matplotlib.lines.Line2D at 0x7f856b300208>]"
      ]
     },
     "execution_count": 11,
     "metadata": {},
     "output_type": "execute_result"
    },
    {
     "data": {
      "image/png": "[encoded data removed]",
      "text/plain": [
       "<Figure size 432x288 with 1 Axes>"
      ]
     },
     "metadata": {
      "needs_background": "light"
     },
     "output_type": "display_data"
    }
   ],
   "source": [
    "ov = np.mean(a)\n",
    "print(f'Overall: {ov:.2f}')\n",
    "print(f'Per-interval')\n",
    "\n",
    "intlen = 100000\n",
    "intervals = len(a)//intlen\n",
    "peri = [np.mean(a[i*intlen : (i+1)*intlen]) for i in range(intervals)]\n",
    "#print(peri)\n",
    "\n",
    "fig, ax = plt.subplots()\n",
    "#ax.plot(peri)\n",
    "#ax.hlines(y=ov, xmin=0, xmax=intervals, linewidth=2, color='r')\n",
    "\n",
    "# Error plot\n",
    "ax.plot(peri-ov)"
   ]
  },
  {
   "cell_type": "code",
   "execution_count": 15,
   "id": "2b4f6386-789c-4a30-a5ab-e6111f9fe4e4",
   "metadata": {},
   "outputs": [
    {
     "data": {
      "image/png": "[encoded data removed]",
      "text/plain": [
       "<Figure size 432x288 with 1 Axes>"
      ]
     },
     "metadata": {
      "needs_background": "light"
     },
     "output_type": "display_data"
    }
   ],
   "source": [
    "def abspctchange(old, new):\n",
    "    return np.abs((old - new) / old)\n",
    "pc = [abspctchange(peri[i], peri[i+1]) for i in range(len(peri)-1)]\n",
    "#print(np.array(pc) < 0.05)\n",
    "plt.plot(pc) \n",
    "plt.show()"
   ]
  },
  {
   "cell_type": "code",
   "execution_count": 166,
   "id": "9fb1bf1b-5812-4acd-bf3e-c696c11f3ba5",
   "metadata": {},
   "outputs": [
    {
     "data": {
      "text/plain": [
       "1.0"
      ]
     },
     "execution_count": 166,
     "metadata": {},
     "output_type": "execute_result"
    }
   ],
   "source": []
  },
  {
   "cell_type": "code",
   "execution_count": 174,
   "id": "9d5e8b1e-b8e0-4305-bf2b-03cffd61fe38",
   "metadata": {},
   "outputs": [
    {
     "name": "stdout",
     "output_type": "stream",
     "text": [
      "durbin\n"
     ]
    }
   ],
   "source": [
    "print(TRACES[3])"
   ]
  },
  {
   "cell_type": "code",
   "execution_count": 202,
   "id": "9c52e9f7-5f21-4479-8b86-006b94078da6",
   "metadata": {},
   "outputs": [],
   "source": [
    "def get_phase_changes(phases):\n",
    "    pc = []\n",
    "    for i in range(len(phases)-1):\n",
    "        if phases[i] != phases[i+1]:\n",
    "            pc.append(i)\n",
    "    return pc\n",
    "\n",
    "def reformat_ax(ax):\n",
    "    ax.spines['top'].set_visible(False)\n",
    "    ax.spines['right'].set_visible(False)\n",
    "    #ax.spines['bottom'].set_visible(False)\n",
    "    #ax.spines['left'].set_visible(False)\n",
    "    \n",
    "    \n",
    "@jit\n",
    "def get_phase_changes(arr, interval_len):\n",
    "    marker = 0\n",
    "    #changes = {0:arr[0]}\n",
    "    intervals = []\n",
    "    for i in range(len(arr)-1):\n",
    "        if arr[i] != arr[i+1]:\n",
    "            intervals.append([marker, i//interval_len, arr[i]])\n",
    "            marker = i//interval_len\n",
    "    intervals.append([marker, i//interval_len, arr[-1]])\n",
    "    return intervals\n",
    "\n",
    "def pl_latency_over_time(ax, t, interval_len):\n",
    "    #ov = np.mean(series)\n",
    "    #print(f'loading {t.name}')\n",
    "    df = t.load(persist=True)\n",
    "    series = df['latency_nano']\n",
    "    #print('doing get_phase_changes')\n",
    "    #pc = get_phase_changes(df['phase'])\n",
    "    #print(pc)\n",
    "    #print(np.array(pc) // interval_len)\n",
    "    nintervals = len(series)//interval_len\n",
    "    peri = [np.mean(series[i*interval_len : (i+1)*interval_len]) for i in range(nintervals)]\n",
    "    ax.plot(peri, color='black', markersize=1)\n",
    "    ax.set_xticks([nintervals//2, nintervals])\n",
    "    ax.text(nintervals//2, 15, t.name, ha='center')\n",
    "    reformat_ax(ax)\n",
    "    \n",
    "    # Add background patch\n",
    "    color = Pastel1[9] #['#daffd2', '#ffc5d3']\n",
    "    intervals = get_phase_changes(np.array(df['phase']), interval_len)\n",
    "    #ii = 0\n",
    "    for start, end, phase in intervals:\n",
    "        rectangle = matplotlib.patches.Rectangle((start, 0), end - start, 15, facecolor=color[phase%len(color)])\n",
    "        ax.add_patch(rectangle)\n",
    "        #ii+=1\n",
    "    \n",
    "\n",
    "#fig, axs = plt.subplots(ncols=len(TRACES), sharey=True)\n",
    "#for i, t in enumerate(TRACES[:1]):\n",
    "#    pl_latency_over_time(axs[i], t, 100000)\n",
    "\n",
    "#fig.set_size_inches((2*len(TRACES), 2))\n",
    "#plt.show()"
   ]
  },
  {
   "cell_type": "code",
   "execution_count": 169,
   "id": "e1f1a7cc",
   "metadata": {},
   "outputs": [],
   "source": [
    "class Mapper:\n",
    "    def __init__(self, size):\n",
    "        self.size = size\n",
    "        self.smallest_sq = int(np.ceil(np.sqrt(self.size)))\n",
    "        \n",
    "        # There will never be a non-full first row\n",
    "        self.ncols = self.smallest_sq\n",
    "        \n",
    "        # If the last row would be completely empty, reduce this number\n",
    "        # Only need enough rows to fit up to size elements\n",
    "        self.nrows = int(np.ceil(self.size / self.ncols))\n",
    "        \n",
    "        self.fig, self.ax = plt.subplots(nrows = self.nrows, ncols=self.ncols, sharey=True)\n",
    "\n",
    "    def get_remainder(self):\n",
    "        # Any spots that wouldn't be full go here\n",
    "        return [self[i] for i in range(self.size, self.nrows*self.ncols)]\n",
    "    \n",
    "    def __getitem__(self, idx):\n",
    "        if idx >= self.size:\n",
    "            raise IndexError(f'Requested index ({idx}) outside configured range (0-{self.size-1}).')\n",
    "        return self.ax[(idx//self.smallest_sq, idx % self.smallest_sq)]\n",
    "    \n"
   ]
  },
  {
   "cell_type": "code",
   "execution_count": 155,
   "id": "f6642cef",
   "metadata": {},
   "outputs": [
    {
     "name": "stdout",
     "output_type": "stream",
     "text": [
      "CPU times: user 4min 42s, sys: 44.4 s, total: 5min 26s\n",
      "Wall time: 5min 34s\n"
     ]
    }
   ],
   "source": [
    "%%time\n",
    "loadAll()"
   ]
  },
  {
   "cell_type": "code",
   "execution_count": 252,
   "id": "4fbfafc4",
   "metadata": {
    "scrolled": false
   },
   "outputs": [
    {
     "data": {
      "image/png": "[encoded data removed]",
      "text/plain": [
       "<Figure size 864x864 with 30 Axes>"
      ]
     },
     "metadata": {},
     "output_type": "display_data"
    }
   ],
   "source": [
    "mapper = Mapper(len(TRACES))\n",
    "fig = mapper.fig\n",
    "#fig, axs = plt.subplots(nrows=remap.smallest_sq, ncols = remap.smallest_sq, sharey=True)\n",
    "\n",
    "interval_len = 100000\n",
    "for i, t in enumerate(TRACES):\n",
    "    pl_latency_over_time(mapper[i], t, 100000)\n",
    "fig.set_size_inches((2*remap.smallest_sq, 2*remap.smallest_sq))\n",
    "fig.patch.set_facecolor('white')\n",
    "fig.suptitle(f'Average latency (ns) per {interval_len} instruction interval (manual phases)')\n",
    "plt.savefig(f'plots/mean-latency-per-interval-{interval_len}-2.png')\n",
    "plt.show()"
   ]
  },
  {
   "cell_type": "code",
   "execution_count": 124,
   "id": "fa42e151",
   "metadata": {},
   "outputs": [
    {
     "data": {
      "text/plain": [
       "[]"
      ]
     },
     "execution_count": 124,
     "metadata": {},
     "output_type": "execute_result"
    }
   ],
   "source": [
    "bokeh"
   ]
  },
  {
   "cell_type": "code",
   "execution_count": 123,
   "id": "36d44f30",
   "metadata": {},
   "outputs": [
    {
     "name": "stdout",
     "output_type": "stream",
     "text": [
      "6 6\n"
     ]
    }
   ],
   "source": [
    "print(re.ncols, re.nrows)"
   ]
  },
  {
   "cell_type": "code",
   "execution_count": 201,
   "id": "c256b7f3",
   "metadata": {},
   "outputs": [
    {
     "name": "stdout",
     "output_type": "stream",
     "text": [
      "2mm: 0\n",
      "3mm: 3\n",
      "adi: 1\n",
      "atax: 1\n",
      "bicg: 1\n",
      "cholesky: -1\n",
      "correlation: 0\n",
      "covariance: 0\n",
      "deriche: 5\n",
      "doitgen: 0\n",
      "durbin: 0\n",
      "fdtd-2d: 3\n",
      "floyd-warshall: 0\n",
      "gemm: 0\n",
      "gemver: 3\n",
      "gesummv: 0\n",
      "gramschmidt: 0\n",
      "heat-3d: 1\n",
      "jacobi-1d: 0\n",
      "jacobi-2d: 0\n",
      "lu: 2\n",
      "ludcmp: -1\n",
      "mvt: 1\n",
      "nussinov: 0\n",
      "seidel-2d: 0\n",
      "symm: 0\n",
      "syr2k: 0\n",
      "syrk: 0\n",
      "trisolv: 0\n",
      "trmm: 0\n"
     ]
    }
   ],
   "source": [
    "for t in TRACES:\n",
    "    print(f'{t.name}: {max(t.load()[\"phase\"])}')"
   ]
  },
  {
   "cell_type": "markdown",
   "id": "6df17e89",
   "metadata": {},
   "source": [
    "To be clear, the workflow is\n",
    "1. identify phases with a PD-based phase detector\n",
    "2. Confirm that we have reached a steady state and found a region we can model by checking that the \n",
    "mean latency is a stable distribution"
   ]
  },
  {
   "cell_type": "code",
   "execution_count": 144,
   "id": "d33d53dc",
   "metadata": {},
   "outputs": [
    {
     "name": "stdout",
     "output_type": "stream",
     "text": [
      "Length of lat_int: 581\n"
     ]
    }
   ],
   "source": [
    "def mean_by_interval(t, interval_len):\n",
    "    nintervals = len(t)//interval_len\n",
    "    return [np.mean(t[i*interval_len : (i+1)*interval_len]) for i in range(nintervals)]\n",
    "\n",
    "t = TRACES[0]\n",
    "lat = np.array(t.load()['latency_nano'])\n",
    "lat_int = mean_by_interval(lat, interval_len)\n",
    "#plt.plot(lat_int[100:])\n",
    "print(f'Length of lat_int: {len(lat_int)}')"
   ]
  },
  {
   "cell_type": "code",
   "execution_count": 150,
   "id": "c14bfff7",
   "metadata": {},
   "outputs": [
    {
     "data": {
      "image/png": "[encoded data removed]",
      "text/plain": [
       "<Figure size 432x288 with 1 Axes>"
      ]
     },
     "metadata": {
      "needs_background": "light"
     },
     "output_type": "display_data"
    }
   ],
   "source": [
    "from statsmodels.tsa.stattools import adfuller\n",
    "\n",
    "def adf_test(timeseries, display=True):\n",
    "    #print ('Results of Dickey-Fuller Test:')\n",
    "    dftest = adfuller(timeseries, autolag='AIC')\n",
    "    dfoutput = pd.Series(dftest[0:4], index=['Test Statistic','p-value','#Lags Used','Number of Observations Used'])\n",
    "    for key,value in dftest[4].items():\n",
    "        dfoutput['Critical Value (%s)'%key] = value\n",
    "    if display:\n",
    "        print (dfoutput)\n",
    "    return float(dfoutput['p-value'])\n",
    "# Call the function and run the test\n",
    "\n",
    "#adf_test(lat_int[:20])\n",
    "\n",
    "fig, ax = plt.subplots()\n",
    "ax.plot([adf_test(lat_int[:i], False) for i in range(5,150)])   \n",
    "ax.axhline(0.05)\n",
    "plt.show()"
   ]
  },
  {
   "cell_type": "code",
   "execution_count": 142,
   "id": "665c2a88",
   "metadata": {},
   "outputs": [
    {
     "ename": "KeyboardInterrupt",
     "evalue": "",
     "output_type": "error",
     "traceback": [
      "\u001b[0;31m---------------------------------------------------------------------------\u001b[0m",
      "\u001b[0;31mKeyboardInterrupt\u001b[0m                         Traceback (most recent call last)",
      "\u001b[0;32m<ipython-input-142-ea423efb1f87>\u001b[0m in \u001b[0;36m<module>\u001b[0;34m\u001b[0m\n\u001b[0;32m----> 1\u001b[0;31m \u001b[0madf_test\u001b[0m\u001b[0;34m(\u001b[0m\u001b[0mlat\u001b[0m\u001b[0;34m)\u001b[0m\u001b[0;34m\u001b[0m\u001b[0;34m\u001b[0m\u001b[0m\n\u001b[0m",
      "\u001b[0;32m<ipython-input-141-2c5e3f85cb48>\u001b[0m in \u001b[0;36madf_test\u001b[0;34m(timeseries, display)\u001b[0m\n\u001b[1;32m      3\u001b[0m \u001b[0;32mdef\u001b[0m \u001b[0madf_test\u001b[0m\u001b[0;34m(\u001b[0m\u001b[0mtimeseries\u001b[0m\u001b[0;34m,\u001b[0m \u001b[0mdisplay\u001b[0m\u001b[0;34m=\u001b[0m\u001b[0;32mTrue\u001b[0m\u001b[0;34m)\u001b[0m\u001b[0;34m:\u001b[0m\u001b[0;34m\u001b[0m\u001b[0;34m\u001b[0m\u001b[0m\n\u001b[1;32m      4\u001b[0m     \u001b[0;31m#print ('Results of Dickey-Fuller Test:')\u001b[0m\u001b[0;34m\u001b[0m\u001b[0;34m\u001b[0m\u001b[0;34m\u001b[0m\u001b[0m\n\u001b[0;32m----> 5\u001b[0;31m     \u001b[0mdftest\u001b[0m \u001b[0;34m=\u001b[0m \u001b[0madfuller\u001b[0m\u001b[0;34m(\u001b[0m\u001b[0mtimeseries\u001b[0m\u001b[0;34m,\u001b[0m \u001b[0mautolag\u001b[0m\u001b[0;34m=\u001b[0m\u001b[0;34m'AIC'\u001b[0m\u001b[0;34m)\u001b[0m\u001b[0;34m\u001b[0m\u001b[0;34m\u001b[0m\u001b[0m\n\u001b[0m\u001b[1;32m      6\u001b[0m     \u001b[0mdfoutput\u001b[0m \u001b[0;34m=\u001b[0m \u001b[0mpd\u001b[0m\u001b[0;34m.\u001b[0m\u001b[0mSeries\u001b[0m\u001b[0;34m(\u001b[0m\u001b[0mdftest\u001b[0m\u001b[0;34m[\u001b[0m\u001b[0;36m0\u001b[0m\u001b[0;34m:\u001b[0m\u001b[0;36m4\u001b[0m\u001b[0;34m]\u001b[0m\u001b[0;34m,\u001b[0m \u001b[0mindex\u001b[0m\u001b[0;34m=\u001b[0m\u001b[0;34m[\u001b[0m\u001b[0;34m'Test Statistic'\u001b[0m\u001b[0;34m,\u001b[0m\u001b[0;34m'p-value'\u001b[0m\u001b[0;34m,\u001b[0m\u001b[0;34m'#Lags Used'\u001b[0m\u001b[0;34m,\u001b[0m\u001b[0;34m'Number of Observations Used'\u001b[0m\u001b[0;34m]\u001b[0m\u001b[0;34m)\u001b[0m\u001b[0;34m\u001b[0m\u001b[0;34m\u001b[0m\u001b[0m\n\u001b[1;32m      7\u001b[0m     \u001b[0;32mfor\u001b[0m \u001b[0mkey\u001b[0m\u001b[0;34m,\u001b[0m\u001b[0mvalue\u001b[0m \u001b[0;32min\u001b[0m \u001b[0mdftest\u001b[0m\u001b[0;34m[\u001b[0m\u001b[0;36m4\u001b[0m\u001b[0;34m]\u001b[0m\u001b[0;34m.\u001b[0m\u001b[0mitems\u001b[0m\u001b[0;34m(\u001b[0m\u001b[0;34m)\u001b[0m\u001b[0;34m:\u001b[0m\u001b[0;34m\u001b[0m\u001b[0;34m\u001b[0m\u001b[0m\n",
      "\u001b[0;32m~/sst/venv/lib64/python3.6/site-packages/statsmodels/tsa/stattools.py\u001b[0m in \u001b[0;36madfuller\u001b[0;34m(x, maxlag, regression, autolag, store, regresults)\u001b[0m\n\u001b[1;32m    290\u001b[0m         )\n\u001b[1;32m    291\u001b[0m     \u001b[0mxdiff\u001b[0m \u001b[0;34m=\u001b[0m \u001b[0mnp\u001b[0m\u001b[0;34m.\u001b[0m\u001b[0mdiff\u001b[0m\u001b[0;34m(\u001b[0m\u001b[0mx\u001b[0m\u001b[0;34m)\u001b[0m\u001b[0;34m\u001b[0m\u001b[0;34m\u001b[0m\u001b[0m\n\u001b[0;32m--> 292\u001b[0;31m     \u001b[0mxdall\u001b[0m \u001b[0;34m=\u001b[0m \u001b[0mlagmat\u001b[0m\u001b[0;34m(\u001b[0m\u001b[0mxdiff\u001b[0m\u001b[0;34m[\u001b[0m\u001b[0;34m:\u001b[0m\u001b[0;34m,\u001b[0m \u001b[0;32mNone\u001b[0m\u001b[0;34m]\u001b[0m\u001b[0;34m,\u001b[0m \u001b[0mmaxlag\u001b[0m\u001b[0;34m,\u001b[0m \u001b[0mtrim\u001b[0m\u001b[0;34m=\u001b[0m\u001b[0;34m\"both\"\u001b[0m\u001b[0;34m,\u001b[0m \u001b[0moriginal\u001b[0m\u001b[0;34m=\u001b[0m\u001b[0;34m\"in\"\u001b[0m\u001b[0;34m)\u001b[0m\u001b[0;34m\u001b[0m\u001b[0;34m\u001b[0m\u001b[0m\n\u001b[0m\u001b[1;32m    293\u001b[0m     \u001b[0mnobs\u001b[0m \u001b[0;34m=\u001b[0m \u001b[0mxdall\u001b[0m\u001b[0;34m.\u001b[0m\u001b[0mshape\u001b[0m\u001b[0;34m[\u001b[0m\u001b[0;36m0\u001b[0m\u001b[0;34m]\u001b[0m\u001b[0;34m\u001b[0m\u001b[0;34m\u001b[0m\u001b[0m\n\u001b[1;32m    294\u001b[0m \u001b[0;34m\u001b[0m\u001b[0m\n",
      "\u001b[0;32m~/sst/venv/lib64/python3.6/site-packages/statsmodels/tsa/tsatools.py\u001b[0m in \u001b[0;36mlagmat\u001b[0;34m(x, maxlag, trim, original, use_pandas)\u001b[0m\n\u001b[1;32m    433\u001b[0m     \u001b[0;32mfor\u001b[0m \u001b[0mk\u001b[0m \u001b[0;32min\u001b[0m \u001b[0mrange\u001b[0m\u001b[0;34m(\u001b[0m\u001b[0;36m0\u001b[0m\u001b[0;34m,\u001b[0m \u001b[0mint\u001b[0m\u001b[0;34m(\u001b[0m\u001b[0mmaxlag\u001b[0m \u001b[0;34m+\u001b[0m \u001b[0;36m1\u001b[0m\u001b[0;34m)\u001b[0m\u001b[0;34m)\u001b[0m\u001b[0;34m:\u001b[0m\u001b[0;34m\u001b[0m\u001b[0;34m\u001b[0m\u001b[0m\n\u001b[1;32m    434\u001b[0m         lm[maxlag - k:nobs + maxlag - k,\n\u001b[0;32m--> 435\u001b[0;31m         nvar * (maxlag - k):nvar * (maxlag - k + 1)] = x\n\u001b[0m\u001b[1;32m    436\u001b[0m \u001b[0;34m\u001b[0m\u001b[0m\n\u001b[1;32m    437\u001b[0m     \u001b[0;32mif\u001b[0m \u001b[0mtrim\u001b[0m \u001b[0;32min\u001b[0m \u001b[0;34m(\u001b[0m\u001b[0;34m'none'\u001b[0m\u001b[0;34m,\u001b[0m \u001b[0;34m'forward'\u001b[0m\u001b[0;34m)\u001b[0m\u001b[0;34m:\u001b[0m\u001b[0;34m\u001b[0m\u001b[0;34m\u001b[0m\u001b[0m\n",
      "\u001b[0;31mKeyboardInterrupt\u001b[0m: "
     ]
    }
   ],
   "source": [
    "adf_test(lat)"
   ]
  },
  {
   "cell_type": "code",
   "execution_count": 178,
   "id": "fead631a",
   "metadata": {},
   "outputs": [
    {
     "name": "stdout",
     "output_type": "stream",
     "text": [
      "[[0, 18, -1], [18, 797, 0]]\n",
      "CPU times: user 590 ms, sys: 115 ms, total: 706 ms\n",
      "Wall time: 709 ms\n"
     ]
    }
   ],
   "source": [
    "%%time\n",
    "aa = np.array(TRACES[0].load()['phase'])\n",
    "print(get_phase_changes(aa, interval_len))"
   ]
  },
  {
   "cell_type": "code",
   "execution_count": 193,
   "id": "8d97687e",
   "metadata": {},
   "outputs": [
    {
     "data": {
      "text/plain": [
       "{3: ('#fbb4ae', '#b3cde3', '#ccebc5'),\n",
       " 4: ('#fbb4ae', '#b3cde3', '#ccebc5', '#decbe4'),\n",
       " 5: ('#fbb4ae', '#b3cde3', '#ccebc5', '#decbe4', '#fed9a6'),\n",
       " 6: ('#fbb4ae', '#b3cde3', '#ccebc5', '#decbe4', '#fed9a6', '#ffffcc'),\n",
       " 7: ('#fbb4ae',\n",
       "  '#b3cde3',\n",
       "  '#ccebc5',\n",
       "  '#decbe4',\n",
       "  '#fed9a6',\n",
       "  '#ffffcc',\n",
       "  '#e5d8bd'),\n",
       " 8: ('#fbb4ae',\n",
       "  '#b3cde3',\n",
       "  '#ccebc5',\n",
       "  '#decbe4',\n",
       "  '#fed9a6',\n",
       "  '#ffffcc',\n",
       "  '#e5d8bd',\n",
       "  '#fddaec'),\n",
       " 9: ('#fbb4ae',\n",
       "  '#b3cde3',\n",
       "  '#ccebc5',\n",
       "  '#decbe4',\n",
       "  '#fed9a6',\n",
       "  '#ffffcc',\n",
       "  '#e5d8bd',\n",
       "  '#fddaec',\n",
       "  '#f2f2f2')}"
      ]
     },
     "execution_count": 193,
     "metadata": {},
     "output_type": "execute_result"
    }
   ],
   "source": [
    "from bokeh.palettes import Pastel1\n",
    "Pastel1"
   ]
  },
  {
   "cell_type": "code",
   "execution_count": 304,
   "id": "88b9a5fa",
   "metadata": {},
   "outputs": [
    {
     "name": "stdout",
     "output_type": "stream",
     "text": [
      "shift window...\n",
      "proceed to Phase 2...\n",
      "2.047783560882157 0.0418881860244464\n"
     ]
    }
   ],
   "source": [
    "f_conf = 0.05\n",
    "window_start = 100\n",
    "sf = 1 # shift factor (unit: windows)\n",
    "gf = 1 # grow factor (unit: datapoints)\n",
    "\n",
    "\n",
    "def f_test(group1, group2) -> (np.float64, np.float64):\n",
    "    f = np.var(group1, ddof=1)/np.var(group2, ddof=1)\n",
    "    nun = group1.size-1\n",
    "    dun = group2.size-1\n",
    "    p_value = 1-stats.f.cdf(f, nun, dun)\n",
    "    return f, p_value\n",
    "\n",
    "@dataclass\n",
    "class window:\n",
    "    data: np.ndarray\n",
    "    start: int = 0\n",
    "    size: int = 1000\n",
    "        \n",
    "    def get(self, idx):\n",
    "        return range(self.start + self.size*idx, self.start + self.size + (self.size)*idx)\n",
    "\n",
    "    def shift_and_grow(self,shift, grow):\n",
    "        # shift units: how many windows to shift by\n",
    "        # grow units: how many datapoints to grow by\n",
    "        self.start += self.size * shift\n",
    "        self.size  += grow\n",
    "        \n",
    "\n",
    "def ftPjRG(lat, window_start):\n",
    "    \n",
    "    max_shifts = len(lat) \n",
    "    win = window(size=window_start)\n",
    "    _phase = 'ftest'\n",
    "    \n",
    "    while(True):\n",
    "        \n",
    "        if _phase == 'ftest':\n",
    "            \n",
    "        f_val, f_pv = f_test(lat[win.get(0)], lat[win.get(1)])\n",
    "        # Null hypothesis: windows have same variance\n",
    "        # Reject null: windows have different variance\n",
    "    \n",
    "        \n",
    "        if f_pv < f_conf:\n",
    "            print('shift window...')\n",
    "            win.shift_and_grow(sf, gf)\n",
    "        else:\n",
    "            print('proceed to Phase 2...')\n",
    "            t_val, t_pv = stats.ttest_ind(lat[win.get(0)], lat[win.get(1)])\n",
    "            # Null: windows have same mean\n",
    "            # Reject: windows have different mean\n",
    "            \n",
    "            print(t_val, t_pv)\n",
    "            break      \n",
    "        if win.get(1).stop >= len(lat):\n",
    "            print('never converged!')\n",
    "            break\n",
    "    \n",
    "    \n",
    "    \n",
    "ll = np.array(TRACES[6].load()['latency_nano'], dtype=np.int64)\n",
    "ftPjRG(ll, window_start)"
   ]
  },
  {
   "cell_type": "code",
   "execution_count": null,
   "id": "a99dcd85",
   "metadata": {},
   "outputs": [],
   "source": [
    "#@dataclass\n",
    "#class ftpjrg_constants:\n",
    "m_s = 10\n",
    "r_t = 1\n",
    "g_t = 1\n",
    "t_conf = 0.05\n",
    "\n",
    "proj_dist = 5\n",
    "p_j = 1\n",
    "\n",
    "proj_lim = 1\n",
    "s_pj = 1\n",
    "g_pj = 1\n",
    "\n",
    "window_start = 1000\n",
    "\n",
    "\n",
    "@dataclass\n",
    "class window2:\n",
    "    data: np.ndarray\n",
    "    start: int = 0\n",
    "    size: int = 1000\n",
    "        \n",
    "    def get(self, idx, debug=False):\n",
    "        begin = self.start + self.size*idx\n",
    "        end   = self.start + self.size + (self.size)*idx\n",
    "        if debug:\n",
    "            print(f'[start: {self.start}, size: {self.size}] -> [begin: {begin}, end: {end}]')\n",
    "        if end > len(self.data):\n",
    "            return None\n",
    "        return self.data[range(begin, end)]\n",
    "    \n",
    "    def get_range(self, idx_begin, idx_end, debug=False):\n",
    "        if idx_end - idx_begin < 1:\n",
    "            return None\n",
    "        \n",
    "        begin = self.start + self.size*idx_begin\n",
    "        end   = self.start + self.size + (self.size)*idx_end\n",
    "        \n",
    "        if debug:\n",
    "            print(f'[start: {self.start}, size: {self.size}] -> [begin: {begin}, end: {end}]')\n",
    "        if end > len(self.data):\n",
    "            return None\n",
    "        \n",
    "        return self.data[range(begin, end)]\n",
    "    \n",
    "    def get_point(self, pt):\n",
    "        return pt*self.size, self.data[pt*self.size]\n",
    "\n",
    "    def shift_and_grow(self,shift, grow):\n",
    "        # shift units: how many windows to shift by\n",
    "        # grow units: how many datapoints to grow by\n",
    "        self.start += self.size * shift\n",
    "        self.size  += grow\n",
    "        \n",
    "    def shift_and_reset(self, shift, size):\n",
    "        self.start += self.size * shift\n",
    "        self.size = size\n",
    "\n",
    "_phase = 1\n",
    "def ftPjRG2(df, window_start, summarize):\n",
    "    \n",
    "    latency = np.array(df.load()['latency_nano'], dtype=np.int64)\n",
    "    new_len = len(latency) // summarize\n",
    "    latency_summarized = np.array([np.mean(latency[i*summarize : (i+1)*summarize]) for i in range(new_len)])\n",
    "    win = window2(latency_summarized, size=window_start)\n",
    "    \n",
    "    win0 = None\n",
    "    win1 = None\n",
    "    m_s  = 10\n",
    "    _phase = 1\n",
    "    \n",
    "    while(True):\n",
    "        if _phase == 1:\n",
    "            \n",
    "            print('Phase 1!')\n",
    "        \n",
    "            # Update windows\n",
    "            win0 = win.get(0)\n",
    "            win1 = win.get(1)\n",
    "        \n",
    "            # If we have gone past the end of the input array, then we never reached a steady state\n",
    "            if win0 is None or win1 is None:\n",
    "                print('Never converged!')\n",
    "                return None\n",
    "        \n",
    "            # f-test\n",
    "            # Null hypothesis: windows have same variance\n",
    "            # Reject null: windows have different variance\n",
    "            f_val, f_pv = f_test(win0, win1)\n",
    "            if f_pv < f_conf:\n",
    "                win.shift_and_grow(sf, gf)\n",
    "                \n",
    "                if win.size < m_s*window_start:\n",
    "                    continue\n",
    "                else:\n",
    "                    win.shift_and_reset(sf, window_start)\n",
    "                    m_s = int(m_s * g_m)\n",
    "            else:\n",
    "                _phase = 2\n",
    "                continue\n",
    "                \n",
    "\n",
    "        elif _phase == 2:\n",
    "            print('Phase 2!')\n",
    "            \n",
    "            # Null: windows have same mean\n",
    "            # Reject: windows have different mean\n",
    "            t_val, t_pv = stats.ttest_ind(win0, win1)\n",
    "            \n",
    "            if t_val < t_conf:\n",
    "                win.shift_and_grow(sf, gf)\n",
    "                _phase = 1\n",
    "                continue\n",
    "            else:\n",
    "                _phase = 3\n",
    "                continue\n",
    "\n",
    "            return \n",
    "        elif _phase == 3:\n",
    "            print('Phase 3!')\n",
    "            win_combo = win.get_range(0, 1)\n",
    "            \n",
    "            if win_combo is None:\n",
    "                print('Never converged!')\n",
    "                return None\n",
    "            \n",
    "            lm = LinearRegression()\n",
    "            lm.fit(np.array(range(len(win_combo))).reshape(-1,1), win_combo.reshape(-1, 1))\n",
    "            \n",
    "            # lm.coef_, lm.intercept_\n",
    "            \n",
    "            \n",
    "            x_star, y_true = win.get_point(proj_dist)\n",
    "            y_hat = lm.intercept_ + lm.coef_*x_star\n",
    "            y_hat = y_hat[0][0]\n",
    "            \n",
    "            if np.abs(y_hat - y_true) > proj_lim:\n",
    "                win.shift_and_grow(s_pj, g_pj)\n",
    "                _phase = 1\n",
    "                continue\n",
    "            \n",
    "            return win.start\n",
    "    \n",
    "        else:\n",
    "            print(f'Error - phase not recognized {_phase}')\n",
    "            sys.exit(1)"
   ]
  },
  {
   "cell_type": "code",
   "execution_count": 405,
   "id": "b974314a",
   "metadata": {},
   "outputs": [
    {
     "name": "stdout",
     "output_type": "stream",
     "text": [
      "Phase 1!\n",
      "Phase 1!\n",
      "Phase 1!\n",
      "Phase 1!\n",
      "Phase 2!\n",
      "Phase 1!\n",
      "Phase 1!\n",
      "Phase 2!\n",
      "Phase 3!\n"
     ]
    },
    {
     "data": {
      "image/png": "[encoded data removed]",
      "text/plain": [
       "<Figure size 432x288 with 1 Axes>"
      ]
     },
     "metadata": {
      "needs_background": "light"
     },
     "output_type": "display_data"
    }
   ],
   "source": [
    "trace = TRACES[2]\n",
    "\n",
    "stable = ftPjRG2(TRACES[6], window_start, 1000)\n",
    "\n",
    "fig, ax = plt.subplots()\n",
    "summarize = 1000\n",
    "_ll = trace.load()['latency_nano']\n",
    "new_len = len(_ll) // summarize\n",
    "\n",
    "ll = np.array([np.mean(_ll[i*summarize : (i+1)*summarize]) for i in range(new_len)])\n",
    "ax.plot(ll)\n",
    "ax.axvline(stable, color='red')\n",
    "fig.show()"
   ]
  },
  {
   "cell_type": "code",
   "execution_count": 392,
   "id": "3b2181d7",
   "metadata": {},
   "outputs": [
    {
     "name": "stdout",
     "output_type": "stream",
     "text": [
      "539546\n",
      "[start: 0, size: 100] -> [begin: 53954500, end: 53954600]\n",
      "100\n",
      "[start: 0, size: 100] -> [begin: 0, end: 200]\n",
      "200\n"
     ]
    }
   ],
   "source": [
    "ll = np.array(TRACES[6].load()['latency_nano'])\n",
    "_win = window2(ll, size=window_start)\n",
    "print(len(ll) // window_start)\n",
    "print(len(_win.get(539545, debug=True)))\n",
    "\n",
    "print(len(_win.get_range(0, 1, debug=True)))\n",
    "\n",
    "\n"
   ]
  },
  {
   "cell_type": "code",
   "execution_count": 258,
   "id": "679e286a",
   "metadata": {},
   "outputs": [],
   "source": [
    "@jit\n",
    "def select(arr, window, start, end):\n",
    "    return arr[start*window:end*window]\n",
    "\n",
    "def slope_test(lat, window, lag):\n",
    "    nwindows = len(lat)//window\n",
    "    slopes = []\n",
    "    for i in range(nwindows-lag):\n",
    "        st = stats.linregress([*range(lag*window)],select(lat, window, i, i+lag))\n",
    "        slopes.append(st.slope)\n",
    "    return slopes\n",
    "        \n",
    "\n",
    "ll = np.array(TRACES[6].load()['latency_nano'], dtype=np.int64)\n",
    "slopes = slope_test(ll, 10000, 5)"
   ]
  },
  {
   "cell_type": "code",
   "execution_count": 248,
   "id": "f824ae21",
   "metadata": {},
   "outputs": [
    {
     "data": {
      "text/plain": [
       "array([False,  True,  True,  True,  True,  True,  True,  True, False,\n",
       "        True,  True, False, False, False, False, False, False, False,\n",
       "       False,  True,  True,  True,  True,  True,  True,  True,  True,\n",
       "        True,  True,  True,  True,  True,  True,  True,  True,  True,\n",
       "        True,  True,  True,  True])"
      ]
     },
     "execution_count": 248,
     "metadata": {},
     "output_type": "execute_result"
    }
   ],
   "source": [
    "sl = slopes[:40]\n",
    "np.abs(sl)<0.000001"
   ]
  },
  {
   "cell_type": "code",
   "execution_count": 259,
   "id": "6b891212",
   "metadata": {},
   "outputs": [
    {
     "data": {
      "text/plain": [
       "[<matplotlib.lines.Line2D at 0x7f854059d588>]"
      ]
     },
     "execution_count": 259,
     "metadata": {},
     "output_type": "execute_result"
    },
    {
     "data": {
      "image/png": "[encoded data removed]",
      "text/plain": [
       "<Figure size 432x288 with 1 Axes>"
      ]
     },
     "metadata": {
      "needs_background": "light"
     },
     "output_type": "display_data"
    }
   ],
   "source": [
    "plt.plot(slopes)"
   ]
  },
  {
   "cell_type": "code",
   "execution_count": 264,
   "id": "f24ee2c9",
   "metadata": {},
   "outputs": [],
   "source": [
    "def slope_plot(ax, t, interval_len):\n",
    "    #ov = np.mean(series)\n",
    "    #print(f'loading {t.name}')\n",
    "    df = t.load(persist=True)\n",
    "    series = df['latency_nano']\n",
    "\n",
    "    nintervals = len(series)//interval_len\n",
    "    slopes = slope_test(np.array(series), interval_len, 5)\n",
    "    ax.plot(slopes, color='black', markersize=1)\n",
    "    #ax.set_xticks([nintervals//2, nintervals])\n",
    "    ax.text(nintervals//2, 15, t.name, ha='center')\n",
    "    reformat_ax(ax)\n",
    "    \n",
    "    \n",
    "    return\n",
    "    # Add background patch - ISSUE: They are too tall\n",
    "    color = Pastel1[9] #['#daffd2', '#ffc5d3']\n",
    "    intervals = get_phase_changes(np.array(df['phase']), interval_len)\n",
    "\n",
    "    #for start, end, phase in intervals:\n",
    "    #    ax.axvline(start)\n",
    "    #for start, end, phase in intervals:\n",
    "    #    rectangle = matplotlib.patches.Rectangle((start, 0), end - start, 15, facecolor=color[phase%len(color)])\n",
    "    #    ax.add_patch(rectangle)\n"
   ]
  },
  {
   "cell_type": "code",
   "execution_count": 265,
   "id": "ce72a3d7",
   "metadata": {},
   "outputs": [
    {
     "ename": "ValueError",
     "evalue": "Image size of 705x38884464 pixels is too large. It must be less than 2^16 in each direction.",
     "output_type": "error",
     "traceback": [
      "\u001b[0;31m---------------------------------------------------------------------------\u001b[0m",
      "\u001b[0;31mValueError\u001b[0m                                Traceback (most recent call last)",
      "\u001b[0;32m~/sst/venv/lib64/python3.6/site-packages/IPython/core/formatters.py\u001b[0m in \u001b[0;36m__call__\u001b[0;34m(self, obj)\u001b[0m\n\u001b[1;32m    339\u001b[0m                 \u001b[0;32mpass\u001b[0m\u001b[0;34m\u001b[0m\u001b[0;34m\u001b[0m\u001b[0m\n\u001b[1;32m    340\u001b[0m             \u001b[0;32melse\u001b[0m\u001b[0;34m:\u001b[0m\u001b[0;34m\u001b[0m\u001b[0;34m\u001b[0m\u001b[0m\n\u001b[0;32m--> 341\u001b[0;31m                 \u001b[0;32mreturn\u001b[0m \u001b[0mprinter\u001b[0m\u001b[0;34m(\u001b[0m\u001b[0mobj\u001b[0m\u001b[0;34m)\u001b[0m\u001b[0;34m\u001b[0m\u001b[0;34m\u001b[0m\u001b[0m\n\u001b[0m\u001b[1;32m    342\u001b[0m             \u001b[0;31m# Finally look for special method names\u001b[0m\u001b[0;34m\u001b[0m\u001b[0;34m\u001b[0m\u001b[0;34m\u001b[0m\u001b[0m\n\u001b[1;32m    343\u001b[0m             \u001b[0mmethod\u001b[0m \u001b[0;34m=\u001b[0m \u001b[0mget_real_method\u001b[0m\u001b[0;34m(\u001b[0m\u001b[0mobj\u001b[0m\u001b[0;34m,\u001b[0m \u001b[0mself\u001b[0m\u001b[0;34m.\u001b[0m\u001b[0mprint_method\u001b[0m\u001b[0;34m)\u001b[0m\u001b[0;34m\u001b[0m\u001b[0;34m\u001b[0m\u001b[0m\n",
      "\u001b[0;32m~/sst/venv/lib64/python3.6/site-packages/IPython/core/pylabtools.py\u001b[0m in \u001b[0;36m<lambda>\u001b[0;34m(fig)\u001b[0m\n\u001b[1;32m    246\u001b[0m \u001b[0;34m\u001b[0m\u001b[0m\n\u001b[1;32m    247\u001b[0m     \u001b[0;32mif\u001b[0m \u001b[0;34m'png'\u001b[0m \u001b[0;32min\u001b[0m \u001b[0mformats\u001b[0m\u001b[0;34m:\u001b[0m\u001b[0;34m\u001b[0m\u001b[0;34m\u001b[0m\u001b[0m\n\u001b[0;32m--> 248\u001b[0;31m         \u001b[0mpng_formatter\u001b[0m\u001b[0;34m.\u001b[0m\u001b[0mfor_type\u001b[0m\u001b[0;34m(\u001b[0m\u001b[0mFigure\u001b[0m\u001b[0;34m,\u001b[0m \u001b[0;32mlambda\u001b[0m \u001b[0mfig\u001b[0m\u001b[0;34m:\u001b[0m \u001b[0mprint_figure\u001b[0m\u001b[0;34m(\u001b[0m\u001b[0mfig\u001b[0m\u001b[0;34m,\u001b[0m \u001b[0;34m'png'\u001b[0m\u001b[0;34m,\u001b[0m \u001b[0;34m**\u001b[0m\u001b[0mkwargs\u001b[0m\u001b[0;34m)\u001b[0m\u001b[0;34m)\u001b[0m\u001b[0;34m\u001b[0m\u001b[0;34m\u001b[0m\u001b[0m\n\u001b[0m\u001b[1;32m    249\u001b[0m     \u001b[0;32mif\u001b[0m \u001b[0;34m'retina'\u001b[0m \u001b[0;32min\u001b[0m \u001b[0mformats\u001b[0m \u001b[0;32mor\u001b[0m \u001b[0;34m'png2x'\u001b[0m \u001b[0;32min\u001b[0m \u001b[0mformats\u001b[0m\u001b[0;34m:\u001b[0m\u001b[0;34m\u001b[0m\u001b[0;34m\u001b[0m\u001b[0m\n\u001b[1;32m    250\u001b[0m         \u001b[0mpng_formatter\u001b[0m\u001b[0;34m.\u001b[0m\u001b[0mfor_type\u001b[0m\u001b[0;34m(\u001b[0m\u001b[0mFigure\u001b[0m\u001b[0;34m,\u001b[0m \u001b[0;32mlambda\u001b[0m \u001b[0mfig\u001b[0m\u001b[0;34m:\u001b[0m \u001b[0mretina_figure\u001b[0m\u001b[0;34m(\u001b[0m\u001b[0mfig\u001b[0m\u001b[0;34m,\u001b[0m \u001b[0;34m**\u001b[0m\u001b[0mkwargs\u001b[0m\u001b[0;34m)\u001b[0m\u001b[0;34m)\u001b[0m\u001b[0;34m\u001b[0m\u001b[0;34m\u001b[0m\u001b[0m\n",
      "\u001b[0;32m~/sst/venv/lib64/python3.6/site-packages/IPython/core/pylabtools.py\u001b[0m in \u001b[0;36mprint_figure\u001b[0;34m(fig, fmt, bbox_inches, **kwargs)\u001b[0m\n\u001b[1;32m    130\u001b[0m         \u001b[0mFigureCanvasBase\u001b[0m\u001b[0;34m(\u001b[0m\u001b[0mfig\u001b[0m\u001b[0;34m)\u001b[0m\u001b[0;34m\u001b[0m\u001b[0;34m\u001b[0m\u001b[0m\n\u001b[1;32m    131\u001b[0m \u001b[0;34m\u001b[0m\u001b[0m\n\u001b[0;32m--> 132\u001b[0;31m     \u001b[0mfig\u001b[0m\u001b[0;34m.\u001b[0m\u001b[0mcanvas\u001b[0m\u001b[0;34m.\u001b[0m\u001b[0mprint_figure\u001b[0m\u001b[0;34m(\u001b[0m\u001b[0mbytes_io\u001b[0m\u001b[0;34m,\u001b[0m \u001b[0;34m**\u001b[0m\u001b[0mkw\u001b[0m\u001b[0;34m)\u001b[0m\u001b[0;34m\u001b[0m\u001b[0;34m\u001b[0m\u001b[0m\n\u001b[0m\u001b[1;32m    133\u001b[0m     \u001b[0mdata\u001b[0m \u001b[0;34m=\u001b[0m \u001b[0mbytes_io\u001b[0m\u001b[0;34m.\u001b[0m\u001b[0mgetvalue\u001b[0m\u001b[0;34m(\u001b[0m\u001b[0;34m)\u001b[0m\u001b[0;34m\u001b[0m\u001b[0;34m\u001b[0m\u001b[0m\n\u001b[1;32m    134\u001b[0m     \u001b[0;32mif\u001b[0m \u001b[0mfmt\u001b[0m \u001b[0;34m==\u001b[0m \u001b[0;34m'svg'\u001b[0m\u001b[0;34m:\u001b[0m\u001b[0;34m\u001b[0m\u001b[0;34m\u001b[0m\u001b[0m\n",
      "\u001b[0;32m~/sst/venv/lib64/python3.6/site-packages/matplotlib/backend_bases.py\u001b[0m in \u001b[0;36mprint_figure\u001b[0;34m(self, filename, dpi, facecolor, edgecolor, orientation, format, bbox_inches, pad_inches, bbox_extra_artists, backend, **kwargs)\u001b[0m\n\u001b[1;32m   2215\u001b[0m                     \u001b[0morientation\u001b[0m\u001b[0;34m=\u001b[0m\u001b[0morientation\u001b[0m\u001b[0;34m,\u001b[0m\u001b[0;34m\u001b[0m\u001b[0;34m\u001b[0m\u001b[0m\n\u001b[1;32m   2216\u001b[0m                     \u001b[0mbbox_inches_restore\u001b[0m\u001b[0;34m=\u001b[0m\u001b[0m_bbox_inches_restore\u001b[0m\u001b[0;34m,\u001b[0m\u001b[0;34m\u001b[0m\u001b[0;34m\u001b[0m\u001b[0m\n\u001b[0;32m-> 2217\u001b[0;31m                     **kwargs)\n\u001b[0m\u001b[1;32m   2218\u001b[0m             \u001b[0;32mfinally\u001b[0m\u001b[0;34m:\u001b[0m\u001b[0;34m\u001b[0m\u001b[0;34m\u001b[0m\u001b[0m\n\u001b[1;32m   2219\u001b[0m                 \u001b[0;32mif\u001b[0m \u001b[0mbbox_inches\u001b[0m \u001b[0;32mand\u001b[0m \u001b[0mrestore_bbox\u001b[0m\u001b[0;34m:\u001b[0m\u001b[0;34m\u001b[0m\u001b[0;34m\u001b[0m\u001b[0m\n",
      "\u001b[0;32m~/sst/venv/lib64/python3.6/site-packages/matplotlib/backend_bases.py\u001b[0m in \u001b[0;36mwrapper\u001b[0;34m(*args, **kwargs)\u001b[0m\n\u001b[1;32m   1637\u001b[0m             \u001b[0mkwargs\u001b[0m\u001b[0;34m.\u001b[0m\u001b[0mpop\u001b[0m\u001b[0;34m(\u001b[0m\u001b[0marg\u001b[0m\u001b[0;34m)\u001b[0m\u001b[0;34m\u001b[0m\u001b[0;34m\u001b[0m\u001b[0m\n\u001b[1;32m   1638\u001b[0m \u001b[0;34m\u001b[0m\u001b[0m\n\u001b[0;32m-> 1639\u001b[0;31m         \u001b[0;32mreturn\u001b[0m \u001b[0mfunc\u001b[0m\u001b[0;34m(\u001b[0m\u001b[0;34m*\u001b[0m\u001b[0margs\u001b[0m\u001b[0;34m,\u001b[0m \u001b[0;34m**\u001b[0m\u001b[0mkwargs\u001b[0m\u001b[0;34m)\u001b[0m\u001b[0;34m\u001b[0m\u001b[0;34m\u001b[0m\u001b[0m\n\u001b[0m\u001b[1;32m   1640\u001b[0m \u001b[0;34m\u001b[0m\u001b[0m\n\u001b[1;32m   1641\u001b[0m     \u001b[0;32mreturn\u001b[0m \u001b[0mwrapper\u001b[0m\u001b[0;34m\u001b[0m\u001b[0;34m\u001b[0m\u001b[0m\n",
      "\u001b[0;32m~/sst/venv/lib64/python3.6/site-packages/matplotlib/backends/backend_agg.py\u001b[0m in \u001b[0;36mprint_png\u001b[0;34m(self, filename_or_obj, metadata, pil_kwargs, *args)\u001b[0m\n\u001b[1;32m    507\u001b[0m             \u001b[0;34m*\u001b[0m\u001b[0mmetadata\u001b[0m\u001b[0;34m*\u001b[0m\u001b[0;34m,\u001b[0m \u001b[0mincluding\u001b[0m \u001b[0mthe\u001b[0m \u001b[0mdefault\u001b[0m \u001b[0;34m'Software'\u001b[0m \u001b[0mkey\u001b[0m\u001b[0;34m.\u001b[0m\u001b[0;34m\u001b[0m\u001b[0;34m\u001b[0m\u001b[0m\n\u001b[1;32m    508\u001b[0m         \"\"\"\n\u001b[0;32m--> 509\u001b[0;31m         \u001b[0mFigureCanvasAgg\u001b[0m\u001b[0;34m.\u001b[0m\u001b[0mdraw\u001b[0m\u001b[0;34m(\u001b[0m\u001b[0mself\u001b[0m\u001b[0;34m)\u001b[0m\u001b[0;34m\u001b[0m\u001b[0;34m\u001b[0m\u001b[0m\n\u001b[0m\u001b[1;32m    510\u001b[0m         mpl.image.imsave(\n\u001b[1;32m    511\u001b[0m             \u001b[0mfilename_or_obj\u001b[0m\u001b[0;34m,\u001b[0m \u001b[0mself\u001b[0m\u001b[0;34m.\u001b[0m\u001b[0mbuffer_rgba\u001b[0m\u001b[0;34m(\u001b[0m\u001b[0;34m)\u001b[0m\u001b[0;34m,\u001b[0m \u001b[0mformat\u001b[0m\u001b[0;34m=\u001b[0m\u001b[0;34m\"png\"\u001b[0m\u001b[0;34m,\u001b[0m \u001b[0morigin\u001b[0m\u001b[0;34m=\u001b[0m\u001b[0;34m\"upper\"\u001b[0m\u001b[0;34m,\u001b[0m\u001b[0;34m\u001b[0m\u001b[0;34m\u001b[0m\u001b[0m\n",
      "\u001b[0;32m~/sst/venv/lib64/python3.6/site-packages/matplotlib/backends/backend_agg.py\u001b[0m in \u001b[0;36mdraw\u001b[0;34m(self)\u001b[0m\n\u001b[1;32m    400\u001b[0m     \u001b[0;32mdef\u001b[0m \u001b[0mdraw\u001b[0m\u001b[0;34m(\u001b[0m\u001b[0mself\u001b[0m\u001b[0;34m)\u001b[0m\u001b[0;34m:\u001b[0m\u001b[0;34m\u001b[0m\u001b[0;34m\u001b[0m\u001b[0m\n\u001b[1;32m    401\u001b[0m         \u001b[0;31m# docstring inherited\u001b[0m\u001b[0;34m\u001b[0m\u001b[0;34m\u001b[0m\u001b[0;34m\u001b[0m\u001b[0m\n\u001b[0;32m--> 402\u001b[0;31m         \u001b[0mself\u001b[0m\u001b[0;34m.\u001b[0m\u001b[0mrenderer\u001b[0m \u001b[0;34m=\u001b[0m \u001b[0mself\u001b[0m\u001b[0;34m.\u001b[0m\u001b[0mget_renderer\u001b[0m\u001b[0;34m(\u001b[0m\u001b[0mcleared\u001b[0m\u001b[0;34m=\u001b[0m\u001b[0;32mTrue\u001b[0m\u001b[0;34m)\u001b[0m\u001b[0;34m\u001b[0m\u001b[0;34m\u001b[0m\u001b[0m\n\u001b[0m\u001b[1;32m    403\u001b[0m         \u001b[0;31m# Acquire a lock on the shared font cache.\u001b[0m\u001b[0;34m\u001b[0m\u001b[0;34m\u001b[0m\u001b[0;34m\u001b[0m\u001b[0m\n\u001b[1;32m    404\u001b[0m         \u001b[0;32mwith\u001b[0m \u001b[0mRendererAgg\u001b[0m\u001b[0;34m.\u001b[0m\u001b[0mlock\u001b[0m\u001b[0;34m,\u001b[0m\u001b[0;31m \u001b[0m\u001b[0;31m\\\u001b[0m\u001b[0;34m\u001b[0m\u001b[0;34m\u001b[0m\u001b[0m\n",
      "\u001b[0;32m~/sst/venv/lib64/python3.6/site-packages/matplotlib/backends/backend_agg.py\u001b[0m in \u001b[0;36mget_renderer\u001b[0;34m(self, cleared)\u001b[0m\n\u001b[1;32m    416\u001b[0m                           and getattr(self, \"_lastKey\", None) == key)\n\u001b[1;32m    417\u001b[0m         \u001b[0;32mif\u001b[0m \u001b[0;32mnot\u001b[0m \u001b[0mreuse_renderer\u001b[0m\u001b[0;34m:\u001b[0m\u001b[0;34m\u001b[0m\u001b[0;34m\u001b[0m\u001b[0m\n\u001b[0;32m--> 418\u001b[0;31m             \u001b[0mself\u001b[0m\u001b[0;34m.\u001b[0m\u001b[0mrenderer\u001b[0m \u001b[0;34m=\u001b[0m \u001b[0mRendererAgg\u001b[0m\u001b[0;34m(\u001b[0m\u001b[0mw\u001b[0m\u001b[0;34m,\u001b[0m \u001b[0mh\u001b[0m\u001b[0;34m,\u001b[0m \u001b[0mself\u001b[0m\u001b[0;34m.\u001b[0m\u001b[0mfigure\u001b[0m\u001b[0;34m.\u001b[0m\u001b[0mdpi\u001b[0m\u001b[0;34m)\u001b[0m\u001b[0;34m\u001b[0m\u001b[0;34m\u001b[0m\u001b[0m\n\u001b[0m\u001b[1;32m    419\u001b[0m             \u001b[0mself\u001b[0m\u001b[0;34m.\u001b[0m\u001b[0m_lastKey\u001b[0m \u001b[0;34m=\u001b[0m \u001b[0mkey\u001b[0m\u001b[0;34m\u001b[0m\u001b[0;34m\u001b[0m\u001b[0m\n\u001b[1;32m    420\u001b[0m         \u001b[0;32melif\u001b[0m \u001b[0mcleared\u001b[0m\u001b[0;34m:\u001b[0m\u001b[0;34m\u001b[0m\u001b[0;34m\u001b[0m\u001b[0m\n",
      "\u001b[0;32m~/sst/venv/lib64/python3.6/site-packages/matplotlib/backends/backend_agg.py\u001b[0m in \u001b[0;36m__init__\u001b[0;34m(self, width, height, dpi)\u001b[0m\n\u001b[1;32m     94\u001b[0m         \u001b[0mself\u001b[0m\u001b[0;34m.\u001b[0m\u001b[0mwidth\u001b[0m \u001b[0;34m=\u001b[0m \u001b[0mwidth\u001b[0m\u001b[0;34m\u001b[0m\u001b[0;34m\u001b[0m\u001b[0m\n\u001b[1;32m     95\u001b[0m         \u001b[0mself\u001b[0m\u001b[0;34m.\u001b[0m\u001b[0mheight\u001b[0m \u001b[0;34m=\u001b[0m \u001b[0mheight\u001b[0m\u001b[0;34m\u001b[0m\u001b[0;34m\u001b[0m\u001b[0m\n\u001b[0;32m---> 96\u001b[0;31m         \u001b[0mself\u001b[0m\u001b[0;34m.\u001b[0m\u001b[0m_renderer\u001b[0m \u001b[0;34m=\u001b[0m \u001b[0m_RendererAgg\u001b[0m\u001b[0;34m(\u001b[0m\u001b[0mint\u001b[0m\u001b[0;34m(\u001b[0m\u001b[0mwidth\u001b[0m\u001b[0;34m)\u001b[0m\u001b[0;34m,\u001b[0m \u001b[0mint\u001b[0m\u001b[0;34m(\u001b[0m\u001b[0mheight\u001b[0m\u001b[0;34m)\u001b[0m\u001b[0;34m,\u001b[0m \u001b[0mdpi\u001b[0m\u001b[0;34m)\u001b[0m\u001b[0;34m\u001b[0m\u001b[0;34m\u001b[0m\u001b[0m\n\u001b[0m\u001b[1;32m     97\u001b[0m         \u001b[0mself\u001b[0m\u001b[0;34m.\u001b[0m\u001b[0m_filter_renderers\u001b[0m \u001b[0;34m=\u001b[0m \u001b[0;34m[\u001b[0m\u001b[0;34m]\u001b[0m\u001b[0;34m\u001b[0m\u001b[0;34m\u001b[0m\u001b[0m\n\u001b[1;32m     98\u001b[0m \u001b[0;34m\u001b[0m\u001b[0m\n",
      "\u001b[0;31mValueError\u001b[0m: Image size of 705x38884464 pixels is too large. It must be less than 2^16 in each direction."
     ]
    },
    {
     "data": {
      "text/plain": [
       "<Figure size 864x864 with 30 Axes>"
      ]
     },
     "metadata": {},
     "output_type": "display_data"
    }
   ],
   "source": [
    "mapper = Mapper(len(TRACES))\n",
    "fig = mapper.fig\n",
    "#fig, axs = plt.subplots(nrows=remap.smallest_sq, ncols = remap.smallest_sq, sharey=True)\n",
    "\n",
    "interval_len = 100000\n",
    "for i, t in enumerate(TRACES):\n",
    "    slope_plot(mapper[i], t, 100000)\n",
    "fig.set_size_inches((2*remap.smallest_sq, 2*remap.smallest_sq))\n",
    "fig.patch.set_facecolor('white')\n",
    "#fig.suptitle(f'Average latency (ns) per {interval_len} instruction interval (manual phases)')\n",
    "#plt.savefig(f'plots/mean-latency-per-interval-{interval_len}-2.png')\n",
    "plt.show()"
   ]
  },
  {
   "cell_type": "code",
   "execution_count": 305,
   "id": "bfaf3b4a",
   "metadata": {},
   "outputs": [
    {
     "ename": "SyntaxError",
     "evalue": "invalid syntax (<ipython-input-305-2eb0ce13850d>, line 2)",
     "output_type": "error",
     "traceback": [
      "\u001b[0;36m  File \u001b[0;32m\"<ipython-input-305-2eb0ce13850d>\"\u001b[0;36m, line \u001b[0;32m2\u001b[0m\n\u001b[0;31m    match aa:\u001b[0m\n\u001b[0m           ^\u001b[0m\n\u001b[0;31mSyntaxError\u001b[0m\u001b[0;31m:\u001b[0m invalid syntax\n"
     ]
    }
   ],
   "source": []
  },
  {
   "cell_type": "code",
   "execution_count": null,
   "id": "7906319e",
   "metadata": {},
   "outputs": [],
   "source": []
  }
 ],
 "metadata": {
  "kernelspec": {
   "display_name": "sst",
   "language": "python",
   "name": "sst"
  },
  "language_info": {
   "codemirror_mode": {
    "name": "ipython",
    "version": 3
   },
   "file_extension": ".py",
   "mimetype": "text/x-python",
   "name": "python",
   "nbconvert_exporter": "python",
   "pygments_lexer": "ipython3",
   "version": "3.6.8"
  }
 },
 "nbformat": 4,
 "nbformat_minor": 5
}
