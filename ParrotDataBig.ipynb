{
 "cells": [
  {
   "cell_type": "markdown",
   "id": "e031c1b2-071c-4feb-99f2-ef820be4be70",
   "metadata": {},
   "source": [
    "# Big Traces\n",
    "\n",
    "This notebook is more optimized for handling large traces and focuses on easy to compute plots and metrics."
   ]
  },
  {
   "cell_type": "code",
   "execution_count": 1,
   "id": "a85d978d-ba1e-4012-9f6f-289923828f53",
   "metadata": {
    "tags": []
   },
   "outputs": [],
   "source": [
    "# Built-in modules\n",
    "import os\n",
    "import sys\n",
    "import time\n",
    "import statistics\n",
    "from dataclasses import dataclass\n",
    "\n",
    "# External modules\n",
    "import scipy\n",
    "import numpy as np\n",
    "import pandas as pd\n",
    "from numba import jit\n",
    "import matplotlib\n",
    "import matplotlib.pyplot as plt\n",
    "from sklearn.linear_model import LinearRegression\n",
    "from bokeh.palettes import Pastel1\n",
    "\n",
    "# Local modules\n",
    "from Window import Window\n",
    "from Mapper import Mapper\n",
    "from Trace  import TraceList"
   ]
  },
  {
   "cell_type": "code",
   "execution_count": 2,
   "id": "b76c6b9c-bc37-4367-a73c-7e798b2ce8bb",
   "metadata": {},
   "outputs": [],
   "source": [
    "DATA_DIR = 'parrot-traces/medium-100ms-manualpd/'"
   ]
  },
  {
   "cell_type": "code",
   "execution_count": 3,
   "id": "9c468641",
   "metadata": {},
   "outputs": [],
   "source": [
    "TRACES = TraceList(DATA_DIR, max_files=4)"
   ]
  },
  {
   "cell_type": "code",
   "execution_count": 4,
   "id": "234d0320",
   "metadata": {},
   "outputs": [
    {
     "name": "stdout",
     "output_type": "stream",
     "text": [
      "Directory: parrot-traces/medium-100ms-manualpd/\n",
      "Files:     durbin gemver mvt syr2k\n"
     ]
    }
   ],
   "source": [
    "print('Directory:'.ljust(10), DATA_DIR)\n",
    "print('Files:'.ljust(10), TRACES)"
   ]
  },
  {
   "cell_type": "code",
   "execution_count": 5,
   "id": "94810a36-b55a-4381-94ee-16049eef541a",
   "metadata": {},
   "outputs": [
    {
     "name": "stdout",
     "output_type": "stream",
     "text": [
      "CPU times: user 17.1 s, sys: 2.51 s, total: 19.6 s\n",
      "Wall time: 19.6 s\n"
     ]
    }
   ],
   "source": [
    "%%time\n",
    "TRACES.load() # Load the traces into memory. Optional. Skip if all traces can't fit into memory at once"
   ]
  },
  {
   "cell_type": "code",
   "execution_count": 6,
   "id": "9c52e9f7-5f21-4479-8b86-006b94078da6",
   "metadata": {},
   "outputs": [],
   "source": [
    "@jit\n",
    "def get_phase_changes(phases):\n",
    "    pc = []\n",
    "    for i in range(len(phases)-1):\n",
    "        if phases[i] != phases[i+1]:\n",
    "            pc.append(i)\n",
    "    return pc\n",
    "\n",
    "def reformat_ax(ax):\n",
    "    ax.spines['top'].set_visible(False)\n",
    "    ax.spines['right'].set_visible(False)\n",
    "    \n",
    "@jit\n",
    "def get_phase_changes(arr, interval_len):\n",
    "    marker = 0\n",
    "    #changes = {0:arr[0]}\n",
    "    intervals = []\n",
    "    for i in range(len(arr)-1):\n",
    "        if arr[i] != arr[i+1]:\n",
    "            intervals.append([marker, i//interval_len, arr[i]])\n",
    "            marker = i//interval_len\n",
    "    intervals.append([marker, i//interval_len, arr[-1]])\n",
    "    return intervals    \n",
    "\n",
    "def latency_phase_plot(ax, t, interval_len):\n",
    "\n",
    "    # Get latency data\n",
    "    df = t.load(persist=True)\n",
    "    series = df['latency_nano']\n",
    "\n",
    "    # We will average over intervals. Calculate how many intervals of size interval_len there are\n",
    "    nintervals = len(series)//interval_len\n",
    "    peri = [np.mean(series[i*interval_len : (i+1)*interval_len]) for i in range(nintervals)]\n",
    "    \n",
    "    # Plot\n",
    "    ax.plot(peri, color='black', markersize=1)\n",
    "    \n",
    "    # Add benchmark name\n",
    "    ax.text(nintervals//2, 15, t.name, ha='center')\n",
    "    \n",
    "    # Formatting\n",
    "    reformat_ax(ax)\n",
    "    ax.set_xticks([nintervals//2, nintervals])\n",
    "\n",
    "    \n",
    "    # Add background patches for each interval\n",
    "    color = Pastel1[9]\n",
    "    intervals = get_phase_changes(np.array(df['phase']), interval_len)\n",
    "    for start, end, phase in intervals:\n",
    "        rectangle = matplotlib.patches.Rectangle((start, 0), end - start, 15, facecolor=color[phase%len(color)])\n",
    "        ax.add_patch(rectangle)"
   ]
  },
  {
   "cell_type": "code",
   "execution_count": 7,
   "id": "3e55859b",
   "metadata": {},
   "outputs": [],
   "source": [
    "def plot_all(traces, plotter, param, suptitle, filename=None):\n",
    "    mapper = Mapper(len(traces)) \n",
    "    fig = mapper.fig\n",
    "    \n",
    "    for i, t in enumerate(traces):\n",
    "        plotter(mapper[i], t, param)\n",
    "        \n",
    "    fig.set_size_inches((3*mapper.smallest_sq, 2*mapper.smallest_sq))\n",
    "    fig.patch.set_facecolor('white')\n",
    "    fig.suptitle(suptitle)\n",
    "    if filename is not None:\n",
    "        fig.savefig(filename)\n",
    "    plt.show()"
   ]
  },
  {
   "cell_type": "code",
   "execution_count": 8,
   "id": "6af632e3",
   "metadata": {
    "scrolled": false
   },
   "outputs": [
    {
     "data": {
      "image/png": "[encoded data removed]",
      "text/plain": [
       "<Figure size 432x288 with 4 Axes>"
      ]
     },
     "metadata": {},
     "output_type": "display_data"
    }
   ],
   "source": [
    "interval_len = 100000\n",
    "title = f'Average latency (ns) per {interval_len} instruction interval (manual phases)'\n",
    "plot_all(TRACES, latency_phase_plot, interval_len, title)"
   ]
  },
  {
   "cell_type": "code",
   "execution_count": 9,
   "id": "4fd676ad",
   "metadata": {
    "scrolled": true
   },
   "outputs": [
    {
     "name": "stdout",
     "output_type": "stream",
     "text": [
      "[[0, 0, -1], [0, 27, 0]]\n",
      "CPU times: user 13.2 ms, sys: 0 ns, total: 13.2 ms\n",
      "Wall time: 12.6 ms\n"
     ]
    }
   ],
   "source": [
    "%%time\n",
    "aa = np.array(TRACES[0].load()['phase'])\n",
    "print(get_phase_changes(aa, interval_len))"
   ]
  },
  {
   "cell_type": "code",
   "execution_count": 10,
   "id": "3809d507",
   "metadata": {},
   "outputs": [],
   "source": [
    "# A class for holding all of the parameters needed for the F-t-Pj-RG method\n",
    "@dataclass(frozen=True)\n",
    "class FTPJ: \n",
    "    # High-level parameters\n",
    "    window_start: int = 1000\n",
    "    summarize:    int = 1000\n",
    "    ms_init:      int = 10\n",
    "    debug:        bool = False\n",
    "    \n",
    "    # F-test parameters\n",
    "    f_conf:  float = 0.05\n",
    "    f_shift: int = 1\n",
    "    f_grow:  int = 1\n",
    "        \n",
    "    # t-test parameters\n",
    "    t_conf:  float = 0.05\n",
    "    t_shift: int = 1\n",
    "    t_grow:  int = 1\n",
    "    \n",
    "    # Projection test parameters\n",
    "    proj_dist:  int = 5\n",
    "    proj_delta: int = 1\n",
    "    p_shift:    int = 1\n",
    "    p_grow:     int = 1"
   ]
  },
  {
   "cell_type": "code",
   "execution_count": 11,
   "id": "4314ccc9",
   "metadata": {},
   "outputs": [],
   "source": [
    "def f_test(group1, group2) -> (np.float64, np.float64):\n",
    "    f = np.var(group1, ddof=1)/np.var(group2, ddof=1)\n",
    "    nun = group1.size-1\n",
    "    dun = group2.size-1\n",
    "    p_value = 1-scipy.stats.f.cdf(f, nun, dun)\n",
    "    return f, p_value"
   ]
  },
  {
   "cell_type": "code",
   "execution_count": 12,
   "id": "6dda03f1",
   "metadata": {},
   "outputs": [],
   "source": [
    "def ftPjRG2(df, window_start, summarize):\n",
    "    \n",
    "    params = FTPJ()\n",
    "    \n",
    "    latency = np.array(df.load()['latency_nano'], dtype=np.int64)\n",
    "    new_len = len(latency) // params.summarize\n",
    "    latency_summarized = np.array([np.mean(latency[i*params.summarize : (i+1)*params.summarize]) for i in range(new_len)])\n",
    "    win = Window(latency_summarized, size=params.window_start)\n",
    "    \n",
    "    win0 = None\n",
    "    win1 = None\n",
    "    ms  = params.ms_init\n",
    "    _phase = 1\n",
    "    \n",
    "    while(True):\n",
    "        if _phase == 1:\n",
    "            \n",
    "            if params.debug:\n",
    "                print('Phase 1!')\n",
    "                \n",
    "            # Update windows\n",
    "            win0 = win.get(0)\n",
    "            win1 = win.get(1)\n",
    "        \n",
    "            # If we have gone past the end of the input array, then we never reached a steady state\n",
    "            if win0 is None or win1 is None:\n",
    "                if params.debug:\n",
    "                    print('Never converged!')\n",
    "                return None\n",
    "        \n",
    "            # F-test\n",
    "            # Null hypothesis: windows have same variance\n",
    "            # Reject null: windows have different variance\n",
    "            f_val, f_pv = f_test(win0, win1)\n",
    "            if f_pv < params.f_conf: \n",
    "                win.shift_and_grow(params.f_shift, params.f_grow)\n",
    "                \n",
    "                if win.size < ms*params.window_start:\n",
    "                    continue\n",
    "                else:\n",
    "                    win.shift_and_reset(params.f_shift, params.window_start)\n",
    "                    ms = int(ms * g_m)\n",
    "                    continue # ADDED LINE\n",
    "            else:\n",
    "                _phase = 2\n",
    "                continue\n",
    "                \n",
    "\n",
    "        elif _phase == 2:\n",
    "            \n",
    "            if params.debug:\n",
    "                print('Phase 2!')\n",
    "                \n",
    "            # Null: windows have same mean\n",
    "            # Reject: windows have different mean\n",
    "            t_val, t_pv = scipy.stats.ttest_ind(win0, win1)\n",
    "            \n",
    "            if t_val < params.t_conf:\n",
    "                win.shift_and_grow(params.t_shift, params.t_grow)\n",
    "                _phase = 1\n",
    "                continue\n",
    "            else:\n",
    "                _phase = 3\n",
    "                continue\n",
    "\n",
    "        elif _phase == 3:\n",
    "            \n",
    "            if params.debug:\n",
    "                print('Phase 3!')\n",
    "                \n",
    "            win_combo = win.get_range(0, 1)\n",
    "            \n",
    "            lm = LinearRegression()\n",
    "            lm.fit(np.array(range(len(win_combo))).reshape(-1,1), win_combo.reshape(-1, 1))            \n",
    "            \n",
    "            x_star, y_true = win.get_point(params.proj_dist)\n",
    "            y_hat = lm.intercept_ + lm.coef_*x_star\n",
    "            y_hat = y_hat[0][0]\n",
    "            \n",
    "            if np.abs(y_hat - y_true) > params.proj_delta:\n",
    "                win.shift_and_grow(params.p_shift, params.p_grow)\n",
    "                _phase = 1\n",
    "                continue\n",
    "            \n",
    "            return win.start, win.size*2\n",
    "    \n",
    "        else:\n",
    "            print(f'Error - phase not recognized {_phase}')\n",
    "            sys.exit(1)"
   ]
  },
  {
   "cell_type": "code",
   "execution_count": 13,
   "id": "6e5456dd",
   "metadata": {},
   "outputs": [],
   "source": [
    "def ftpjrg_plot(ax, t, params):\n",
    "    \n",
    "    new_len = len(t.load()['latency_nano']) // params.summarize\n",
    "    _ll = t.load()['latency_nano']\n",
    "    ll = np.array([np.mean(_ll[i*params.summarize : (i+1)*params.summarize]) for i in range(new_len)])\n",
    "    ax.plot(ll)\n",
    "    \n",
    "    reformat_ax(ax)\n",
    "    ax.text(new_len//2, 60, t.name, ha='center')\n",
    "    \n",
    "    ret = ftPjRG2(t, params.window_start, params)\n",
    "    if ret is None:\n",
    "        return\n",
    "    stable, stable_size = ret\n",
    "    ax.axvline(stable, color='red')\n",
    "    ax.axvline(stable+stable_size, color='red')\n",
    "    "
   ]
  },
  {
   "cell_type": "code",
   "execution_count": 14,
   "id": "fbdf7db0",
   "metadata": {},
   "outputs": [
    {
     "data": {
      "image/png": "[encoded data removed]",
      "text/plain": [
       "<Figure size 432x288 with 4 Axes>"
      ]
     },
     "metadata": {},
     "output_type": "display_data"
    }
   ],
   "source": [
    "params = FTPJ()\n",
    "title = f'Average latency (ns) per {params.summarize} instruction interval (red bar indicates first stable interval)'\n",
    "plot_all(TRACES, ftpjrg_plot, params, title)"
   ]
  }
 ],
 "metadata": {
  "kernelspec": {
   "display_name": "sst",
   "language": "python",
   "name": "sst"
  },
  "language_info": {
   "codemirror_mode": {
    "name": "ipython",
    "version": 3
   },
   "file_extension": ".py",
   "mimetype": "text/x-python",
   "name": "python",
   "nbconvert_exporter": "python",
   "pygments_lexer": "ipython3",
   "version": "3.6.8"
  }
 },
 "nbformat": 4,
 "nbformat_minor": 5
}
